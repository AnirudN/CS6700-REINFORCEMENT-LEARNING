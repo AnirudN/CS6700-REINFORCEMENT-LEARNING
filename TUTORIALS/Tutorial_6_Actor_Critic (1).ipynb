{
  "cells": [
    {
      "cell_type": "markdown",
      "metadata": {
        "id": "ogYi-LuvgAEQ"
      },
      "source": [
        "# Tutorial: Actor Critic Implementation"
      ]
    },
    {
      "cell_type": "code",
      "execution_count": 1,
      "metadata": {
        "id": "020OsgLKgJoS"
      },
      "outputs": [],
      "source": [
        "#Import required libraries\n",
        "\n",
        "import argparse\n",
        "import gym\n",
        "import numpy as np\n",
        "from itertools import count\n",
        "from collections import namedtuple\n",
        "\n",
        "import torch\n",
        "import torch.nn as nn\n",
        "import torch.nn.functional as F\n",
        "import torch.optim as optim\n",
        "from torch.distributions import Categorical"
      ]
    },
    {
      "cell_type": "code",
      "execution_count": 2,
      "metadata": {
        "id": "BOx__gzXgP3T",
        "colab": {
          "base_uri": "https://localhost:8080/"
        },
        "outputId": "62f6f93b-afb7-4927-ca4d-fce94548938b"
      },
      "outputs": [
        {
          "output_type": "stream",
          "name": "stderr",
          "text": [
            "/usr/local/lib/python3.10/dist-packages/ipykernel/ipkernel.py:283: DeprecationWarning: `should_run_async` will not call `transform_cell` automatically in the future. Please pass the result to `transformed_cell` argument and any exception that happen during thetransform in `preprocessing_exc_tuple` in IPython 7.17 and above.\n",
            "  and should_run_async(code)\n",
            "/usr/local/lib/python3.10/dist-packages/gym/core.py:317: DeprecationWarning: \u001b[33mWARN: Initializing wrapper in old step API which returns one bool instead of two. It is recommended to set `new_step_api=True` to use new step API. This will be the default behaviour in future.\u001b[0m\n",
            "  deprecation(\n",
            "/usr/local/lib/python3.10/dist-packages/gym/wrappers/step_api_compatibility.py:39: DeprecationWarning: \u001b[33mWARN: Initializing environment in old step API which returns one bool instead of two. It is recommended to set `new_step_api=True` to use new step API. This will be the default behaviour in future.\u001b[0m\n",
            "  deprecation(\n"
          ]
        }
      ],
      "source": [
        "#Set constants for training\n",
        "seed = 543\n",
        "log_interval = 10\n",
        "gamma = 0.99\n",
        "\n",
        "env = gym.make('CartPole-v1')\n",
        "env.reset(seed=seed)\n",
        "torch.manual_seed(seed)\n",
        "\n",
        "SavedAction = namedtuple('SavedAction', ['log_prob', 'value'])\n"
      ]
    },
    {
      "cell_type": "code",
      "execution_count": 3,
      "metadata": {
        "id": "dYf6f8SBeQYo"
      },
      "outputs": [],
      "source": [
        "env = gym.make('CartPole-v1')\n",
        "env.reset(seed=seed)\n",
        "torch.manual_seed(seed)\n",
        "\n",
        "\n",
        "SavedAction = namedtuple('SavedAction', ['log_prob', 'value'])\n",
        "\n",
        "\n",
        "class Policy(nn.Module):\n",
        "    \"\"\"\n",
        "    implements both actor and critic in one model\n",
        "    \"\"\"\n",
        "    def __init__(self):\n",
        "        super(Policy, self).__init__()\n",
        "        self.affine1 = nn.Linear(4, 128)\n",
        "\n",
        "        # actor's layer\n",
        "        self.action_head = nn.Linear(128, 2)\n",
        "\n",
        "        # critic's layer\n",
        "        self.value_head = nn.Linear(128, 1)\n",
        "\n",
        "        # action & reward buffer\n",
        "        self.saved_actions = []\n",
        "        self.rewards = []\n",
        "\n",
        "    def forward(self, x):\n",
        "        \"\"\"\n",
        "        forward of both actor and critic\n",
        "        \"\"\"\n",
        "        x = F.relu(self.affine1(x))\n",
        "\n",
        "        # actor: choses action to take from state s_t\n",
        "        # by returning probability of each action\n",
        "        action_prob = F.softmax(self.action_head(x), dim=-1)\n",
        "\n",
        "        # critic: evaluates being in the state s_t\n",
        "        state_values = self.value_head(x)\n",
        "\n",
        "        # return values for both actor and critic as a tuple of 2 values:\n",
        "        # 1. a list with the probability of each action over the action space\n",
        "        # 2. the value from state s_t\n",
        "        return action_prob, state_values\n"
      ]
    },
    {
      "cell_type": "code",
      "execution_count": 4,
      "metadata": {
        "id": "i579JI1oi6dc"
      },
      "outputs": [],
      "source": [
        "model = Policy()\n",
        "optimizer = optim.Adam(model.parameters(), lr=3e-2)\n",
        "eps = np.finfo(np.float32).eps.item()"
      ]
    },
    {
      "cell_type": "code",
      "execution_count": 5,
      "metadata": {
        "id": "qrVieI21i3O9",
        "colab": {
          "base_uri": "https://localhost:8080/"
        },
        "outputId": "13589e48-bf51-48e6-a4fc-53a62dc3f27c"
      },
      "outputs": [
        {
          "output_type": "stream",
          "name": "stderr",
          "text": [
            "/usr/local/lib/python3.10/dist-packages/ipykernel/ipkernel.py:283: DeprecationWarning: `should_run_async` will not call `transform_cell` automatically in the future. Please pass the result to `transformed_cell` argument and any exception that happen during thetransform in `preprocessing_exc_tuple` in IPython 7.17 and above.\n",
            "  and should_run_async(code)\n"
          ]
        }
      ],
      "source": [
        "\n",
        "def select_action(state):\n",
        "    state = torch.from_numpy(state).float()\n",
        "    probs, state_value = model(state)\n",
        "\n",
        "    # create a categorical distribution over the list of probabilities of actions\n",
        "    m = Categorical(probs)\n",
        "\n",
        "    # and sample an action using the distribution\n",
        "    action = m.sample()\n",
        "\n",
        "    # save to action buffer\n",
        "    model.saved_actions.append(SavedAction(m.log_prob(action), state_value))\n",
        "\n",
        "    # the action to take (left or right)\n",
        "    return action.item()\n",
        "\n",
        "\n",
        "def finish_episode():\n",
        "    \"\"\"\n",
        "    Training code. Calculates actor and critic loss and performs backprop.\n",
        "    \"\"\"\n",
        "    R = 0\n",
        "    saved_actions = model.saved_actions\n",
        "    policy_losses = [] # list to save actor (policy) loss\n",
        "    value_losses = [] # list to save critic (value) loss\n",
        "    returns = [] # list to save the true values\n",
        "\n",
        "    # calculate the true value using rewards returned from the environment\n",
        "\n",
        "    for r in model.rewards[::-1]:\n",
        "        # calculate the discounted value\n",
        "        R = r + gamma * R\n",
        "        returns.insert(0, R)\n",
        "\n",
        "    returns = torch.tensor(returns)\n",
        "    returns = (returns - returns.mean()) / (returns.std() + eps)\n",
        "\n",
        "    for (log_prob, value), R in zip(saved_actions, returns):\n",
        "        advantage = R - value.item()\n",
        "\n",
        "        # calculate actor (policy) loss\n",
        "        policy_losses.append(-log_prob * advantage)\n",
        "\n",
        "        # calculate critic (value) loss using L1 smooth loss\n",
        "        value_losses.append(F.smooth_l1_loss(value, torch.tensor([R])))\n",
        "\n",
        "    # reset gradients\n",
        "    optimizer.zero_grad()\n",
        "\n",
        "    # sum up all the values of policy_losses and value_losses\n",
        "    loss = torch.stack(policy_losses).sum() + torch.stack(value_losses).sum()\n",
        "\n",
        "    # perform backprop\n",
        "    loss.backward()\n",
        "    optimizer.step()\n",
        "\n",
        "    # reset rewards and action buffer\n",
        "    del model.rewards[:]\n",
        "    del model.saved_actions[:]\n",
        "\n",
        "\n",
        "def train():\n",
        "    running_reward = 10\n",
        "\n",
        "    # run infinitely many episodes\n",
        "    for i_episode in range(20000):\n",
        "\n",
        "        # reset environment and episode reward\n",
        "        state = env.reset()\n",
        "        ep_reward = 0\n",
        "\n",
        "        # for each episode, only run 9999 steps so that we don't\n",
        "        # infinite loop while learning\n",
        "        for t in range(1, 10000):\n",
        "\n",
        "            # select action from policy\n",
        "            action = select_action(state)\n",
        "\n",
        "            # take the action\n",
        "            state, reward, done, _ = env.step(action)\n",
        "\n",
        "            model.rewards.append(reward)\n",
        "            ep_reward += reward\n",
        "            if done:\n",
        "                break\n",
        "\n",
        "        # update cumulative reward\n",
        "        running_reward = 0.05 * ep_reward + (1 - 0.05) * running_reward\n",
        "\n",
        "        # perform backprop\n",
        "        finish_episode()\n",
        "\n",
        "        # log results\n",
        "        if i_episode % log_interval == 0:\n",
        "            print('Episode {}\\tLast reward: {:.2f}\\tAverage reward: {:.2f}'.format(\n",
        "                  i_episode, ep_reward, running_reward))\n",
        "\n",
        "        # check if we have \"solved\" the cart pole problem\n",
        "        if running_reward > env.spec.reward_threshold:\n",
        "            print(\"Solved! Running reward is now {} and \"\n",
        "                  \"the last episode runs to {} time steps!\".format(running_reward, t))\n",
        "            break"
      ]
    },
    {
      "cell_type": "code",
      "execution_count": 6,
      "metadata": {
        "colab": {
          "base_uri": "https://localhost:8080/"
        },
        "id": "jUT3maPMlGi2",
        "outputId": "120b53be-ea02-4a9d-dd4b-88c4531e903c"
      },
      "outputs": [
        {
          "output_type": "stream",
          "name": "stderr",
          "text": [
            "/usr/local/lib/python3.10/dist-packages/gym/utils/passive_env_checker.py:241: DeprecationWarning: `np.bool8` is a deprecated alias for `np.bool_`.  (Deprecated NumPy 1.24)\n",
            "  if not isinstance(terminated, (bool, np.bool8)):\n"
          ]
        },
        {
          "output_type": "stream",
          "name": "stdout",
          "text": [
            "Episode 0\tLast reward: 22.00\tAverage reward: 10.60\n",
            "Episode 10\tLast reward: 28.00\tAverage reward: 16.78\n",
            "Episode 20\tLast reward: 42.00\tAverage reward: 33.66\n",
            "Episode 30\tLast reward: 21.00\tAverage reward: 31.73\n",
            "Episode 40\tLast reward: 26.00\tAverage reward: 29.00\n",
            "Episode 50\tLast reward: 150.00\tAverage reward: 64.74\n",
            "Episode 60\tLast reward: 85.00\tAverage reward: 87.97\n",
            "Episode 70\tLast reward: 234.00\tAverage reward: 153.18\n",
            "Episode 80\tLast reward: 44.00\tAverage reward: 144.46\n",
            "Episode 90\tLast reward: 44.00\tAverage reward: 101.80\n",
            "Episode 100\tLast reward: 133.00\tAverage reward: 89.91\n",
            "Episode 110\tLast reward: 60.00\tAverage reward: 88.15\n",
            "Episode 120\tLast reward: 339.00\tAverage reward: 178.64\n",
            "Episode 130\tLast reward: 105.00\tAverage reward: 177.38\n",
            "Episode 140\tLast reward: 34.00\tAverage reward: 138.97\n",
            "Episode 150\tLast reward: 500.00\tAverage reward: 155.96\n",
            "Episode 160\tLast reward: 500.00\tAverage reward: 267.45\n",
            "Episode 170\tLast reward: 500.00\tAverage reward: 360.77\n",
            "Episode 180\tLast reward: 140.00\tAverage reward: 312.40\n",
            "Episode 190\tLast reward: 119.00\tAverage reward: 242.36\n",
            "Episode 200\tLast reward: 154.00\tAverage reward: 202.31\n",
            "Episode 210\tLast reward: 240.00\tAverage reward: 192.62\n",
            "Episode 220\tLast reward: 500.00\tAverage reward: 307.03\n",
            "Episode 230\tLast reward: 500.00\tAverage reward: 357.78\n",
            "Episode 240\tLast reward: 500.00\tAverage reward: 390.83\n",
            "Episode 250\tLast reward: 500.00\tAverage reward: 421.68\n",
            "Episode 260\tLast reward: 165.00\tAverage reward: 428.27\n",
            "Episode 270\tLast reward: 500.00\tAverage reward: 438.85\n",
            "Episode 280\tLast reward: 500.00\tAverage reward: 452.60\n",
            "Episode 290\tLast reward: 500.00\tAverage reward: 471.62\n",
            "Solved! Running reward is now 475.6650523591305 and the last episode runs to 500 time steps!\n"
          ]
        }
      ],
      "source": [
        "train()"
      ]
    },
    {
      "cell_type": "markdown",
      "metadata": {
        "id": "lA2T0_22kK3g"
      },
      "source": [
        "# TODO: Write a policy class similar to the above, without using shared features for the actor and critic and compare their performance."
      ]
    },
    {
      "cell_type": "code",
      "execution_count": 7,
      "metadata": {
        "id": "qkE5fjLieZVg",
        "colab": {
          "base_uri": "https://localhost:8080/"
        },
        "outputId": "d6415cd4-673a-489b-f19d-db0c2d8b90e2"
      },
      "outputs": [
        {
          "output_type": "stream",
          "name": "stderr",
          "text": [
            "/usr/local/lib/python3.10/dist-packages/gym/core.py:317: DeprecationWarning: \u001b[33mWARN: Initializing wrapper in old step API which returns one bool instead of two. It is recommended to set `new_step_api=True` to use new step API. This will be the default behaviour in future.\u001b[0m\n",
            "  deprecation(\n",
            "/usr/local/lib/python3.10/dist-packages/gym/wrappers/step_api_compatibility.py:39: DeprecationWarning: \u001b[33mWARN: Initializing environment in old step API which returns one bool instead of two. It is recommended to set `new_step_api=True` to use new step API. This will be the default behaviour in future.\u001b[0m\n",
            "  deprecation(\n"
          ]
        }
      ],
      "source": [
        "\n",
        "#TODO: Write a policy class similar to the above, without using shared features for the actor and critic and compare their\n",
        "# performance.\n",
        "env = gym.make('CartPole-v1')\n",
        "env.reset(seed=seed)\n",
        "torch.manual_seed(seed)\n",
        "\n",
        "\n",
        "SavedAction = namedtuple('SavedAction', ['log_prob', 'value'])\n",
        "class UnsharedPolicy(nn.Module):\n",
        "  def __init__(self):\n",
        "    super(UnsharedPolicy, self).__init__()\n",
        "\n",
        "    #TODO: Fill in.\n",
        "    self.actor_layer = nn.Linear(4, 128)\n",
        "    self.critic_layer = nn.Linear(4, 128)\n",
        "    self.action_head = nn.Linear(128, 2)\n",
        "    self.value_head = nn.Linear(128, 1)\n",
        "    self.saved_actions = []\n",
        "    self.rewards = []\n",
        "\n",
        "  def forward(self, x):\n",
        "      # TODO: Fill in. For your networks, use the same hidden_size for the layers as the previous policy, that is 128.\n",
        "      x_actor = F.relu(self.actor_layer(x))\n",
        "      action_prob = F.softmax(self.action_head(x_actor), dim=-1)\n",
        "      x_critic = F.relu(self.critic_layer(x))\n",
        "      state_values = self.value_head(x_critic)\n",
        "      return action_prob, state_values\n"
      ]
    },
    {
      "cell_type": "code",
      "execution_count": 8,
      "metadata": {
        "colab": {
          "base_uri": "https://localhost:8080/"
        },
        "id": "l6UxnVPkkWkH",
        "outputId": "4e8ad512-076c-40f1-b69e-980247bffabb"
      },
      "outputs": [
        {
          "output_type": "stream",
          "name": "stdout",
          "text": [
            "Episode 0\tLast reward: 12.00\tAverage reward: 10.10\n",
            "Episode 10\tLast reward: 15.00\tAverage reward: 11.25\n",
            "Episode 20\tLast reward: 27.00\tAverage reward: 23.25\n",
            "Episode 30\tLast reward: 65.00\tAverage reward: 38.56\n",
            "Episode 40\tLast reward: 58.00\tAverage reward: 52.85\n",
            "Episode 50\tLast reward: 69.00\tAverage reward: 63.75\n",
            "Episode 60\tLast reward: 70.00\tAverage reward: 74.61\n",
            "Episode 70\tLast reward: 90.00\tAverage reward: 96.04\n",
            "Episode 80\tLast reward: 91.00\tAverage reward: 94.37\n",
            "Episode 90\tLast reward: 45.00\tAverage reward: 104.10\n",
            "Episode 100\tLast reward: 92.00\tAverage reward: 102.63\n",
            "Episode 110\tLast reward: 33.00\tAverage reward: 76.98\n",
            "Episode 120\tLast reward: 48.00\tAverage reward: 62.95\n",
            "Episode 130\tLast reward: 38.00\tAverage reward: 58.60\n",
            "Episode 140\tLast reward: 39.00\tAverage reward: 52.37\n",
            "Episode 150\tLast reward: 97.00\tAverage reward: 58.02\n",
            "Episode 160\tLast reward: 92.00\tAverage reward: 61.71\n",
            "Episode 170\tLast reward: 90.00\tAverage reward: 78.17\n",
            "Episode 180\tLast reward: 236.00\tAverage reward: 146.49\n",
            "Episode 190\tLast reward: 204.00\tAverage reward: 187.63\n",
            "Episode 200\tLast reward: 157.00\tAverage reward: 197.31\n",
            "Episode 210\tLast reward: 87.00\tAverage reward: 161.21\n",
            "Episode 220\tLast reward: 76.00\tAverage reward: 126.82\n",
            "Episode 230\tLast reward: 107.00\tAverage reward: 103.50\n",
            "Episode 240\tLast reward: 246.00\tAverage reward: 111.63\n",
            "Episode 250\tLast reward: 106.00\tAverage reward: 117.63\n",
            "Episode 260\tLast reward: 242.00\tAverage reward: 132.45\n",
            "Episode 270\tLast reward: 90.00\tAverage reward: 127.58\n",
            "Episode 280\tLast reward: 127.00\tAverage reward: 118.08\n",
            "Episode 290\tLast reward: 87.00\tAverage reward: 118.48\n",
            "Episode 300\tLast reward: 108.00\tAverage reward: 115.81\n",
            "Episode 310\tLast reward: 71.00\tAverage reward: 107.64\n",
            "Episode 320\tLast reward: 70.00\tAverage reward: 94.11\n",
            "Episode 330\tLast reward: 33.00\tAverage reward: 78.84\n",
            "Episode 340\tLast reward: 35.00\tAverage reward: 63.81\n",
            "Episode 350\tLast reward: 47.00\tAverage reward: 60.76\n",
            "Episode 360\tLast reward: 96.00\tAverage reward: 64.94\n",
            "Episode 370\tLast reward: 87.00\tAverage reward: 77.99\n",
            "Episode 380\tLast reward: 96.00\tAverage reward: 87.71\n",
            "Episode 390\tLast reward: 86.00\tAverage reward: 103.24\n",
            "Episode 400\tLast reward: 114.00\tAverage reward: 119.55\n",
            "Episode 410\tLast reward: 103.00\tAverage reward: 121.33\n",
            "Episode 420\tLast reward: 81.00\tAverage reward: 105.80\n",
            "Episode 430\tLast reward: 88.00\tAverage reward: 98.00\n",
            "Episode 440\tLast reward: 66.00\tAverage reward: 90.93\n",
            "Episode 450\tLast reward: 82.00\tAverage reward: 84.59\n",
            "Episode 460\tLast reward: 72.00\tAverage reward: 81.34\n",
            "Episode 470\tLast reward: 89.00\tAverage reward: 87.53\n",
            "Episode 480\tLast reward: 95.00\tAverage reward: 107.84\n",
            "Episode 490\tLast reward: 125.00\tAverage reward: 120.12\n",
            "Episode 500\tLast reward: 89.00\tAverage reward: 118.53\n",
            "Episode 510\tLast reward: 131.00\tAverage reward: 113.88\n",
            "Episode 520\tLast reward: 61.00\tAverage reward: 97.19\n",
            "Episode 530\tLast reward: 67.00\tAverage reward: 84.57\n",
            "Episode 540\tLast reward: 69.00\tAverage reward: 76.17\n",
            "Episode 550\tLast reward: 66.00\tAverage reward: 72.13\n",
            "Episode 560\tLast reward: 69.00\tAverage reward: 69.94\n",
            "Episode 570\tLast reward: 82.00\tAverage reward: 72.41\n",
            "Episode 580\tLast reward: 84.00\tAverage reward: 75.45\n",
            "Episode 590\tLast reward: 98.00\tAverage reward: 82.45\n",
            "Episode 600\tLast reward: 96.00\tAverage reward: 88.78\n",
            "Episode 610\tLast reward: 93.00\tAverage reward: 91.20\n",
            "Episode 620\tLast reward: 96.00\tAverage reward: 92.69\n",
            "Episode 630\tLast reward: 108.00\tAverage reward: 96.02\n",
            "Episode 640\tLast reward: 102.00\tAverage reward: 98.25\n",
            "Episode 650\tLast reward: 105.00\tAverage reward: 100.21\n",
            "Episode 660\tLast reward: 106.00\tAverage reward: 101.20\n",
            "Episode 670\tLast reward: 40.00\tAverage reward: 96.00\n",
            "Episode 680\tLast reward: 114.00\tAverage reward: 101.49\n",
            "Episode 690\tLast reward: 123.00\tAverage reward: 109.67\n",
            "Episode 700\tLast reward: 130.00\tAverage reward: 117.51\n",
            "Episode 710\tLast reward: 117.00\tAverage reward: 128.61\n",
            "Episode 720\tLast reward: 203.00\tAverage reward: 137.54\n",
            "Episode 730\tLast reward: 500.00\tAverage reward: 229.63\n",
            "Episode 740\tLast reward: 343.00\tAverage reward: 317.24\n",
            "Episode 750\tLast reward: 243.00\tAverage reward: 282.71\n",
            "Episode 760\tLast reward: 245.00\tAverage reward: 262.58\n",
            "Episode 770\tLast reward: 500.00\tAverage reward: 312.15\n",
            "Episode 780\tLast reward: 37.00\tAverage reward: 220.87\n",
            "Episode 790\tLast reward: 23.00\tAverage reward: 143.95\n",
            "Episode 800\tLast reward: 27.00\tAverage reward: 97.70\n",
            "Episode 810\tLast reward: 36.00\tAverage reward: 71.99\n",
            "Episode 820\tLast reward: 39.00\tAverage reward: 57.92\n",
            "Episode 830\tLast reward: 67.00\tAverage reward: 56.49\n",
            "Episode 840\tLast reward: 87.00\tAverage reward: 63.98\n",
            "Episode 850\tLast reward: 116.00\tAverage reward: 79.84\n",
            "Episode 860\tLast reward: 111.00\tAverage reward: 93.91\n",
            "Episode 870\tLast reward: 128.00\tAverage reward: 105.67\n",
            "Episode 880\tLast reward: 140.00\tAverage reward: 115.14\n",
            "Episode 890\tLast reward: 122.00\tAverage reward: 121.13\n",
            "Episode 900\tLast reward: 138.00\tAverage reward: 125.79\n",
            "Episode 910\tLast reward: 137.00\tAverage reward: 129.77\n",
            "Episode 920\tLast reward: 140.00\tAverage reward: 133.04\n",
            "Episode 930\tLast reward: 122.00\tAverage reward: 129.83\n",
            "Episode 940\tLast reward: 125.00\tAverage reward: 127.59\n",
            "Episode 950\tLast reward: 128.00\tAverage reward: 127.51\n",
            "Episode 960\tLast reward: 133.00\tAverage reward: 129.60\n",
            "Episode 970\tLast reward: 141.00\tAverage reward: 132.99\n",
            "Episode 980\tLast reward: 137.00\tAverage reward: 134.18\n",
            "Episode 990\tLast reward: 131.00\tAverage reward: 134.05\n",
            "Episode 1000\tLast reward: 136.00\tAverage reward: 133.26\n",
            "Episode 1010\tLast reward: 154.00\tAverage reward: 137.79\n",
            "Episode 1020\tLast reward: 149.00\tAverage reward: 142.09\n",
            "Episode 1030\tLast reward: 157.00\tAverage reward: 146.40\n",
            "Episode 1040\tLast reward: 146.00\tAverage reward: 150.64\n",
            "Episode 1050\tLast reward: 159.00\tAverage reward: 153.75\n",
            "Episode 1060\tLast reward: 157.00\tAverage reward: 156.99\n",
            "Episode 1070\tLast reward: 157.00\tAverage reward: 156.94\n",
            "Episode 1080\tLast reward: 169.00\tAverage reward: 159.15\n",
            "Episode 1090\tLast reward: 227.00\tAverage reward: 168.14\n",
            "Episode 1100\tLast reward: 500.00\tAverage reward: 255.90\n",
            "Episode 1110\tLast reward: 500.00\tAverage reward: 353.85\n",
            "Episode 1120\tLast reward: 500.00\tAverage reward: 412.49\n",
            "Episode 1130\tLast reward: 500.00\tAverage reward: 447.61\n",
            "Episode 1140\tLast reward: 500.00\tAverage reward: 468.63\n",
            "Solved! Running reward is now 475.7266036258587 and the last episode runs to 500 time steps!\n"
          ]
        }
      ],
      "source": [
        "model = UnsharedPolicy()\n",
        "optimizer = optim.Adam(model.parameters(), lr=3e-2)\n",
        "eps = np.finfo(np.float32).eps.item()\n",
        "train()"
      ]
    },
    {
      "cell_type": "markdown",
      "source": [
        "###Inference"
      ],
      "metadata": {
        "id": "C-xItnCo0OkJ"
      }
    },
    {
      "cell_type": "markdown",
      "source": [
        "As we can see, for the given hyper parameters,The shared parameters policy converges in less than 300 episodes(290), whereas unshared parameters- takes over 1000(1140)episodes to converge. \\\\\n",
        "This is because in shared parameters, since both actor and critic have the same set of parameters shared, it cuts down opimising the parameters by twice as compared to unshared case, where the parameters are different and so they are optimised separately. Shared parameters also prevents optimising over parameters of actor and critic, which are redundant,ie both parameters are meant to be similar, thus cutting down redundant steps."
      ],
      "metadata": {
        "id": "b4FR-Y8H0SjY"
      }
    },
    {
      "cell_type": "markdown",
      "source": [
        "Hyperparameters also play a major role, we must use a better set of parameters for unshared case, as setting the same alpha value (learning rate) for actor and critic is not ideal.\n"
      ],
      "metadata": {
        "id": "V8vBIZ5h1fpJ"
      }
    },
    {
      "cell_type": "markdown",
      "source": [
        "###Experiment - decrase the learning rate and see\n",
        "\n",
        "\n"
      ],
      "metadata": {
        "id": "FXN91mDP2_8B"
      }
    },
    {
      "cell_type": "code",
      "source": [
        "env = gym.make('CartPole-v1')\n",
        "env.reset(seed=seed)\n",
        "torch.manual_seed(seed)"
      ],
      "metadata": {
        "colab": {
          "base_uri": "https://localhost:8080/"
        },
        "id": "NcN6M3up2cQy",
        "outputId": "626ff6ca-4c23-471a-f468-961a0ad1cbb4"
      },
      "execution_count": 10,
      "outputs": [
        {
          "output_type": "stream",
          "name": "stderr",
          "text": [
            "/usr/local/lib/python3.10/dist-packages/gym/core.py:317: DeprecationWarning: \u001b[33mWARN: Initializing wrapper in old step API which returns one bool instead of two. It is recommended to set `new_step_api=True` to use new step API. This will be the default behaviour in future.\u001b[0m\n",
            "  deprecation(\n",
            "/usr/local/lib/python3.10/dist-packages/gym/wrappers/step_api_compatibility.py:39: DeprecationWarning: \u001b[33mWARN: Initializing environment in old step API which returns one bool instead of two. It is recommended to set `new_step_api=True` to use new step API. This will be the default behaviour in future.\u001b[0m\n",
            "  deprecation(\n"
          ]
        },
        {
          "output_type": "execute_result",
          "data": {
            "text/plain": [
              "<torch._C.Generator at 0x79edd1086970>"
            ]
          },
          "metadata": {},
          "execution_count": 10
        }
      ]
    },
    {
      "cell_type": "markdown",
      "source": [
        "As we can see from the below, decreasing the learning rate helping in giving a smoother increase or convergence to optimal, as shown\n",
        "But the number of episodes taken for the same is increased"
      ],
      "metadata": {
        "id": "_dyLVFmQ3TV8"
      }
    },
    {
      "cell_type": "code",
      "source": [
        "model = UnsharedPolicy()\n",
        "optimizer = optim.Adam(model.parameters(), lr=3e-4)\n",
        "eps = np.finfo(np.float32).eps.item()\n",
        "train()"
      ],
      "metadata": {
        "colab": {
          "base_uri": "https://localhost:8080/"
        },
        "id": "Kp1hOUVK0R0G",
        "outputId": "2efb57c2-d5f4-4f56-85ed-6d3340001e02"
      },
      "execution_count": 12,
      "outputs": [
        {
          "output_type": "stream",
          "name": "stdout",
          "text": [
            "Episode 0\tLast reward: 18.00\tAverage reward: 10.40\n",
            "Episode 10\tLast reward: 17.00\tAverage reward: 13.21\n",
            "Episode 20\tLast reward: 22.00\tAverage reward: 17.19\n",
            "Episode 30\tLast reward: 21.00\tAverage reward: 19.63\n",
            "Episode 40\tLast reward: 37.00\tAverage reward: 22.52\n",
            "Episode 50\tLast reward: 38.00\tAverage reward: 20.98\n",
            "Episode 60\tLast reward: 19.00\tAverage reward: 19.82\n",
            "Episode 70\tLast reward: 21.00\tAverage reward: 20.49\n",
            "Episode 80\tLast reward: 20.00\tAverage reward: 19.87\n",
            "Episode 90\tLast reward: 14.00\tAverage reward: 18.95\n",
            "Episode 100\tLast reward: 23.00\tAverage reward: 21.67\n",
            "Episode 110\tLast reward: 17.00\tAverage reward: 21.14\n",
            "Episode 120\tLast reward: 16.00\tAverage reward: 21.44\n",
            "Episode 130\tLast reward: 32.00\tAverage reward: 24.70\n",
            "Episode 140\tLast reward: 17.00\tAverage reward: 23.74\n",
            "Episode 150\tLast reward: 13.00\tAverage reward: 21.97\n",
            "Episode 160\tLast reward: 67.00\tAverage reward: 23.59\n",
            "Episode 170\tLast reward: 15.00\tAverage reward: 22.16\n",
            "Episode 180\tLast reward: 39.00\tAverage reward: 24.41\n",
            "Episode 190\tLast reward: 18.00\tAverage reward: 24.31\n",
            "Episode 200\tLast reward: 25.00\tAverage reward: 22.94\n",
            "Episode 210\tLast reward: 15.00\tAverage reward: 25.65\n",
            "Episode 220\tLast reward: 46.00\tAverage reward: 28.54\n",
            "Episode 230\tLast reward: 25.00\tAverage reward: 27.83\n",
            "Episode 240\tLast reward: 19.00\tAverage reward: 28.46\n",
            "Episode 250\tLast reward: 71.00\tAverage reward: 32.75\n",
            "Episode 260\tLast reward: 31.00\tAverage reward: 32.30\n",
            "Episode 270\tLast reward: 14.00\tAverage reward: 29.63\n",
            "Episode 280\tLast reward: 20.00\tAverage reward: 31.58\n",
            "Episode 290\tLast reward: 96.00\tAverage reward: 32.83\n",
            "Episode 300\tLast reward: 32.00\tAverage reward: 34.88\n",
            "Episode 310\tLast reward: 40.00\tAverage reward: 35.95\n",
            "Episode 320\tLast reward: 24.00\tAverage reward: 40.00\n",
            "Episode 330\tLast reward: 12.00\tAverage reward: 38.16\n",
            "Episode 340\tLast reward: 21.00\tAverage reward: 34.27\n",
            "Episode 350\tLast reward: 26.00\tAverage reward: 33.25\n",
            "Episode 360\tLast reward: 93.00\tAverage reward: 41.05\n",
            "Episode 370\tLast reward: 21.00\tAverage reward: 38.73\n",
            "Episode 380\tLast reward: 27.00\tAverage reward: 40.64\n",
            "Episode 390\tLast reward: 16.00\tAverage reward: 39.09\n",
            "Episode 400\tLast reward: 23.00\tAverage reward: 38.98\n",
            "Episode 410\tLast reward: 67.00\tAverage reward: 39.18\n",
            "Episode 420\tLast reward: 18.00\tAverage reward: 34.27\n",
            "Episode 430\tLast reward: 12.00\tAverage reward: 36.85\n",
            "Episode 440\tLast reward: 21.00\tAverage reward: 42.41\n",
            "Episode 450\tLast reward: 33.00\tAverage reward: 40.66\n",
            "Episode 460\tLast reward: 23.00\tAverage reward: 38.46\n",
            "Episode 470\tLast reward: 31.00\tAverage reward: 38.20\n",
            "Episode 480\tLast reward: 59.00\tAverage reward: 48.73\n",
            "Episode 490\tLast reward: 47.00\tAverage reward: 48.26\n",
            "Episode 500\tLast reward: 44.00\tAverage reward: 43.51\n",
            "Episode 510\tLast reward: 123.00\tAverage reward: 52.34\n",
            "Episode 520\tLast reward: 37.00\tAverage reward: 54.10\n",
            "Episode 530\tLast reward: 51.00\tAverage reward: 56.76\n",
            "Episode 540\tLast reward: 36.00\tAverage reward: 51.34\n",
            "Episode 550\tLast reward: 30.00\tAverage reward: 50.16\n",
            "Episode 560\tLast reward: 48.00\tAverage reward: 57.58\n",
            "Episode 570\tLast reward: 21.00\tAverage reward: 51.07\n",
            "Episode 580\tLast reward: 41.00\tAverage reward: 65.83\n",
            "Episode 590\tLast reward: 27.00\tAverage reward: 77.81\n",
            "Episode 600\tLast reward: 131.00\tAverage reward: 80.29\n",
            "Episode 610\tLast reward: 51.00\tAverage reward: 76.92\n",
            "Episode 620\tLast reward: 29.00\tAverage reward: 69.63\n",
            "Episode 630\tLast reward: 44.00\tAverage reward: 66.57\n",
            "Episode 640\tLast reward: 43.00\tAverage reward: 69.70\n",
            "Episode 650\tLast reward: 112.00\tAverage reward: 79.54\n",
            "Episode 660\tLast reward: 178.00\tAverage reward: 90.08\n",
            "Episode 670\tLast reward: 70.00\tAverage reward: 84.04\n",
            "Episode 680\tLast reward: 50.00\tAverage reward: 94.34\n",
            "Episode 690\tLast reward: 93.00\tAverage reward: 93.12\n",
            "Episode 700\tLast reward: 66.00\tAverage reward: 93.71\n",
            "Episode 710\tLast reward: 132.00\tAverage reward: 96.43\n",
            "Episode 720\tLast reward: 56.00\tAverage reward: 105.70\n",
            "Episode 730\tLast reward: 224.00\tAverage reward: 113.14\n",
            "Episode 740\tLast reward: 91.00\tAverage reward: 130.22\n",
            "Episode 750\tLast reward: 154.00\tAverage reward: 127.77\n",
            "Episode 760\tLast reward: 212.00\tAverage reward: 134.13\n",
            "Episode 770\tLast reward: 200.00\tAverage reward: 139.22\n",
            "Episode 780\tLast reward: 175.00\tAverage reward: 145.59\n",
            "Episode 790\tLast reward: 312.00\tAverage reward: 170.39\n",
            "Episode 800\tLast reward: 197.00\tAverage reward: 180.44\n",
            "Episode 810\tLast reward: 112.00\tAverage reward: 181.82\n",
            "Episode 820\tLast reward: 169.00\tAverage reward: 184.56\n",
            "Episode 830\tLast reward: 119.00\tAverage reward: 184.15\n",
            "Episode 840\tLast reward: 371.00\tAverage reward: 190.39\n",
            "Episode 850\tLast reward: 300.00\tAverage reward: 186.79\n",
            "Episode 860\tLast reward: 59.00\tAverage reward: 180.20\n",
            "Episode 870\tLast reward: 354.00\tAverage reward: 204.12\n",
            "Episode 880\tLast reward: 130.00\tAverage reward: 222.28\n",
            "Episode 890\tLast reward: 113.00\tAverage reward: 225.99\n",
            "Episode 900\tLast reward: 286.00\tAverage reward: 231.66\n",
            "Episode 910\tLast reward: 154.00\tAverage reward: 216.92\n",
            "Episode 920\tLast reward: 487.00\tAverage reward: 233.04\n",
            "Episode 930\tLast reward: 289.00\tAverage reward: 256.36\n",
            "Episode 940\tLast reward: 351.00\tAverage reward: 292.02\n",
            "Episode 950\tLast reward: 204.00\tAverage reward: 269.43\n",
            "Episode 960\tLast reward: 443.00\tAverage reward: 286.49\n",
            "Episode 970\tLast reward: 189.00\tAverage reward: 292.99\n",
            "Episode 980\tLast reward: 241.00\tAverage reward: 268.55\n",
            "Episode 990\tLast reward: 500.00\tAverage reward: 299.56\n",
            "Episode 1000\tLast reward: 142.00\tAverage reward: 292.84\n",
            "Episode 1010\tLast reward: 395.00\tAverage reward: 292.76\n",
            "Episode 1020\tLast reward: 170.00\tAverage reward: 292.69\n",
            "Episode 1030\tLast reward: 136.00\tAverage reward: 296.59\n",
            "Episode 1040\tLast reward: 391.00\tAverage reward: 272.15\n",
            "Episode 1050\tLast reward: 207.00\tAverage reward: 284.41\n",
            "Episode 1060\tLast reward: 278.00\tAverage reward: 296.94\n",
            "Episode 1070\tLast reward: 165.00\tAverage reward: 304.37\n",
            "Episode 1080\tLast reward: 500.00\tAverage reward: 317.70\n",
            "Episode 1090\tLast reward: 264.00\tAverage reward: 292.95\n",
            "Episode 1100\tLast reward: 120.00\tAverage reward: 280.00\n",
            "Episode 1110\tLast reward: 176.00\tAverage reward: 288.65\n",
            "Episode 1120\tLast reward: 500.00\tAverage reward: 351.03\n",
            "Episode 1130\tLast reward: 225.00\tAverage reward: 321.65\n",
            "Episode 1140\tLast reward: 351.00\tAverage reward: 307.65\n",
            "Episode 1150\tLast reward: 500.00\tAverage reward: 329.92\n",
            "Episode 1160\tLast reward: 480.00\tAverage reward: 347.10\n",
            "Episode 1170\tLast reward: 500.00\tAverage reward: 338.45\n",
            "Episode 1180\tLast reward: 243.00\tAverage reward: 319.52\n",
            "Episode 1190\tLast reward: 204.00\tAverage reward: 321.82\n",
            "Episode 1200\tLast reward: 500.00\tAverage reward: 352.52\n",
            "Episode 1210\tLast reward: 500.00\tAverage reward: 377.30\n",
            "Episode 1220\tLast reward: 109.00\tAverage reward: 365.96\n",
            "Episode 1230\tLast reward: 500.00\tAverage reward: 378.35\n",
            "Episode 1240\tLast reward: 262.00\tAverage reward: 386.28\n",
            "Episode 1250\tLast reward: 233.00\tAverage reward: 370.02\n",
            "Episode 1260\tLast reward: 500.00\tAverage reward: 379.73\n",
            "Episode 1270\tLast reward: 500.00\tAverage reward: 391.60\n",
            "Episode 1280\tLast reward: 340.00\tAverage reward: 416.18\n",
            "Episode 1290\tLast reward: 500.00\tAverage reward: 406.13\n",
            "Episode 1300\tLast reward: 500.00\tAverage reward: 415.08\n",
            "Episode 1310\tLast reward: 500.00\tAverage reward: 404.60\n",
            "Episode 1320\tLast reward: 500.00\tAverage reward: 403.58\n",
            "Episode 1330\tLast reward: 403.00\tAverage reward: 422.07\n",
            "Episode 1340\tLast reward: 346.00\tAverage reward: 413.28\n",
            "Episode 1350\tLast reward: 500.00\tAverage reward: 401.87\n",
            "Episode 1360\tLast reward: 500.00\tAverage reward: 417.98\n",
            "Episode 1370\tLast reward: 500.00\tAverage reward: 410.34\n",
            "Episode 1380\tLast reward: 436.00\tAverage reward: 387.09\n",
            "Episode 1390\tLast reward: 333.00\tAverage reward: 392.51\n",
            "Episode 1400\tLast reward: 181.00\tAverage reward: 375.60\n",
            "Episode 1410\tLast reward: 350.00\tAverage reward: 389.21\n",
            "Episode 1420\tLast reward: 500.00\tAverage reward: 397.16\n",
            "Episode 1430\tLast reward: 464.00\tAverage reward: 390.98\n",
            "Episode 1440\tLast reward: 500.00\tAverage reward: 407.71\n",
            "Episode 1450\tLast reward: 500.00\tAverage reward: 411.51\n",
            "Episode 1460\tLast reward: 500.00\tAverage reward: 408.48\n",
            "Episode 1470\tLast reward: 158.00\tAverage reward: 413.58\n",
            "Episode 1480\tLast reward: 283.00\tAverage reward: 412.45\n",
            "Episode 1490\tLast reward: 185.00\tAverage reward: 411.27\n",
            "Episode 1500\tLast reward: 363.00\tAverage reward: 404.87\n",
            "Episode 1510\tLast reward: 500.00\tAverage reward: 415.40\n",
            "Episode 1520\tLast reward: 500.00\tAverage reward: 434.41\n",
            "Episode 1530\tLast reward: 500.00\tAverage reward: 445.61\n",
            "Episode 1540\tLast reward: 500.00\tAverage reward: 455.51\n",
            "Episode 1550\tLast reward: 500.00\tAverage reward: 469.92\n",
            "Episode 1560\tLast reward: 442.00\tAverage reward: 470.97\n",
            "Episode 1570\tLast reward: 500.00\tAverage reward: 453.68\n",
            "Episode 1580\tLast reward: 347.00\tAverage reward: 464.35\n",
            "Episode 1590\tLast reward: 500.00\tAverage reward: 465.18\n",
            "Episode 1600\tLast reward: 500.00\tAverage reward: 464.19\n",
            "Episode 1610\tLast reward: 500.00\tAverage reward: 471.44\n",
            "Solved! Running reward is now 475.51029708861716 and the last episode runs to 500 time steps!\n"
          ]
        }
      ]
    },
    {
      "cell_type": "code",
      "source": [],
      "metadata": {
        "id": "0JP2jRb72VbY"
      },
      "execution_count": null,
      "outputs": []
    }
  ],
  "metadata": {
    "colab": {
      "provenance": []
    },
    "kernelspec": {
      "display_name": "Python 3",
      "name": "python3"
    },
    "language_info": {
      "name": "python"
    }
  },
  "nbformat": 4,
  "nbformat_minor": 0
}