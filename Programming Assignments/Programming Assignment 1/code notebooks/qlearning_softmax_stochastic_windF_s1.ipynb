{
  "cells": [
    {
      "cell_type": "code",
      "execution_count": 1,
      "metadata": {
        "id": "tyQouu2xlSPX"
      },
      "outputs": [],
      "source": [
        "import numpy as np\n",
        "import matplotlib.pyplot as plt\n",
        "from tqdm import tqdm\n",
        "from IPython.display import clear_output\n",
        "import random\n",
        "import decimal\n",
        "import operator\n",
        "import math\n",
        "%matplotlib inline"
      ]
    },
    {
      "cell_type": "code",
      "execution_count": 2,
      "metadata": {
        "id": "SpXfJ6XXLtTe"
      },
      "outputs": [],
      "source": [
        "from math import floor\n",
        "import numpy as np\n",
        "\n",
        "def row_col_to_seq(row_col, num_cols):  #Converts state number to row_column format\n",
        "    return row_col[:,0] * num_cols + row_col[:,1]\n",
        "\n",
        "def seq_to_col_row(seq, num_cols): #Converts row_column format to state number\n",
        "    r = floor(seq / num_cols)\n",
        "    c = seq - r * num_cols\n",
        "    return np.array([[r, c]])\n",
        "\n",
        "class GridWorld:\n",
        "    \"\"\"\n",
        "    Creates a gridworld object to pass to an RL algorithm.\n",
        "    Parameters\n",
        "    ----------\n",
        "    num_rows : int\n",
        "        The number of rows in the gridworld.\n",
        "    num_cols : int\n",
        "        The number of cols in the gridworld.\n",
        "    start_state : numpy array of shape (1, 2), np.array([[row, col]])\n",
        "        The start state of the gridworld (can only be one start state)\n",
        "    goal_states : numpy arrany of shape (n, 2)\n",
        "        The goal states for the gridworld where n is the number of goal\n",
        "        states.\n",
        "    \"\"\"\n",
        "    def __init__(self, num_rows, num_cols, start_state, goal_states, wind = False):\n",
        "        self.num_rows = num_rows\n",
        "        self.num_cols = num_cols\n",
        "        self.start_state = start_state\n",
        "        self.goal_states = goal_states\n",
        "        self.obs_states = None\n",
        "        self.bad_states = None\n",
        "        self.num_bad_states = 0\n",
        "        self.p_good_trans = None\n",
        "        self.bias = None\n",
        "        self.r_step = None\n",
        "        self.r_goal = None\n",
        "        self.r_dead = None\n",
        "        self.gamma = 1 # default is no discounting\n",
        "        self.wind = wind\n",
        "\n",
        "    def add_obstructions(self, obstructed_states=None, bad_states=None, restart_states=None):\n",
        "\n",
        "        self.obs_states = obstructed_states\n",
        "        self.bad_states = bad_states\n",
        "        if bad_states is not None:\n",
        "            self.num_bad_states = bad_states.shape[0]\n",
        "        else:\n",
        "            self.num_bad_states = 0\n",
        "        self.restart_states = restart_states\n",
        "        if restart_states is not None:\n",
        "            self.num_restart_states = restart_states.shape[0]\n",
        "        else:\n",
        "            self.num_restart_states = 0\n",
        "\n",
        "    def add_transition_probability(self, p_good_transition, bias):\n",
        "\n",
        "        self.p_good_trans = p_good_transition\n",
        "        self.bias = bias\n",
        "\n",
        "    def add_rewards(self, step_reward, goal_reward, bad_state_reward=None, restart_state_reward = None):\n",
        "\n",
        "        self.r_step = step_reward\n",
        "        self.r_goal = goal_reward\n",
        "        self.r_bad = bad_state_reward\n",
        "        self.r_restart = restart_state_reward\n",
        "\n",
        "\n",
        "    def create_gridworld(self):\n",
        "\n",
        "        self.num_actions = 4\n",
        "        self.num_states = self.num_cols * self.num_rows# +1\n",
        "        self.start_state_seq = row_col_to_seq(self.start_state, self.num_cols)\n",
        "        self.goal_states_seq = row_col_to_seq(self.goal_states, self.num_cols)\n",
        "\n",
        "        # rewards structure\n",
        "        self.R = self.r_step * np.ones((self.num_states, 1))\n",
        "        #self.R[self.num_states-1] = 0\n",
        "        self.R[self.goal_states_seq] = self.r_goal\n",
        "\n",
        "        for i in range(self.num_bad_states):\n",
        "            if self.r_bad is None:\n",
        "                raise Exception(\"Bad state specified but no reward is given\")\n",
        "            bad_state = row_col_to_seq(self.bad_states[i,:].reshape(1,-1), self.num_cols)\n",
        "            #print(\"bad states\", bad_state)\n",
        "            self.R[bad_state, :] = self.r_bad\n",
        "        for i in range(self.num_restart_states):\n",
        "            if self.r_restart is None:\n",
        "                raise Exception(\"Restart state specified but no reward is given\")\n",
        "            restart_state = row_col_to_seq(self.restart_states[i,:].reshape(1,-1), self.num_cols)\n",
        "            #print(\"restart_state\", restart_state)\n",
        "            self.R[restart_state, :] = self.r_restart\n",
        "\n",
        "        # probability model\n",
        "        if self.p_good_trans == None:\n",
        "            raise Exception(\"Must assign probability and bias terms via the add_transition_probability method.\")\n",
        "\n",
        "        self.P = np.zeros((self.num_states,self.num_states,self.num_actions))\n",
        "        for action in range(self.num_actions):\n",
        "            for state in range(self.num_states):\n",
        "\n",
        "\n",
        "                # check if the state is the goal state or an obstructed state - transition to end\n",
        "                row_col = seq_to_col_row(state, self.num_cols)\n",
        "                if self.obs_states is not None:\n",
        "                    end_states = np.vstack((self.obs_states, self.goal_states))\n",
        "                else:\n",
        "                    end_states = self.goal_states\n",
        "\n",
        "                if any(np.sum(np.abs(end_states-row_col), 1) == 0):\n",
        "                    self.P[state, state, action] = 1\n",
        "\n",
        "                # else consider stochastic effects of action\n",
        "                else:\n",
        "                    for dir in range(-1,2,1):\n",
        "\n",
        "                        direction = self._get_direction(action, dir)\n",
        "                        next_state = self._get_state(state, direction)\n",
        "                        if dir == 0:\n",
        "                            prob = self.p_good_trans\n",
        "                        elif dir == -1:\n",
        "                            prob = (1 - self.p_good_trans)*(self.bias)\n",
        "                        elif dir == 1:\n",
        "                            prob = (1 - self.p_good_trans)*(1-self.bias)\n",
        "\n",
        "                        self.P[state, next_state, action] += prob\n",
        "\n",
        "                # make restart states transition back to the start state with\n",
        "                # probability 1\n",
        "                if self.restart_states is not None:\n",
        "                    if any(np.sum(np.abs(self.restart_states-row_col),1)==0):\n",
        "                        next_state = row_col_to_seq(self.start_state, self.num_cols)\n",
        "                        self.P[state,:,:] = 0\n",
        "                        self.P[state,next_state,:] = 1\n",
        "        return self\n",
        "\n",
        "    def _get_direction(self, action, direction):\n",
        "\n",
        "        left = [2,3,1,0]\n",
        "        right = [3,2,0,1]\n",
        "        if direction == 0:\n",
        "            new_direction = action\n",
        "        elif direction == -1:\n",
        "            new_direction = left[action]\n",
        "        elif direction == 1:\n",
        "            new_direction = right[action]\n",
        "        else:\n",
        "            raise Exception(\"getDir received an unspecified case\")\n",
        "        return new_direction\n",
        "\n",
        "    def _get_state(self, state, direction):\n",
        "\n",
        "        row_change = [-1,1,0,0]\n",
        "        col_change = [0,0,-1,1]\n",
        "        row_col = seq_to_col_row(state, self.num_cols)\n",
        "        row_col[0,0] += row_change[direction]\n",
        "        row_col[0,1] += col_change[direction]\n",
        "\n",
        "        # check for invalid states\n",
        "        if self.obs_states is not None:\n",
        "            if (np.any(row_col < 0) or\n",
        "                np.any(row_col[:,0] > self.num_rows-1) or\n",
        "                np.any(row_col[:,1] > self.num_cols-1) or\n",
        "                np.any(np.sum(abs(self.obs_states - row_col), 1)==0)):\n",
        "                next_state = state\n",
        "            else:\n",
        "                next_state = row_col_to_seq(row_col, self.num_cols)[0]\n",
        "        else:\n",
        "            if (np.any(row_col < 0) or\n",
        "                np.any(row_col[:,0] > self.num_rows-1) or\n",
        "                np.any(row_col[:,1] > self.num_cols-1)):\n",
        "                next_state = state\n",
        "            else:\n",
        "                next_state = row_col_to_seq(row_col, self.num_cols)[0]\n",
        "\n",
        "        return next_state\n",
        "\n",
        "    def reset(self):\n",
        "      return int(self.start_state_seq)\n",
        "\n",
        "    def step(self, state, action):\n",
        "        p, r = 0, np.random.random()\n",
        "        for next_state in range(self.num_states):\n",
        "\n",
        "            p += self.P[state, next_state, action]\n",
        "\n",
        "            if r <= p:\n",
        "                break\n",
        "\n",
        "        if(self.wind and np.random.random() < 0.4):\n",
        "\n",
        "          arr = self.P[next_state, :, 3]\n",
        "          next_next = np.where(arr == np.amax(arr))\n",
        "          next_next = next_next[0][0]\n",
        "          if next_next in self.goal_states_seq:\n",
        "                done=True\n",
        "          else:\n",
        "                done=False\n",
        "          return next_next, self.R[next_next],done\n",
        "        else:\n",
        "          if next_state in self.goal_states_seq:\n",
        "                done=True\n",
        "          else:\n",
        "            done=False\n",
        "          return next_state, self.R[next_state],done\n",
        "\n",
        "    "
      ]
    },
    {
      "cell_type": "markdown",
      "metadata": {},
      "source": [
        "CHange start state, p values,wind"
      ]
    },
    {
      "cell_type": "code",
      "execution_count": 3,
      "metadata": {
        "id": "BqE09JUiL1B8"
      },
      "outputs": [],
      "source": [
        "# specify world parameters\n",
        "num_cols = 10\n",
        "num_rows = 10\n",
        "obstructions = np.array([[0,7],[1,1],[1,2],[1,3],[1,7],[2,1],[2,3],\n",
        "                         [2,7],[3,1],[3,3],[3,5],[4,3],[4,5],[4,7],\n",
        "                         [5,3],[5,7],[5,9],[6,3],[6,9],[7,1],[7,6],\n",
        "                         [7,7],[7,8],[7,9],[8,1],[8,5],[8,6],[9,1]])\n",
        "bad_states = np.array([[1,9],[4,2],[4,4],[7,5],[9,9]])\n",
        "restart_states = np.array([[3,7],[8,2]])\n",
        "start_state = np.array([[3,6]])\n",
        "#change\n",
        "goal_states = np.array([[0,9],[2,2],[8,7]])\n",
        "\n",
        "# create model\n",
        "gw = GridWorld(num_rows=num_rows,\n",
        "               num_cols=num_cols,\n",
        "               start_state=start_state,\n",
        "               goal_states=goal_states, wind = False)\n",
        "gw.add_obstructions(obstructed_states=obstructions,\n",
        "                    bad_states=bad_states,\n",
        "                    restart_states=restart_states)\n",
        "gw.add_rewards(step_reward=-1,\n",
        "               goal_reward=10,\n",
        "               bad_state_reward=-6,\n",
        "               restart_state_reward=-100)\n",
        "gw.add_transition_probability(p_good_transition=0.7,\n",
        "                              bias=0.5)\n",
        "env = gw.create_gridworld()"
      ]
    },
    {
      "cell_type": "code",
      "execution_count": 4,
      "metadata": {
        "colab": {
          "base_uri": "https://localhost:8080/"
        },
        "id": "0UdRce8oMZNb",
        "outputId": "04fda584-e58c-4aae-d5e2-691b1ffccbee"
      },
      "outputs": [
        {
          "name": "stdout",
          "output_type": "stream",
          "text": [
            "Number of actions 4\n",
            "Number of states 100\n",
            "start state [36]\n",
            "goal state(s) [ 9 22 87]\n"
          ]
        }
      ],
      "source": [
        "print(\"Number of actions\", env.num_actions) #0 -> UP, 1-> DOWN, 2 -> LEFT, 3-> RIGHT\n",
        "print(\"Number of states\", env.num_states)\n",
        "print(\"start state\", env.start_state_seq)\n",
        "print(\"goal state(s)\", env.goal_states_seq)"
      ]
    },
    {
      "cell_type": "code",
      "execution_count": 5,
      "metadata": {
        "id": "O4lZACBnWV0-"
      },
      "outputs": [],
      "source": [
        "UP = 0\n",
        "DOWN = 1\n",
        "LEFT = 2\n",
        "RIGHT = 3\n",
        "actions = [UP,DOWN,LEFT,RIGHT]"
      ]
    },
    {
      "cell_type": "markdown",
      "metadata": {
        "id": "6DxaIswui_0d"
      },
      "source": [
        "Function for plots\n"
      ]
    },
    {
      "cell_type": "code",
      "execution_count": 6,
      "metadata": {
        "id": "0NjSJx1RjB4S"
      },
      "outputs": [],
      "source": [
        "def plot_Q(Q, message = \"Q plot\",progress = \"\"):\n",
        "\n",
        "    k=len(message)\n",
        "    plt.figure(figsize=(10,10))\n",
        "    plt.suptitle(message)\n",
        "    print(message)\n",
        "    plt.title(progress)\n",
        "    plt.pcolor(Q.max(-1), edgecolors='k', linewidths=2)\n",
        "    plt.colorbar()\n",
        "    def x_direct(a):\n",
        "        if a in [UP, DOWN]:\n",
        "            return 0\n",
        "        return 1 if a == RIGHT else -1\n",
        "    def y_direct(a):\n",
        "        if a in [RIGHT, LEFT]:\n",
        "            return 0\n",
        "        return 1 if a == UP else -1\n",
        "    policy = Q.argmax(-1)\n",
        "    policyx = np.vectorize(x_direct)(policy)\n",
        "    policyy = np.vectorize(y_direct)(policy)\n",
        "    idx = np.indices(policy.shape)\n",
        "    plt.quiver(idx[1].ravel()+0.5, idx[0].ravel()+0.5, policyx.ravel(), policyy.ravel(), pivot=\"middle\", color='red')\n",
        "    #plt.savefig(f\"Q_{message}.jpg\")\n",
        "    plt.show()"
      ]
    },
    {
      "cell_type": "code",
      "execution_count": 7,
      "metadata": {
        "id": "U3MDinZvjCYk"
      },
      "outputs": [],
      "source": [
        "def plot_state_visits(state_visit_counts,message=\"State Visit Count Plot\",progress=\"\"):\n",
        "    k=len(message)\n",
        "    plt.figure(figsize=(10,10))\n",
        "\n",
        "    plt.suptitle(message)\n",
        "    plt.title(progress)\n",
        "    plt.pcolor(state_visit_counts, edgecolors='k', linewidths=2)\n",
        "    plt.colorbar()\n",
        "    #plt.savefig(f\"State_{message}.jpg\")"
      ]
    },
    {
      "cell_type": "markdown",
      "metadata": {
        "id": "upJuYsljnFKS"
      },
      "source": [
        "EPSILON GREEDY AND SOFTMAX ALGORITHMS"
      ]
    },
    {
      "cell_type": "code",
      "execution_count": 8,
      "metadata": {
        "id": "z6t4CozYlhw3"
      },
      "outputs": [],
      "source": [
        "from scipy.special import softmax\n",
        "\n",
        "import random\n",
        "\n",
        "# Epsilon greedy\n",
        "def choose_action_epsilon(Q, state, epsilon=0.1):\n",
        "    if not Q[state[0][0], state[0][1]].any() or random.random() < epsilon: # randomly choose based on epsilon\n",
        "        return random.randint(0, Q.shape[-1] - 1) # return random action\n",
        "    else:\n",
        "        return np.argmax(Q[state[0][0], state[0][1]]) # return best action\n",
        "\n",
        "# Softmax\n",
        "def choose_action_softmax(Q, state,tau=1):\n",
        "    Q = Q / tau\n",
        "    action_probs = softmax(Q[state[0][0], state[0][1]])\n",
        "    return random.choices(range(len(action_probs)), weights=action_probs)[0] # returns a random action with selection probability\n",
        "\n",
        "# Example usage:\n",
        "# action = choose_action_softmax(Q_values, state)\n"
      ]
    },
    {
      "cell_type": "markdown",
      "metadata": {
        "id": "sh5oaPOVnlr1"
      },
      "source": [
        "IMPLEMENT SARSA"
      ]
    },
    {
      "cell_type": "code",
      "execution_count": 9,
      "metadata": {
        "id": "a9uqansQqLJ_"
      },
      "outputs": [],
      "source": [
        "Q = np.zeros((env.num_rows, env.num_cols, env.num_actions))\n",
        "alpha0 = 0.4\n",
        "gamma = 0.9\n",
        "episodes = 5001\n",
        "epsilon0 = 0.1"
      ]
    },
    {
      "cell_type": "code",
      "execution_count": 10,
      "metadata": {},
      "outputs": [],
      "source": [
        "print_freq = 100\n",
        "\n",
        "def sarsa(env, Q,parameter,alpha = alpha0, gamma = 0.9, plot_heat = False, choose_action = choose_action_softmax):\n",
        "\n",
        "    episode_rewards = np.zeros(episodes)\n",
        "    steps_to_completion = np.zeros(episodes)\n",
        "    if plot_heat:\n",
        "        clear_output(wait=True)\n",
        "        plot_Q(Q)\n",
        "    epsilon = epsilon0\n",
        "    #alpha = alpha0\n",
        "    count_state_visit_throughout= np.zeros((env.num_rows, env.num_cols))\n",
        "    for ep in tqdm(range(episodes)):\n",
        "        tot_reward, steps = 0, 0\n",
        "\n",
        "        # Reset environment\n",
        "        count_state_visit= np.zeros((env.num_rows, env.num_cols))\n",
        "        state = env.reset()\n",
        "        state = seq_to_col_row(state,num_cols)\n",
        "        action = choose_action(Q, state,parameter)\n",
        "        done = False\n",
        "        while not done:\n",
        "            count_state_visit[state[0][0]][state[0][1]]+=1\n",
        "            state_next, reward,done = env.step(row_col_to_seq(state,num_cols),action)\n",
        "            state_next=(seq_to_col_row(state_next,num_cols))\n",
        "            action_next = choose_action(Q, state_next,parameter)\n",
        "\n",
        "            # TODO: update equation\n",
        "            Q[state[0][0],state[0][1],action] += alpha*(reward + gamma*(Q[state_next[0][0],state_next[0][1],action_next]) - Q[state[0][0],state[0][1],action])\n",
        "\n",
        "            tot_reward += reward\n",
        "            steps += 1\n",
        "\n",
        "            state, action = state_next, action_next\n",
        "            if steps > 300:\n",
        "                break\n",
        "\n",
        "        episode_rewards[ep] = tot_reward\n",
        "        steps_to_completion[ep] = steps\n",
        "\n",
        "        if (ep+1)%print_freq == 0 and plot_heat:\n",
        "            clear_output(wait=True)\n",
        "            plot_Q(Q, message = \"Episode %d: Reward: %f, Steps: %.2f, Qmax: %.2f, Qmin: %.2f\"%(ep+1, np.mean(episode_rewards[ep-print_freq+1:ep]),\n",
        "                                                                           np.mean(steps_to_completion[ep-print_freq+1:ep]),\n",
        "                                                                           Q.max(), Q.min()))\n",
        "            plot_state_visits(count_state_visit)\n",
        "        for i in range(len(count_state_visit_throughout)):\n",
        "            for j in range(len(count_state_visit_throughout[i])):\n",
        "                count_state_visit_throughout[i][j] += count_state_visit[i][j]\n",
        "\n",
        "\n",
        "    return Q, episode_rewards, steps_to_completion,  count_state_visit, count_state_visit_throughout"
      ]
    },
    {
      "cell_type": "code",
      "execution_count": 11,
      "metadata": {},
      "outputs": [],
      "source": [
        "print_freq = 100\n",
        "\n",
        "def qlearning(env, Q,parameter,alpha = alpha0, gamma = 0.9, plot_heat = False, choose_action = choose_action_softmax):\n",
        "\n",
        "    episode_rewards = np.zeros(episodes)\n",
        "    steps_to_completion = np.zeros(episodes)\n",
        "    if plot_heat:\n",
        "        clear_output(wait=True)\n",
        "        plot_Q(Q)\n",
        "    epsilon = epsilon0\n",
        "    #alpha = alpha0\n",
        "    count_state_visit_throughout= np.zeros((env.num_rows, env.num_cols))\n",
        "    for ep in tqdm(range(episodes)):\n",
        "        tot_reward, steps = 0, 0\n",
        "\n",
        "        # Reset environment\n",
        "        count_state_visit= np.zeros((env.num_rows, env.num_cols))\n",
        "        state = env.reset()\n",
        "        state = seq_to_col_row(state,num_cols)\n",
        "        action = choose_action(Q, state,parameter)\n",
        "        done = False\n",
        "        while not done:\n",
        "            count_state_visit[state[0][0]][state[0][1]]+=1\n",
        "            state_next, reward,done = env.step(row_col_to_seq(state,num_cols),action)\n",
        "            state_next=(seq_to_col_row(state_next,num_cols))\n",
        "            action_next = choose_action(Q, state_next,parameter)\n",
        "\n",
        "            # TODO: update equation\n",
        "            Q[state[0][0], state[0][1], action] += alpha*(reward + gamma*np.max([Q[state_next[0][0], state_next[0][1], action] for action in actions]) - Q[state[0][0], state[0][1], action])\n",
        "\n",
        "            tot_reward += reward\n",
        "            steps += 1\n",
        "\n",
        "            state, action = state_next, action_next\n",
        "            if steps > 300:\n",
        "                break\n",
        "\n",
        "        episode_rewards[ep] = tot_reward\n",
        "        steps_to_completion[ep] = steps\n",
        "\n",
        "        if (ep+1)%print_freq == 0 and plot_heat:\n",
        "            clear_output(wait=True)\n",
        "            plot_Q(Q, message = \"Episode %d: Reward: %f, Steps: %.2f, Qmax: %.2f, Qmin: %.2f\"%(ep+1, np.mean(episode_rewards[ep-print_freq+1:ep]),\n",
        "                                                                           np.mean(steps_to_completion[ep-print_freq+1:ep]),\n",
        "                                                                           Q.max(), Q.min()))\n",
        "            plot_state_visits(count_state_visit)\n",
        "        for i in range(len(count_state_visit_throughout)):\n",
        "            for j in range(len(count_state_visit_throughout[i])):\n",
        "                count_state_visit_throughout[i][j] += count_state_visit[i][j]\n",
        "\n",
        "\n",
        "    return Q, episode_rewards, steps_to_completion,  count_state_visit, count_state_visit_throughout"
      ]
    },
    {
      "cell_type": "code",
      "execution_count": 12,
      "metadata": {},
      "outputs": [],
      "source": [
        "def average_over_5_runs_sarsa_epsilon(env,parameter,alpha,gamma):\n",
        "  num_expts = 5\n",
        "  reward_avgs, steps_avgs = [0 for i in range(episodes)], [0 for i in range(episodes)]\n",
        "  rewards_,steps_ = [[] for i in range(episodes)],[[] for i in range(episodes)]\n",
        "  std_deviation_reward = [0 for i in range(episodes)]\n",
        "  std_deviation_steps = [0 for i in range(episodes)]\n",
        "  for i in range(num_expts):\n",
        "      print(\"Experiment: %d\"%(i+1))\n",
        "      Q = np.zeros((env.num_rows, env.num_cols, env.num_actions))\n",
        "      rg = np.random.RandomState(i)\n",
        "      Q_s, reward_s, step_s, state_visit_count,count_throughout= sarsa(env, Q,parameter = parameter, alpha = alpha,  gamma = gamma, plot_heat=False, choose_action= choose_action_epsilon)\n",
        "    \n",
        "      \n",
        "      for ep in range(episodes):\n",
        "        rewards_[ep].append(reward_s[ep])\n",
        "        steps_[ep].append(step_s[ep])\n",
        "\n",
        "  reward_avgs = [x/num_expts for x in reward_avgs]\n",
        "  steps_avgs = [x/num_expts for x in steps_avgs]\n",
        "  for i in range(len(std_deviation_reward)):\n",
        "     mean = sum(rewards_[i]) / len(rewards_[i])\n",
        "     variance = sum([((x - mean) ** 2) for x in rewards_[i]]) / len(rewards_[i])\n",
        "     reward_avgs[i] = mean\n",
        "     std_deviation_reward[i] = math.sqrt(variance)\n",
        "\n",
        "     mean = sum(steps_[i]) / len(steps_[i])\n",
        "     variance = sum([((x - mean) ** 2) for x in steps_[i]]) / len(steps_[i])\n",
        "     steps_avgs[i] = mean\n",
        "     std_deviation_steps[i] = math.sqrt(variance)\n",
        "\n",
        "\n",
        "     \n",
        "\n",
        "  return reward_avgs , steps_avgs, std_deviation_reward,std_deviation_steps\n"
      ]
    },
    {
      "cell_type": "code",
      "execution_count": 13,
      "metadata": {},
      "outputs": [],
      "source": [
        "def average_over_5_runs_qlearning_epsilon(env,parameter,alpha,gamma):\n",
        "  num_expts = 5\n",
        "  reward_avgs, steps_avgs = [0 for i in range(episodes)], [0 for i in range(episodes)]\n",
        "  rewards_,steps_ = [[] for i in range(episodes)],[[] for i in range(episodes)]\n",
        "  std_deviation_reward = [0 for i in range(episodes)]\n",
        "  std_deviation_steps = [0 for i in range(episodes)]\n",
        "  for i in range(num_expts):\n",
        "      print(\"Experiment: %d\"%(i+1))\n",
        "      Q = np.zeros((env.num_rows, env.num_cols, env.num_actions))\n",
        "      rg = np.random.RandomState(i)\n",
        "      Q_s, reward_s, step_s, state_visit_count,count_throughout= qlearning(env, Q,parameter = parameter, alpha = alpha,  gamma = gamma, plot_heat=False, choose_action= choose_action_epsilon)\n",
        "      '''reward_avgs =  [x + y for x, y in zip(reward_s, reward_avgs)]\n",
        "      steps_avgs =  [x + y for x, y in zip(step_s, steps_avgs)]'''\n",
        "      \n",
        "      for ep in range(episodes):\n",
        "        rewards_[ep].append(reward_s[ep])\n",
        "        steps_[ep].append(step_s[ep])\n",
        "\n",
        "  reward_avgs = [x/num_expts for x in reward_avgs]\n",
        "  steps_avgs = [x/num_expts for x in steps_avgs]\n",
        "  for i in range(len(std_deviation_reward)):\n",
        "     mean = sum(rewards_[i]) / len(rewards_[i])\n",
        "     variance = sum([((x - mean) ** 2) for x in rewards_[i]]) / len(rewards_[i])\n",
        "     reward_avgs[i] = mean\n",
        "     std_deviation_reward[i] = math.sqrt(variance)\n",
        "\n",
        "     mean = sum(steps_[i]) / len(steps_[i])\n",
        "     variance = sum([((x - mean) ** 2) for x in steps_[i]]) / len(steps_[i])\n",
        "     steps_avgs[i] = mean\n",
        "     std_deviation_steps[i] = math.sqrt(variance)\n",
        "\n",
        "\n",
        "     \n",
        "\n",
        "  return reward_avgs , steps_avgs, std_deviation_reward,std_deviation_steps\n"
      ]
    },
    {
      "cell_type": "code",
      "execution_count": 14,
      "metadata": {},
      "outputs": [],
      "source": [
        "def average_over_5_runs_sarsa_softmax(env,parameter,alpha,gamma):\n",
        "  num_expts = 5\n",
        "  reward_avgs, steps_avgs = [0 for i in range(episodes)], [0 for i in range(episodes)]\n",
        "  rewards_,steps_ = [[] for i in range(episodes)],[[] for i in range(episodes)]\n",
        "  std_deviation_reward = [0 for i in range(episodes)]\n",
        "  std_deviation_steps = [0 for i in range(episodes)]\n",
        "  for i in range(num_expts):\n",
        "      print(\"Experiment: %d\"%(i+1))\n",
        "      Q = np.zeros((env.num_rows, env.num_cols, env.num_actions))\n",
        "      rg = np.random.RandomState(i)\n",
        "      Q_s, reward_s, step_s, state_visit_count,count_throughout= sarsa(env, Q,parameter = parameter, alpha = alpha,  gamma = gamma, plot_heat=False, choose_action= choose_action_softmax)\n",
        "    \n",
        "      \n",
        "      for ep in range(episodes):\n",
        "        rewards_[ep].append(reward_s[ep])\n",
        "        steps_[ep].append(step_s[ep])\n",
        "\n",
        "  reward_avgs = [x/num_expts for x in reward_avgs]\n",
        "  steps_avgs = [x/num_expts for x in steps_avgs]\n",
        "  for i in range(len(std_deviation_reward)):\n",
        "     mean = sum(rewards_[i]) / len(rewards_[i])\n",
        "     variance = sum([((x - mean) ** 2) for x in rewards_[i]]) / len(rewards_[i])\n",
        "     reward_avgs[i] = mean\n",
        "     std_deviation_reward[i] = math.sqrt(variance)\n",
        "\n",
        "     mean = sum(steps_[i]) / len(steps_[i])\n",
        "     variance = sum([((x - mean) ** 2) for x in steps_[i]]) / len(steps_[i])\n",
        "     steps_avgs[i] = mean\n",
        "     std_deviation_steps[i] = math.sqrt(variance)\n",
        "\n",
        "\n",
        "     \n",
        "\n",
        "  return reward_avgs , steps_avgs, std_deviation_reward,std_deviation_steps\n"
      ]
    },
    {
      "cell_type": "code",
      "execution_count": 15,
      "metadata": {},
      "outputs": [],
      "source": [
        "def average_over_5_runs_qlearning_softmax(env,parameter,alpha,gamma):\n",
        "  num_expts = 5\n",
        "  reward_avgs, steps_avgs = [0 for i in range(episodes)], [0 for i in range(episodes)]\n",
        "  rewards_,steps_ = [[] for i in range(episodes)],[[] for i in range(episodes)]\n",
        "  std_deviation_reward = [0 for i in range(episodes)]\n",
        "  std_deviation_steps = [0 for i in range(episodes)]\n",
        "  for i in range(num_expts):\n",
        "      print(\"Experiment: %d\"%(i+1))\n",
        "      Q = np.zeros((env.num_rows, env.num_cols, env.num_actions))\n",
        "      rg = np.random.RandomState(i)\n",
        "      Q_s, reward_s, step_s, state_visit_count,count_throughout= qlearning(env, Q,parameter = parameter, alpha = alpha,  gamma = gamma, plot_heat=False, choose_action= choose_action_softmax)\n",
        "      '''reward_avgs =  [x + y for x, y in zip(reward_s, reward_avgs)]\n",
        "      steps_avgs =  [x + y for x, y in zip(step_s, steps_avgs)]'''\n",
        "      \n",
        "      for ep in range(episodes):\n",
        "        rewards_[ep].append(reward_s[ep])\n",
        "        steps_[ep].append(step_s[ep])\n",
        "\n",
        "  reward_avgs = [x/num_expts for x in reward_avgs]\n",
        "  steps_avgs = [x/num_expts for x in steps_avgs]\n",
        "  for i in range(len(std_deviation_reward)):\n",
        "     mean = sum(rewards_[i]) / len(rewards_[i])\n",
        "     variance = sum([((x - mean) ** 2) for x in rewards_[i]]) / len(rewards_[i])\n",
        "     reward_avgs[i] = mean\n",
        "     std_deviation_reward[i] = math.sqrt(variance)\n",
        "\n",
        "     mean = sum(steps_[i]) / len(steps_[i])\n",
        "     variance = sum([((x - mean) ** 2) for x in steps_[i]]) / len(steps_[i])\n",
        "     steps_avgs[i] = mean\n",
        "     std_deviation_steps[i] = math.sqrt(variance)\n",
        "\n",
        "\n",
        "     \n",
        "\n",
        "  return reward_avgs , steps_avgs, std_deviation_reward,std_deviation_steps\n"
      ]
    },
    {
      "cell_type": "code",
      "execution_count": 16,
      "metadata": {},
      "outputs": [],
      "source": [
        "store_dict = {}"
      ]
    },
    {
      "cell_type": "markdown",
      "metadata": {},
      "source": [
        "change start state, p value and wind"
      ]
    },
    {
      "cell_type": "code",
      "execution_count": 17,
      "metadata": {},
      "outputs": [],
      "source": [
        "import math"
      ]
    },
    {
      "cell_type": "code",
      "execution_count": 18,
      "metadata": {},
      "outputs": [],
      "source": [
        "def average_over_5_runs_sarsa_bayeian_epsilon(parameter,alpha,gamma):\n",
        "  num_expts = 5\n",
        "  reward_avgs, steps_avgs = [0 for i in range(episodes)], [0 for i in range(episodes)]\n",
        "  rewards_,steps_ = [[] for i in range(episodes)],[[] for i in range(episodes)]\n",
        "  std_deviation_reward = [0 for i in range(episodes)]\n",
        "  std_deviation_steps = [0 for i in range(episodes)]\n",
        "  for i in range(num_expts):\n",
        "      print(\"Experiment: %d\"%(i+1))\n",
        "      Q = np.zeros((env.num_rows, env.num_cols, env.num_actions))\n",
        "      rg = np.random.RandomState(i)\n",
        "      Q_s, reward_s, step_s, state_visit_count,count_throughtout= sarsa(env, Q,parameter = parameter, alpha = alpha,  gamma = gamma, plot_heat=False, choose_action= choose_action_epsilon)\n",
        "      '''reward_avgs =  [x + y for x, y in zip(reward_s, reward_avgs)]\n",
        "      steps_avgs =  [x + y for x, y in zip(step_s, steps_avgs)]'''\n",
        "      \n",
        "      for ep in range(episodes):\n",
        "        rewards_[ep].append(reward_s[ep])\n",
        "        steps_[ep].append(step_s[ep])\n",
        "\n",
        "  reward_avgs = [x/num_expts for x in reward_avgs]\n",
        "  steps_avgs = [x/num_expts for x in steps_avgs]\n",
        "  for i in range(len(std_deviation_reward)):\n",
        "     mean = sum(rewards_[i]) / len(rewards_[i])\n",
        "     variance = sum([((x - mean) ** 2) for x in rewards_[i]]) / len(rewards_[i])\n",
        "     reward_avgs[i] = mean\n",
        "     std_deviation_reward[i] = math.sqrt(variance)\n",
        "\n",
        "     mean = sum(steps_[i]) / len(steps_[i])\n",
        "     variance = sum([((x - mean) ** 2) for x in steps_[i]]) / len(steps_[i])\n",
        "     steps_avgs[i] = mean\n",
        "     std_deviation_steps[i] = math.sqrt(variance)\n",
        "\n",
        "\n",
        "     \n",
        "\n",
        "  return reward_avgs , steps_avgs, std_deviation_reward,std_deviation_steps\n"
      ]
    },
    {
      "cell_type": "code",
      "execution_count": 19,
      "metadata": {},
      "outputs": [],
      "source": [
        "def average_over_5_runs_sarsa_bayeian_softmax(parameter,alpha,gamma):\n",
        "  num_expts = 5\n",
        "  reward_avgs, steps_avgs = [0 for i in range(episodes)], [0 for i in range(episodes)]\n",
        "  rewards_,steps_ = [[] for i in range(episodes)],[[] for i in range(episodes)]\n",
        "  std_deviation_reward = [0 for i in range(episodes)]\n",
        "  std_deviation_steps = [0 for i in range(episodes)]\n",
        "  for i in range(num_expts):\n",
        "      print(\"Experiment: %d\"%(i+1))\n",
        "      Q = np.zeros((env.num_rows, env.num_cols, env.num_actions))\n",
        "      rg = np.random.RandomState(i)\n",
        "      Q_s, reward_s, step_s, state_visit_count,count_throughtout= sarsa(env, Q,parameter = parameter, alpha = alpha,  gamma = gamma, plot_heat=False, choose_action= choose_action_softmax)\n",
        "      '''reward_avgs =  [x + y for x, y in zip(reward_s, reward_avgs)]\n",
        "      steps_avgs =  [x + y for x, y in zip(step_s, steps_avgs)]'''\n",
        "      \n",
        "      for ep in range(episodes):\n",
        "        rewards_[ep].append(reward_s[ep])\n",
        "        steps_[ep].append(step_s[ep])\n",
        "\n",
        "  reward_avgs = [x/num_expts for x in reward_avgs]\n",
        "  steps_avgs = [x/num_expts for x in steps_avgs]\n",
        "  for i in range(len(std_deviation_reward)):\n",
        "     mean = sum(rewards_[i]) / len(rewards_[i])\n",
        "     variance = sum([((x - mean) ** 2) for x in rewards_[i]]) / len(rewards_[i])\n",
        "     reward_avgs[i] = mean\n",
        "     std_deviation_reward[i] = math.sqrt(variance)\n",
        "\n",
        "     mean = sum(steps_[i]) / len(steps_[i])\n",
        "     variance = sum([((x - mean) ** 2) for x in steps_[i]]) / len(steps_[i])\n",
        "     steps_avgs[i] = mean\n",
        "     std_deviation_steps[i] = math.sqrt(variance)\n",
        "\n",
        "\n",
        "     \n",
        "\n",
        "  return reward_avgs , steps_avgs, std_deviation_reward,std_deviation_steps\n"
      ]
    },
    {
      "cell_type": "code",
      "execution_count": 20,
      "metadata": {},
      "outputs": [],
      "source": [
        "def average_over_5_runs_qlearning_bayeian_epsilon(parameter,alpha,gamma):\n",
        "  num_expts = 5\n",
        "  reward_avgs, steps_avgs = [0 for i in range(episodes)], [0 for i in range(episodes)]\n",
        "  rewards_,steps_ = [[] for i in range(episodes)],[[] for i in range(episodes)]\n",
        "  std_deviation_reward = [0 for i in range(episodes)]\n",
        "  std_deviation_steps = [0 for i in range(episodes)]\n",
        "  for i in range(num_expts):\n",
        "      print(\"Experiment: %d\"%(i+1))\n",
        "      Q = np.zeros((env.num_rows, env.num_cols, env.num_actions))\n",
        "      rg = np.random.RandomState(i)\n",
        "      Q_s, reward_s, step_s, state_visit_count,count_throughout= qlearning(env, Q,parameter = parameter, alpha = alpha,  gamma = gamma, plot_heat=False, choose_action= choose_action_epsilon)\n",
        "      '''reward_avgs =  [x + y for x, y in zip(reward_s, reward_avgs)]\n",
        "      steps_avgs =  [x + y for x, y in zip(step_s, steps_avgs)]'''\n",
        "      \n",
        "      for ep in range(episodes):\n",
        "        rewards_[ep].append(reward_s[ep])\n",
        "        steps_[ep].append(step_s[ep])\n",
        "\n",
        "  reward_avgs = [x/num_expts for x in reward_avgs]\n",
        "  steps_avgs = [x/num_expts for x in steps_avgs]\n",
        "  for i in range(len(std_deviation_reward)):\n",
        "     mean = sum(rewards_[i]) / len(rewards_[i])\n",
        "     variance = sum([((x - mean) ** 2) for x in rewards_[i]]) / len(rewards_[i])\n",
        "     reward_avgs[i] = mean\n",
        "     std_deviation_reward[i] = math.sqrt(variance)\n",
        "\n",
        "     mean = sum(steps_[i]) / len(steps_[i])\n",
        "     variance = sum([((x - mean) ** 2) for x in steps_[i]]) / len(steps_[i])\n",
        "     steps_avgs[i] = mean\n",
        "     std_deviation_steps[i] = math.sqrt(variance)\n",
        "\n",
        "\n",
        "     \n",
        "\n",
        "  return reward_avgs , steps_avgs, std_deviation_reward,std_deviation_steps\n"
      ]
    },
    {
      "cell_type": "code",
      "execution_count": 21,
      "metadata": {},
      "outputs": [],
      "source": [
        "def average_over_5_runs_qlearning_bayeian_softmax(parameter,alpha,gamma):\n",
        "  num_expts = 5\n",
        "  reward_avgs, steps_avgs = [0 for i in range(episodes)], [0 for i in range(episodes)]\n",
        "  rewards_,steps_ = [[] for i in range(episodes)],[[] for i in range(episodes)]\n",
        "  std_deviation_reward = [0 for i in range(episodes)]\n",
        "  std_deviation_steps = [0 for i in range(episodes)]\n",
        "  for i in range(num_expts):\n",
        "      print(\"Experiment: %d\"%(i+1))\n",
        "      Q = np.zeros((env.num_rows, env.num_cols, env.num_actions))\n",
        "      rg = np.random.RandomState(i)\n",
        "      Q_s, reward_s, step_s, state_visit_count,count_throughout= qlearning(env, Q,parameter = parameter, alpha = alpha,  gamma = gamma, plot_heat=False, choose_action= choose_action_softmax)\n",
        "      '''reward_avgs =  [x + y for x, y in zip(reward_s, reward_avgs)]\n",
        "      steps_avgs =  [x + y for x, y in zip(step_s, steps_avgs)]'''\n",
        "      \n",
        "      for ep in range(episodes):\n",
        "        rewards_[ep].append(reward_s[ep])\n",
        "        steps_[ep].append(step_s[ep])\n",
        "\n",
        "  reward_avgs = [x/num_expts for x in reward_avgs]\n",
        "  steps_avgs = [x/num_expts for x in steps_avgs]\n",
        "  for i in range(len(std_deviation_reward)):\n",
        "     mean = sum(rewards_[i]) / len(rewards_[i])\n",
        "     variance = sum([((x - mean) ** 2) for x in rewards_[i]]) / len(rewards_[i])\n",
        "     reward_avgs[i] = mean\n",
        "     std_deviation_reward[i] = math.sqrt(variance)\n",
        "\n",
        "     mean = sum(steps_[i]) / len(steps_[i])\n",
        "     variance = sum([((x - mean) ** 2) for x in steps_[i]]) / len(steps_[i])\n",
        "     steps_avgs[i] = mean\n",
        "     std_deviation_steps[i] = math.sqrt(variance)\n",
        "\n",
        "\n",
        "     \n",
        "\n",
        "  return reward_avgs , steps_avgs, std_deviation_reward,std_deviation_steps\n"
      ]
    },
    {
      "cell_type": "code",
      "execution_count": 22,
      "metadata": {},
      "outputs": [],
      "source": [
        "def average_over_5_runs_sarsa_softmax(env,parameter,alpha,gamma):\n",
        "  num_expts = 5\n",
        "  reward_avgs, steps_avgs = [0 for i in range(episodes)], [0 for i in range(episodes)]\n",
        "  rewards_,steps_ = [[] for i in range(episodes)],[[] for i in range(episodes)]\n",
        "  std_deviation_reward = [0 for i in range(episodes)]\n",
        "  std_deviation_steps = [0 for i in range(episodes)]\n",
        "  for i in range(num_expts):\n",
        "      print(\"Experiment: %d\"%(i+1))\n",
        "      Q = np.zeros((env.num_rows, env.num_cols, env.num_actions))\n",
        "      rg = np.random.RandomState(i)\n",
        "      Q_s, reward_s, step_s, state_visit_count,count_throughout= sarsa(env, Q,parameter = parameter, alpha = alpha,  gamma = gamma, plot_heat=False, choose_action= choose_action_softmax)\n",
        "    \n",
        "      \n",
        "      for ep in range(episodes):\n",
        "        rewards_[ep].append(reward_s[ep])\n",
        "        steps_[ep].append(step_s[ep])\n",
        "\n",
        "  reward_avgs = [x/num_expts for x in reward_avgs]\n",
        "  steps_avgs = [x/num_expts for x in steps_avgs]\n",
        "  for i in range(len(std_deviation_reward)):\n",
        "     mean = sum(rewards_[i]) / len(rewards_[i])\n",
        "     variance = sum([((x - mean) ** 2) for x in rewards_[i]]) / len(rewards_[i])\n",
        "     reward_avgs[i] = mean\n",
        "     std_deviation_reward[i] = math.sqrt(variance)\n",
        "\n",
        "     mean = sum(steps_[i]) / len(steps_[i])\n",
        "     variance = sum([((x - mean) ** 2) for x in steps_[i]]) / len(steps_[i])\n",
        "     steps_avgs[i] = mean\n",
        "     std_deviation_steps[i] = math.sqrt(variance)\n",
        "\n",
        "\n",
        "     \n",
        "\n",
        "  return reward_avgs , steps_avgs, std_deviation_reward,std_deviation_steps\n"
      ]
    },
    {
      "cell_type": "code",
      "execution_count": 23,
      "metadata": {},
      "outputs": [],
      "source": [
        "def average_over_5_runs_qlearning_epsilon(env,parameter,alpha,gamma):\n",
        "  num_expts = 5\n",
        "  reward_avgs, steps_avgs = [0 for i in range(episodes)], [0 for i in range(episodes)]\n",
        "  rewards_,steps_ = [[] for i in range(episodes)],[[] for i in range(episodes)]\n",
        "  std_deviation_reward = [0 for i in range(episodes)]\n",
        "  std_deviation_steps = [0 for i in range(episodes)]\n",
        "  for i in range(num_expts):\n",
        "      print(\"Experiment: %d\"%(i+1))\n",
        "      Q = np.zeros((env.num_rows, env.num_cols, env.num_actions))\n",
        "      rg = np.random.RandomState(i)\n",
        "      Q_s, reward_s, step_s, state_visit_count,count_throughout= qlearning(env, Q,parameter = parameter, alpha = alpha,  gamma = gamma, plot_heat=False, choose_action= choose_action_epsilon)\n",
        "    \n",
        "      \n",
        "      for ep in range(episodes):\n",
        "        rewards_[ep].append(reward_s[ep])\n",
        "        steps_[ep].append(step_s[ep])\n",
        "\n",
        "  reward_avgs = [x/num_expts for x in reward_avgs]\n",
        "  steps_avgs = [x/num_expts for x in steps_avgs]\n",
        "  for i in range(len(std_deviation_reward)):\n",
        "     mean = sum(rewards_[i]) / len(rewards_[i])\n",
        "     variance = sum([((x - mean) ** 2) for x in rewards_[i]]) / len(rewards_[i])\n",
        "     reward_avgs[i] = mean\n",
        "     std_deviation_reward[i] = math.sqrt(variance)\n",
        "\n",
        "     mean = sum(steps_[i]) / len(steps_[i])\n",
        "     variance = sum([((x - mean) ** 2) for x in steps_[i]]) / len(steps_[i])\n",
        "     steps_avgs[i] = mean\n",
        "     std_deviation_steps[i] = math.sqrt(variance)\n",
        "\n",
        "\n",
        "     \n",
        "\n",
        "  return reward_avgs , steps_avgs, std_deviation_reward,std_deviation_steps\n"
      ]
    },
    {
      "cell_type": "code",
      "execution_count": 24,
      "metadata": {},
      "outputs": [],
      "source": [
        "def average_over_5_runs_qlearning_softmax(env,parameter,alpha,gamma):\n",
        "  num_expts = 5\n",
        "  reward_avgs, steps_avgs = [0 for i in range(episodes)], [0 for i in range(episodes)]\n",
        "  rewards_,steps_ = [[] for i in range(episodes)],[[] for i in range(episodes)]\n",
        "  std_deviation_reward = [0 for i in range(episodes)]\n",
        "  std_deviation_steps = [0 for i in range(episodes)]\n",
        "  for i in range(num_expts):\n",
        "      print(\"Experiment: %d\"%(i+1))\n",
        "      Q = np.zeros((env.num_rows, env.num_cols, env.num_actions))\n",
        "      rg = np.random.RandomState(i)\n",
        "      Q_s, reward_s, step_s, state_visit_count,count_throughout= qlearning(env, Q,parameter = parameter, alpha = alpha,  gamma = gamma, plot_heat=False, choose_action= choose_action_softmax)\n",
        "    \n",
        "      \n",
        "      for ep in range(episodes):\n",
        "        rewards_[ep].append(reward_s[ep])\n",
        "        steps_[ep].append(step_s[ep])\n",
        "\n",
        "  reward_avgs = [x/num_expts for x in reward_avgs]\n",
        "  steps_avgs = [x/num_expts for x in steps_avgs]\n",
        "  for i in range(len(std_deviation_reward)):\n",
        "     mean = sum(rewards_[i]) / len(rewards_[i])\n",
        "     variance = sum([((x - mean) ** 2) for x in rewards_[i]]) / len(rewards_[i])\n",
        "     reward_avgs[i] = mean\n",
        "     std_deviation_reward[i] = math.sqrt(variance)\n",
        "\n",
        "     mean = sum(steps_[i]) / len(steps_[i])\n",
        "     variance = sum([((x - mean) ** 2) for x in steps_[i]]) / len(steps_[i])\n",
        "     steps_avgs[i] = mean\n",
        "     std_deviation_steps[i] = math.sqrt(variance)\n",
        "\n",
        "\n",
        "     \n",
        "\n",
        "  return reward_avgs , steps_avgs, std_deviation_reward,std_deviation_steps\n"
      ]
    },
    {
      "cell_type": "code",
      "execution_count": 25,
      "metadata": {},
      "outputs": [],
      "source": [
        "param_space = {\n",
        "    'parameter': (0.1,5),\n",
        "    'alpha': (0.1, 0.999),\n",
        "    'gamma': (0.6, 0.999),\n",
        "}"
      ]
    },
    {
      "cell_type": "markdown",
      "metadata": {},
      "source": [
        "change the max function to what u want to "
      ]
    },
    {
      "cell_type": "code",
      "execution_count": 26,
      "metadata": {},
      "outputs": [],
      "source": [
        "def function_to_maximize(parameter,alpha,gamma):\n",
        "    res = average_over_5_runs_qlearning_bayeian_softmax(parameter,alpha,gamma)\n",
        "    #change \n",
        "    return np.mean(res[0])"
      ]
    },
    {
      "cell_type": "code",
      "execution_count": 27,
      "metadata": {},
      "outputs": [],
      "source": [
        "from bayes_opt import BayesianOptimization"
      ]
    },
    {
      "cell_type": "code",
      "execution_count": 28,
      "metadata": {},
      "outputs": [],
      "source": [
        "optimizer = BayesianOptimization(\n",
        "    f=function_to_maximize,\n",
        "    pbounds=param_space,\n",
        "    random_state=1,\n",
        ")"
      ]
    },
    {
      "cell_type": "code",
      "execution_count": 29,
      "metadata": {},
      "outputs": [
        {
          "name": "stdout",
          "output_type": "stream",
          "text": [
            "|   iter    |  target   |   alpha   |   gamma   | parameter |\n",
            "-------------------------------------------------------------\n",
            "Experiment: 1\n"
          ]
        },
        {
          "name": "stderr",
          "output_type": "stream",
          "text": [
            "  0%|          | 4/5001 [00:00<02:48, 29.62it/s]"
          ]
        },
        {
          "name": "stderr",
          "output_type": "stream",
          "text": [
            "100%|██████████| 5001/5001 [00:33<00:00, 147.59it/s]\n"
          ]
        },
        {
          "name": "stdout",
          "output_type": "stream",
          "text": [
            "Experiment: 2\n"
          ]
        },
        {
          "name": "stderr",
          "output_type": "stream",
          "text": [
            "100%|██████████| 5001/5001 [00:31<00:00, 160.78it/s]\n"
          ]
        },
        {
          "name": "stdout",
          "output_type": "stream",
          "text": [
            "Experiment: 3\n"
          ]
        },
        {
          "name": "stderr",
          "output_type": "stream",
          "text": [
            "100%|██████████| 5001/5001 [00:30<00:00, 163.19it/s]\n"
          ]
        },
        {
          "name": "stdout",
          "output_type": "stream",
          "text": [
            "Experiment: 4\n"
          ]
        },
        {
          "name": "stderr",
          "output_type": "stream",
          "text": [
            "100%|██████████| 5001/5001 [00:35<00:00, 139.49it/s]\n"
          ]
        },
        {
          "name": "stdout",
          "output_type": "stream",
          "text": [
            "Experiment: 5\n"
          ]
        },
        {
          "name": "stderr",
          "output_type": "stream",
          "text": [
            "100%|██████████| 5001/5001 [00:36<00:00, 135.40it/s]\n"
          ]
        },
        {
          "name": "stdout",
          "output_type": "stream",
          "text": [
            "| \u001b[0m1        \u001b[0m | \u001b[0m-27.34   \u001b[0m | \u001b[0m0.4749   \u001b[0m | \u001b[0m0.8874   \u001b[0m | \u001b[0m0.1006   \u001b[0m |\n",
            "Experiment: 1\n"
          ]
        },
        {
          "name": "stderr",
          "output_type": "stream",
          "text": [
            "100%|██████████| 5001/5001 [02:16<00:00, 36.76it/s]\n"
          ]
        },
        {
          "name": "stdout",
          "output_type": "stream",
          "text": [
            "Experiment: 2\n"
          ]
        },
        {
          "name": "stderr",
          "output_type": "stream",
          "text": [
            "100%|██████████| 5001/5001 [02:33<00:00, 32.67it/s]\n"
          ]
        },
        {
          "name": "stdout",
          "output_type": "stream",
          "text": [
            "Experiment: 3\n"
          ]
        },
        {
          "name": "stderr",
          "output_type": "stream",
          "text": [
            "100%|██████████| 5001/5001 [02:17<00:00, 36.39it/s]\n"
          ]
        },
        {
          "name": "stdout",
          "output_type": "stream",
          "text": [
            "Experiment: 4\n"
          ]
        },
        {
          "name": "stderr",
          "output_type": "stream",
          "text": [
            "100%|██████████| 5001/5001 [02:25<00:00, 34.38it/s]\n"
          ]
        },
        {
          "name": "stdout",
          "output_type": "stream",
          "text": [
            "Experiment: 5\n"
          ]
        },
        {
          "name": "stderr",
          "output_type": "stream",
          "text": [
            "100%|██████████| 5001/5001 [02:24<00:00, 34.59it/s]\n"
          ]
        },
        {
          "name": "stdout",
          "output_type": "stream",
          "text": [
            "| \u001b[0m2        \u001b[0m | \u001b[0m-188.3   \u001b[0m | \u001b[0m0.3718   \u001b[0m | \u001b[0m0.6586   \u001b[0m | \u001b[0m0.5525   \u001b[0m |\n",
            "Experiment: 1\n"
          ]
        },
        {
          "name": "stderr",
          "output_type": "stream",
          "text": [
            "100%|██████████| 5001/5001 [02:20<00:00, 35.62it/s]\n"
          ]
        },
        {
          "name": "stdout",
          "output_type": "stream",
          "text": [
            "Experiment: 2\n"
          ]
        },
        {
          "name": "stderr",
          "output_type": "stream",
          "text": [
            "100%|██████████| 5001/5001 [02:18<00:00, 36.00it/s]\n"
          ]
        },
        {
          "name": "stdout",
          "output_type": "stream",
          "text": [
            "Experiment: 3\n"
          ]
        },
        {
          "name": "stderr",
          "output_type": "stream",
          "text": [
            "100%|██████████| 5001/5001 [02:16<00:00, 36.52it/s]\n"
          ]
        },
        {
          "name": "stdout",
          "output_type": "stream",
          "text": [
            "Experiment: 4\n"
          ]
        },
        {
          "name": "stderr",
          "output_type": "stream",
          "text": [
            "100%|██████████| 5001/5001 [02:20<00:00, 35.57it/s]\n"
          ]
        },
        {
          "name": "stdout",
          "output_type": "stream",
          "text": [
            "Experiment: 5\n"
          ]
        },
        {
          "name": "stderr",
          "output_type": "stream",
          "text": [
            "100%|██████████| 5001/5001 [02:18<00:00, 36.23it/s]\n"
          ]
        },
        {
          "name": "stdout",
          "output_type": "stream",
          "text": [
            "| \u001b[0m3        \u001b[0m | \u001b[0m-180.5   \u001b[0m | \u001b[0m0.2674   \u001b[0m | \u001b[0m0.7379   \u001b[0m | \u001b[0m2.044    \u001b[0m |\n",
            "Experiment: 1\n"
          ]
        },
        {
          "name": "stderr",
          "output_type": "stream",
          "text": [
            "100%|██████████| 5001/5001 [02:31<00:00, 33.01it/s]\n"
          ]
        },
        {
          "name": "stdout",
          "output_type": "stream",
          "text": [
            "Experiment: 2\n"
          ]
        },
        {
          "name": "stderr",
          "output_type": "stream",
          "text": [
            "100%|██████████| 5001/5001 [02:31<00:00, 32.99it/s]\n"
          ]
        },
        {
          "name": "stdout",
          "output_type": "stream",
          "text": [
            "Experiment: 3\n"
          ]
        },
        {
          "name": "stderr",
          "output_type": "stream",
          "text": [
            "100%|██████████| 5001/5001 [02:30<00:00, 33.33it/s]\n"
          ]
        },
        {
          "name": "stdout",
          "output_type": "stream",
          "text": [
            "Experiment: 4\n"
          ]
        },
        {
          "name": "stderr",
          "output_type": "stream",
          "text": [
            "100%|██████████| 5001/5001 [02:21<00:00, 35.25it/s]\n"
          ]
        },
        {
          "name": "stdout",
          "output_type": "stream",
          "text": [
            "Experiment: 5\n"
          ]
        },
        {
          "name": "stderr",
          "output_type": "stream",
          "text": [
            "100%|██████████| 5001/5001 [02:34<00:00, 32.30it/s]\n"
          ]
        },
        {
          "name": "stdout",
          "output_type": "stream",
          "text": [
            "| \u001b[0m4        \u001b[0m | \u001b[0m-199.9   \u001b[0m | \u001b[0m0.5844   \u001b[0m | \u001b[0m0.7673   \u001b[0m | \u001b[0m3.458    \u001b[0m |\n",
            "Experiment: 1\n"
          ]
        },
        {
          "name": "stderr",
          "output_type": "stream",
          "text": [
            "100%|██████████| 5001/5001 [00:27<00:00, 178.87it/s]\n"
          ]
        },
        {
          "name": "stdout",
          "output_type": "stream",
          "text": [
            "Experiment: 2\n"
          ]
        },
        {
          "name": "stderr",
          "output_type": "stream",
          "text": [
            "100%|██████████| 5001/5001 [00:26<00:00, 187.93it/s]\n"
          ]
        },
        {
          "name": "stdout",
          "output_type": "stream",
          "text": [
            "Experiment: 3\n"
          ]
        },
        {
          "name": "stderr",
          "output_type": "stream",
          "text": [
            "100%|██████████| 5001/5001 [00:25<00:00, 196.71it/s]\n"
          ]
        },
        {
          "name": "stdout",
          "output_type": "stream",
          "text": [
            "Experiment: 4\n"
          ]
        },
        {
          "name": "stderr",
          "output_type": "stream",
          "text": [
            "100%|██████████| 5001/5001 [00:29<00:00, 168.87it/s]\n"
          ]
        },
        {
          "name": "stdout",
          "output_type": "stream",
          "text": [
            "Experiment: 5\n"
          ]
        },
        {
          "name": "stderr",
          "output_type": "stream",
          "text": [
            "100%|██████████| 5001/5001 [00:25<00:00, 198.27it/s]\n"
          ]
        },
        {
          "name": "stdout",
          "output_type": "stream",
          "text": [
            "| \u001b[95m5        \u001b[0m | \u001b[95m-21.05   \u001b[0m | \u001b[95m0.2838   \u001b[0m | \u001b[95m0.9504   \u001b[0m | \u001b[95m0.2342   \u001b[0m |\n",
            "Experiment: 1\n"
          ]
        },
        {
          "name": "stderr",
          "output_type": "stream",
          "text": [
            "100%|██████████| 5001/5001 [01:09<00:00, 71.59it/s] \n"
          ]
        },
        {
          "name": "stdout",
          "output_type": "stream",
          "text": [
            "Experiment: 2\n"
          ]
        },
        {
          "name": "stderr",
          "output_type": "stream",
          "text": [
            "100%|██████████| 5001/5001 [01:17<00:00, 64.55it/s] \n"
          ]
        },
        {
          "name": "stdout",
          "output_type": "stream",
          "text": [
            "Experiment: 3\n"
          ]
        },
        {
          "name": "stderr",
          "output_type": "stream",
          "text": [
            "100%|██████████| 5001/5001 [01:13<00:00, 68.14it/s]\n"
          ]
        },
        {
          "name": "stdout",
          "output_type": "stream",
          "text": [
            "Experiment: 4\n"
          ]
        },
        {
          "name": "stderr",
          "output_type": "stream",
          "text": [
            "100%|██████████| 5001/5001 [01:20<00:00, 62.14it/s]\n"
          ]
        },
        {
          "name": "stdout",
          "output_type": "stream",
          "text": [
            "Experiment: 5\n"
          ]
        },
        {
          "name": "stderr",
          "output_type": "stream",
          "text": [
            "100%|██████████| 5001/5001 [01:10<00:00, 70.81it/s] \n"
          ]
        },
        {
          "name": "stdout",
          "output_type": "stream",
          "text": [
            "| \u001b[0m6        \u001b[0m | \u001b[0m-83.31   \u001b[0m | \u001b[0m0.1122   \u001b[0m | \u001b[0m0.7759   \u001b[0m | \u001b[0m0.1235   \u001b[0m |\n",
            "Experiment: 1\n"
          ]
        },
        {
          "name": "stderr",
          "output_type": "stream",
          "text": [
            "100%|██████████| 5001/5001 [00:28<00:00, 178.22it/s]\n"
          ]
        },
        {
          "name": "stdout",
          "output_type": "stream",
          "text": [
            "Experiment: 2\n"
          ]
        },
        {
          "name": "stderr",
          "output_type": "stream",
          "text": [
            "100%|██████████| 5001/5001 [00:23<00:00, 210.13it/s]\n"
          ]
        },
        {
          "name": "stdout",
          "output_type": "stream",
          "text": [
            "Experiment: 3\n"
          ]
        },
        {
          "name": "stderr",
          "output_type": "stream",
          "text": [
            "100%|██████████| 5001/5001 [00:25<00:00, 195.71it/s]\n"
          ]
        },
        {
          "name": "stdout",
          "output_type": "stream",
          "text": [
            "Experiment: 4\n"
          ]
        },
        {
          "name": "stderr",
          "output_type": "stream",
          "text": [
            "100%|██████████| 5001/5001 [00:23<00:00, 213.05it/s]\n"
          ]
        },
        {
          "name": "stdout",
          "output_type": "stream",
          "text": [
            "Experiment: 5\n"
          ]
        },
        {
          "name": "stderr",
          "output_type": "stream",
          "text": [
            "100%|██████████| 5001/5001 [00:23<00:00, 217.34it/s]\n"
          ]
        },
        {
          "name": "stdout",
          "output_type": "stream",
          "text": [
            "| \u001b[0m7        \u001b[0m | \u001b[0m-21.92   \u001b[0m | \u001b[0m0.7539   \u001b[0m | \u001b[0m0.999    \u001b[0m | \u001b[0m0.2327   \u001b[0m |\n",
            "Experiment: 1\n"
          ]
        },
        {
          "name": "stderr",
          "output_type": "stream",
          "text": [
            "100%|██████████| 5001/5001 [03:03<00:00, 27.24it/s]\n"
          ]
        },
        {
          "name": "stdout",
          "output_type": "stream",
          "text": [
            "Experiment: 2\n"
          ]
        },
        {
          "name": "stderr",
          "output_type": "stream",
          "text": [
            "100%|██████████| 5001/5001 [02:42<00:00, 30.77it/s]\n"
          ]
        },
        {
          "name": "stdout",
          "output_type": "stream",
          "text": [
            "Experiment: 3\n"
          ]
        },
        {
          "name": "stderr",
          "output_type": "stream",
          "text": [
            "100%|██████████| 5001/5001 [02:45<00:00, 30.30it/s]\n"
          ]
        },
        {
          "name": "stdout",
          "output_type": "stream",
          "text": [
            "Experiment: 4\n"
          ]
        },
        {
          "name": "stderr",
          "output_type": "stream",
          "text": [
            "100%|██████████| 5001/5001 [02:38<00:00, 31.45it/s]\n"
          ]
        },
        {
          "name": "stdout",
          "output_type": "stream",
          "text": [
            "Experiment: 5\n"
          ]
        },
        {
          "name": "stderr",
          "output_type": "stream",
          "text": [
            "100%|██████████| 5001/5001 [02:37<00:00, 31.72it/s]\n"
          ]
        },
        {
          "name": "stdout",
          "output_type": "stream",
          "text": [
            "| \u001b[0m8        \u001b[0m | \u001b[0m-229.6   \u001b[0m | \u001b[0m0.9967   \u001b[0m | \u001b[0m0.6025   \u001b[0m | \u001b[0m0.1588   \u001b[0m |\n",
            "Experiment: 1\n"
          ]
        },
        {
          "name": "stderr",
          "output_type": "stream",
          "text": [
            "100%|██████████| 5001/5001 [02:27<00:00, 33.98it/s]\n"
          ]
        },
        {
          "name": "stdout",
          "output_type": "stream",
          "text": [
            "Experiment: 2\n"
          ]
        },
        {
          "name": "stderr",
          "output_type": "stream",
          "text": [
            "100%|██████████| 5001/5001 [02:24<00:00, 34.56it/s]\n"
          ]
        },
        {
          "name": "stdout",
          "output_type": "stream",
          "text": [
            "Experiment: 3\n"
          ]
        },
        {
          "name": "stderr",
          "output_type": "stream",
          "text": [
            "100%|██████████| 5001/5001 [02:23<00:00, 34.76it/s]\n"
          ]
        },
        {
          "name": "stdout",
          "output_type": "stream",
          "text": [
            "Experiment: 4\n"
          ]
        },
        {
          "name": "stderr",
          "output_type": "stream",
          "text": [
            "100%|██████████| 5001/5001 [02:26<00:00, 34.19it/s]\n"
          ]
        },
        {
          "name": "stdout",
          "output_type": "stream",
          "text": [
            "Experiment: 5\n"
          ]
        },
        {
          "name": "stderr",
          "output_type": "stream",
          "text": [
            "100%|██████████| 5001/5001 [02:24<00:00, 34.61it/s]\n"
          ]
        },
        {
          "name": "stdout",
          "output_type": "stream",
          "text": [
            "| \u001b[0m9        \u001b[0m | \u001b[0m-231.2   \u001b[0m | \u001b[0m0.3045   \u001b[0m | \u001b[0m0.6621   \u001b[0m | \u001b[0m4.742    \u001b[0m |\n",
            "Experiment: 1\n"
          ]
        },
        {
          "name": "stderr",
          "output_type": "stream",
          "text": [
            "100%|██████████| 5001/5001 [01:13<00:00, 68.22it/s] \n"
          ]
        },
        {
          "name": "stdout",
          "output_type": "stream",
          "text": [
            "Experiment: 2\n"
          ]
        },
        {
          "name": "stderr",
          "output_type": "stream",
          "text": [
            "100%|██████████| 5001/5001 [01:25<00:00, 58.34it/s]\n"
          ]
        },
        {
          "name": "stdout",
          "output_type": "stream",
          "text": [
            "Experiment: 3\n"
          ]
        },
        {
          "name": "stderr",
          "output_type": "stream",
          "text": [
            "100%|██████████| 5001/5001 [01:16<00:00, 65.15it/s] \n"
          ]
        },
        {
          "name": "stdout",
          "output_type": "stream",
          "text": [
            "Experiment: 4\n"
          ]
        },
        {
          "name": "stderr",
          "output_type": "stream",
          "text": [
            "100%|██████████| 5001/5001 [01:12<00:00, 68.73it/s] \n"
          ]
        },
        {
          "name": "stdout",
          "output_type": "stream",
          "text": [
            "Experiment: 5\n"
          ]
        },
        {
          "name": "stderr",
          "output_type": "stream",
          "text": [
            "100%|██████████| 5001/5001 [01:14<00:00, 67.45it/s] \n"
          ]
        },
        {
          "name": "stdout",
          "output_type": "stream",
          "text": [
            "| \u001b[0m10       \u001b[0m | \u001b[0m-110.6   \u001b[0m | \u001b[0m0.7529   \u001b[0m | \u001b[0m0.8907   \u001b[0m | \u001b[0m1.054    \u001b[0m |\n",
            "Experiment: 1\n"
          ]
        },
        {
          "name": "stderr",
          "output_type": "stream",
          "text": [
            "100%|██████████| 5001/5001 [00:22<00:00, 223.52it/s]\n"
          ]
        },
        {
          "name": "stdout",
          "output_type": "stream",
          "text": [
            "Experiment: 2\n"
          ]
        },
        {
          "name": "stderr",
          "output_type": "stream",
          "text": [
            "100%|██████████| 5001/5001 [00:22<00:00, 222.89it/s]\n"
          ]
        },
        {
          "name": "stdout",
          "output_type": "stream",
          "text": [
            "Experiment: 3\n"
          ]
        },
        {
          "name": "stderr",
          "output_type": "stream",
          "text": [
            "100%|██████████| 5001/5001 [00:17<00:00, 280.69it/s]\n"
          ]
        },
        {
          "name": "stdout",
          "output_type": "stream",
          "text": [
            "Experiment: 4\n"
          ]
        },
        {
          "name": "stderr",
          "output_type": "stream",
          "text": [
            "100%|██████████| 5001/5001 [00:18<00:00, 268.13it/s]\n"
          ]
        },
        {
          "name": "stdout",
          "output_type": "stream",
          "text": [
            "Experiment: 5\n"
          ]
        },
        {
          "name": "stderr",
          "output_type": "stream",
          "text": [
            "100%|██████████| 5001/5001 [00:25<00:00, 194.73it/s]"
          ]
        },
        {
          "name": "stdout",
          "output_type": "stream",
          "text": [
            "| \u001b[0m11       \u001b[0m | \u001b[0m-21.25   \u001b[0m | \u001b[0m0.556    \u001b[0m | \u001b[0m0.9934   \u001b[0m | \u001b[0m0.3961   \u001b[0m |\n",
            "=============================================================\n"
          ]
        },
        {
          "name": "stderr",
          "output_type": "stream",
          "text": [
            "\n"
          ]
        }
      ],
      "source": [
        "optimizer.maximize(\n",
        "    init_points=5,\n",
        "    n_iter=6,\n",
        ")"
      ]
    },
    {
      "cell_type": "code",
      "execution_count": 30,
      "metadata": {},
      "outputs": [
        {
          "name": "stdout",
          "output_type": "stream",
          "text": [
            "Iteration 0: \n",
            "\t{'target': -27.344571085782846, 'params': {'alpha': 0.47490278222761406, 'gamma': 0.8874094728834211, 'parameter': 0.10056043660498995}}\n",
            "Iteration 1: \n",
            "\t{'target': -188.34445110977805, 'params': {'alpha': 0.3717969827960239, 'gamma': 0.6585556004360281, 'parameter': 0.5524591143671093}}\n",
            "Iteration 2: \n",
            "\t{'target': -180.5127374525095, 'params': {'alpha': 0.2674479300285262, 'gamma': 0.737878730090176, 'parameter': 2.0441606237302827}}\n",
            "Iteration 3: \n",
            "\t{'target': -199.94573085382925, 'params': {'alpha': 0.5843962438690179, 'gamma': 0.7672586112469146, 'parameter': 3.457575551944122}}\n",
            "Iteration 4: \n",
            "\t{'target': -21.050549890021998, 'params': {'alpha': 0.28380257250863417, 'gamma': 0.9503688571199872, 'parameter': 0.2341992066698382}}\n",
            "Iteration 5: \n",
            "\t{'target': -83.31485702859428, 'params': {'alpha': 0.11216392678659183, 'gamma': 0.7759107362965649, 'parameter': 0.12345344871883424}}\n",
            "Iteration 6: \n",
            "\t{'target': -21.91629674065187, 'params': {'alpha': 0.7538934703231378, 'gamma': 0.999, 'parameter': 0.23268748791348445}}\n",
            "Iteration 7: \n",
            "\t{'target': -229.63423315336934, 'params': {'alpha': 0.9967353444359018, 'gamma': 0.6025213576801229, 'parameter': 0.15881730624899876}}\n",
            "Iteration 8: \n",
            "\t{'target': -231.2149970005999, 'params': {'alpha': 0.3045358663361979, 'gamma': 0.6620804089578988, 'parameter': 4.74178691027812}}\n",
            "Iteration 9: \n",
            "\t{'target': -110.63679264147173, 'params': {'alpha': 0.7529041906412169, 'gamma': 0.8907161935264261, 'parameter': 1.0539713547531486}}\n",
            "Iteration 10: \n",
            "\t{'target': -21.24559088182363, 'params': {'alpha': 0.556021203995436, 'gamma': 0.9934135303393493, 'parameter': 0.39613443165982276}}\n"
          ]
        }
      ],
      "source": [
        "for i, res in enumerate(optimizer.res):\n",
        "    print(\"Iteration {}: \\n\\t{}\".format(i, res))"
      ]
    },
    {
      "cell_type": "code",
      "execution_count": 31,
      "metadata": {},
      "outputs": [
        {
          "name": "stdout",
          "output_type": "stream",
          "text": [
            "{'target': -21.050549890021998, 'params': {'alpha': 0.28380257250863417, 'gamma': 0.9503688571199872, 'parameter': 0.2341992066698382}}\n"
          ]
        }
      ],
      "source": [
        "print(optimizer.max)"
      ]
    },
    {
      "cell_type": "markdown",
      "metadata": {},
      "source": [
        "change here"
      ]
    },
    {
      "cell_type": "code",
      "execution_count": 32,
      "metadata": {},
      "outputs": [
        {
          "name": "stdout",
          "output_type": "stream",
          "text": [
            "Experiment: 1\n"
          ]
        },
        {
          "name": "stderr",
          "output_type": "stream",
          "text": [
            "  0%|          | 0/5001 [00:00<?, ?it/s]"
          ]
        },
        {
          "name": "stderr",
          "output_type": "stream",
          "text": [
            "100%|██████████| 5001/5001 [00:21<00:00, 234.86it/s]\n"
          ]
        },
        {
          "name": "stdout",
          "output_type": "stream",
          "text": [
            "Experiment: 2\n"
          ]
        },
        {
          "name": "stderr",
          "output_type": "stream",
          "text": [
            "100%|██████████| 5001/5001 [00:19<00:00, 257.08it/s]\n"
          ]
        },
        {
          "name": "stdout",
          "output_type": "stream",
          "text": [
            "Experiment: 3\n"
          ]
        },
        {
          "name": "stderr",
          "output_type": "stream",
          "text": [
            "100%|██████████| 5001/5001 [00:18<00:00, 265.44it/s]\n"
          ]
        },
        {
          "name": "stdout",
          "output_type": "stream",
          "text": [
            "Experiment: 4\n"
          ]
        },
        {
          "name": "stderr",
          "output_type": "stream",
          "text": [
            "100%|██████████| 5001/5001 [00:19<00:00, 260.36it/s]\n"
          ]
        },
        {
          "name": "stdout",
          "output_type": "stream",
          "text": [
            "Experiment: 5\n"
          ]
        },
        {
          "name": "stderr",
          "output_type": "stream",
          "text": [
            "100%|██████████| 5001/5001 [00:19<00:00, 256.65it/s]"
          ]
        },
        {
          "name": "stdout",
          "output_type": "stream",
          "text": [
            "-20.979844031193764\n"
          ]
        },
        {
          "name": "stderr",
          "output_type": "stream",
          "text": [
            "\n"
          ]
        }
      ],
      "source": [
        "res = average_over_5_runs_qlearning_bayeian_softmax(optimizer.max[\"params\"][\"parameter\"], optimizer.max[\"params\"][\"alpha\"],optimizer.max[\"params\"][\"gamma\"])\n",
        "#change\n",
        "print(np.mean(res[0]))"
      ]
    },
    {
      "cell_type": "markdown",
      "metadata": {},
      "source": [
        "change"
      ]
    },
    {
      "cell_type": "code",
      "execution_count": 33,
      "metadata": {},
      "outputs": [
        {
          "name": "stdout",
          "output_type": "stream",
          "text": [
            "Experiment: 1\n"
          ]
        },
        {
          "name": "stderr",
          "output_type": "stream",
          "text": [
            "100%|██████████| 5001/5001 [00:22<00:00, 223.20it/s]\n"
          ]
        },
        {
          "name": "stdout",
          "output_type": "stream",
          "text": [
            "Experiment: 2\n"
          ]
        },
        {
          "name": "stderr",
          "output_type": "stream",
          "text": [
            "100%|██████████| 5001/5001 [00:19<00:00, 256.41it/s]\n"
          ]
        },
        {
          "name": "stdout",
          "output_type": "stream",
          "text": [
            "Experiment: 3\n"
          ]
        },
        {
          "name": "stderr",
          "output_type": "stream",
          "text": [
            "100%|██████████| 5001/5001 [00:19<00:00, 257.92it/s]\n"
          ]
        },
        {
          "name": "stdout",
          "output_type": "stream",
          "text": [
            "Experiment: 4\n"
          ]
        },
        {
          "name": "stderr",
          "output_type": "stream",
          "text": [
            "100%|██████████| 5001/5001 [00:20<00:00, 241.31it/s]\n"
          ]
        },
        {
          "name": "stdout",
          "output_type": "stream",
          "text": [
            "Experiment: 5\n"
          ]
        },
        {
          "name": "stderr",
          "output_type": "stream",
          "text": [
            "100%|██████████| 5001/5001 [00:19<00:00, 259.83it/s]\n"
          ]
        }
      ],
      "source": [
        "reward_avgs , steps_avgs,reward_std,steps_std =average_over_5_runs_qlearning_softmax(env,optimizer.max[\"params\"][\"parameter\"], optimizer.max[\"params\"][\"alpha\"],optimizer.max[\"params\"][\"gamma\"])\n",
        "#change"
      ]
    },
    {
      "cell_type": "code",
      "execution_count": 34,
      "metadata": {},
      "outputs": [
        {
          "data": {
            "image/png": "[encoded data removed]",
            "text/plain": [
              "<Figure size 640x480 with 1 Axes>"
            ]
          },
          "metadata": {},
          "output_type": "display_data"
        },
        {
          "data": {
            "text/plain": [
              "<Figure size 15000x1500 with 0 Axes>"
            ]
          },
          "metadata": {},
          "output_type": "display_data"
        },
        {
          "data": {
            "image/png": "[encoded data removed]",
            "text/plain": [
              "<Figure size 640x480 with 1 Axes>"
            ]
          },
          "metadata": {},
          "output_type": "display_data"
        },
        {
          "data": {
            "text/plain": [
              "<Figure size 1500x1500 with 0 Axes>"
            ]
          },
          "metadata": {},
          "output_type": "display_data"
        }
      ],
      "source": [
        "plt.figure()\n",
        "plt.xlabel('Episode')\n",
        "plt.ylabel('Number of steps to Goal')\n",
        "episode_count = np.arange(0, 5001)\n",
        "plt.plot(episode_count, steps_avgs,color=\"blue\")\n",
        "lower_steps = [steps_avgs[i] - steps_std[i] for i in range(len(episode_count))]\n",
        "upper_steps = [steps_avgs[i] + steps_std[i] for i in range(len(episode_count))]\n",
        "plt.fill_between(episode_count, lower_steps, upper_steps,color='yellow', alpha=0.5, label='± 1 Std Dev')\n",
        "plt.figure(figsize=(150, 15))\n",
        "plt.show()\n",
        "\n",
        "plt.figure()\n",
        "plt.xlabel('Episode')\n",
        "plt.ylabel('Total Reward')\n",
        "plt.plot(episode_count, reward_avgs)\n",
        "lower_steps = [reward_avgs[i] - reward_std[i] for i in range(len(episode_count))]\n",
        "upper_steps = [reward_avgs[i] + reward_std[i] for i in range(len(episode_count))]\n",
        "\n",
        "plt.plot(episode_count, reward_avgs,color = \"blue\")\n",
        "plt.fill_between(episode_count, lower_steps, upper_steps,color='yellow', alpha=0.5, label='± 1 Std Dev')\n",
        "plt.figure(figsize=(15, 15))\n",
        "plt.show()"
      ]
    },
    {
      "cell_type": "code",
      "execution_count": 35,
      "metadata": {},
      "outputs": [],
      "source": [
        "Q = np.zeros((env.num_rows, env.num_cols, env.num_actions))"
      ]
    },
    {
      "cell_type": "markdown",
      "metadata": {},
      "source": [
        "change"
      ]
    },
    {
      "cell_type": "code",
      "execution_count": 36,
      "metadata": {},
      "outputs": [
        {
          "name": "stdout",
          "output_type": "stream",
          "text": [
            "Episode 5000: Reward: -17.989899, Steps: 24.85, Qmax: 9.86, Qmin: -32.20\n"
          ]
        },
        {
          "data": {
            "image/png": "[encoded data removed]",
            "text/plain": [
              "<Figure size 1000x1000 with 2 Axes>"
            ]
          },
          "metadata": {},
          "output_type": "display_data"
        },
        {
          "data": {
            "image/png": "[encoded data removed]",
            "text/plain": [
              "<Figure size 1000x1000 with 2 Axes>"
            ]
          },
          "metadata": {},
          "output_type": "display_data"
        },
        {
          "name": "stderr",
          "output_type": "stream",
          "text": [
            "100%|██████████| 5001/5001 [00:33<00:00, 148.64it/s]\n"
          ]
        },
        {
          "data": {
            "image/png": "[encoded data removed]",
            "text/plain": [
              "<Figure size 1000x1000 with 2 Axes>"
            ]
          },
          "metadata": {},
          "output_type": "display_data"
        }
      ],
      "source": [
        "Q, rewards, step,state_visit_count,count_throughout = qlearning(env, Q,alpha = optimizer.max[\"params\"][\"alpha\"], parameter = optimizer.max[\"params\"][\"parameter\"], gamma = optimizer.max[\"params\"][\"gamma\"], plot_heat=True, choose_action= choose_action_softmax)\n",
        "#change"
      ]
    },
    {
      "cell_type": "code",
      "execution_count": 37,
      "metadata": {},
      "outputs": [
        {
          "data": {
            "image/png": "[encoded data removed]",
            "text/plain": [
              "<Figure size 1000x1000 with 2 Axes>"
            ]
          },
          "metadata": {},
          "output_type": "display_data"
        }
      ],
      "source": [
        "plot_state_visits(count_throughout)"
      ]
    }
  ],
  "metadata": {
    "colab": {
      "provenance": []
    },
    "kernelspec": {
      "display_name": "Python 3",
      "name": "python3"
    },
    "language_info": {
      "codemirror_mode": {
        "name": "ipython",
        "version": 3
      },
      "file_extension": ".py",
      "mimetype": "text/x-python",
      "name": "python",
      "nbconvert_exporter": "python",
      "pygments_lexer": "ipython3",
      "version": "3.10.13"
    }
  },
  "nbformat": 4,
  "nbformat_minor": 0
}
