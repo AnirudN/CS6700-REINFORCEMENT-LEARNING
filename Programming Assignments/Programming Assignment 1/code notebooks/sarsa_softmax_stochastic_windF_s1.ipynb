{
  "cells": [
    {
      "cell_type": "code",
      "execution_count": 1,
      "metadata": {
        "id": "tyQouu2xlSPX"
      },
      "outputs": [],
      "source": [
        "import numpy as np\n",
        "import matplotlib.pyplot as plt\n",
        "from tqdm import tqdm\n",
        "from IPython.display import clear_output\n",
        "import random\n",
        "import decimal\n",
        "import operator\n",
        "import math\n",
        "%matplotlib inline"
      ]
    },
    {
      "cell_type": "code",
      "execution_count": 2,
      "metadata": {
        "id": "SpXfJ6XXLtTe"
      },
      "outputs": [],
      "source": [
        "from math import floor\n",
        "import numpy as np\n",
        "\n",
        "def row_col_to_seq(row_col, num_cols):  #Converts state number to row_column format\n",
        "    return row_col[:,0] * num_cols + row_col[:,1]\n",
        "\n",
        "def seq_to_col_row(seq, num_cols): #Converts row_column format to state number\n",
        "    r = floor(seq / num_cols)\n",
        "    c = seq - r * num_cols\n",
        "    return np.array([[r, c]])\n",
        "\n",
        "class GridWorld:\n",
        "    \"\"\"\n",
        "    Creates a gridworld object to pass to an RL algorithm.\n",
        "    Parameters\n",
        "    ----------\n",
        "    num_rows : int\n",
        "        The number of rows in the gridworld.\n",
        "    num_cols : int\n",
        "        The number of cols in the gridworld.\n",
        "    start_state : numpy array of shape (1, 2), np.array([[row, col]])\n",
        "        The start state of the gridworld (can only be one start state)\n",
        "    goal_states : numpy arrany of shape (n, 2)\n",
        "        The goal states for the gridworld where n is the number of goal\n",
        "        states.\n",
        "    \"\"\"\n",
        "    def __init__(self, num_rows, num_cols, start_state, goal_states, wind = False):\n",
        "        self.num_rows = num_rows\n",
        "        self.num_cols = num_cols\n",
        "        self.start_state = start_state\n",
        "        self.goal_states = goal_states\n",
        "        self.obs_states = None\n",
        "        self.bad_states = None\n",
        "        self.num_bad_states = 0\n",
        "        self.p_good_trans = None\n",
        "        self.bias = None\n",
        "        self.r_step = None\n",
        "        self.r_goal = None\n",
        "        self.r_dead = None\n",
        "        self.gamma = 1 # default is no discounting\n",
        "        self.wind = wind\n",
        "\n",
        "    def add_obstructions(self, obstructed_states=None, bad_states=None, restart_states=None):\n",
        "\n",
        "        self.obs_states = obstructed_states\n",
        "        self.bad_states = bad_states\n",
        "        if bad_states is not None:\n",
        "            self.num_bad_states = bad_states.shape[0]\n",
        "        else:\n",
        "            self.num_bad_states = 0\n",
        "        self.restart_states = restart_states\n",
        "        if restart_states is not None:\n",
        "            self.num_restart_states = restart_states.shape[0]\n",
        "        else:\n",
        "            self.num_restart_states = 0\n",
        "\n",
        "    def add_transition_probability(self, p_good_transition, bias):\n",
        "\n",
        "        self.p_good_trans = p_good_transition\n",
        "        self.bias = bias\n",
        "\n",
        "    def add_rewards(self, step_reward, goal_reward, bad_state_reward=None, restart_state_reward = None):\n",
        "\n",
        "        self.r_step = step_reward\n",
        "        self.r_goal = goal_reward\n",
        "        self.r_bad = bad_state_reward\n",
        "        self.r_restart = restart_state_reward\n",
        "\n",
        "\n",
        "    def create_gridworld(self):\n",
        "\n",
        "        self.num_actions = 4\n",
        "        self.num_states = self.num_cols * self.num_rows# +1\n",
        "        self.start_state_seq = row_col_to_seq(self.start_state, self.num_cols)\n",
        "        self.goal_states_seq = row_col_to_seq(self.goal_states, self.num_cols)\n",
        "\n",
        "        # rewards structure\n",
        "        self.R = self.r_step * np.ones((self.num_states, 1))\n",
        "        #self.R[self.num_states-1] = 0\n",
        "        self.R[self.goal_states_seq] = self.r_goal\n",
        "\n",
        "        for i in range(self.num_bad_states):\n",
        "            if self.r_bad is None:\n",
        "                raise Exception(\"Bad state specified but no reward is given\")\n",
        "            bad_state = row_col_to_seq(self.bad_states[i,:].reshape(1,-1), self.num_cols)\n",
        "            #print(\"bad states\", bad_state)\n",
        "            self.R[bad_state, :] = self.r_bad\n",
        "        for i in range(self.num_restart_states):\n",
        "            if self.r_restart is None:\n",
        "                raise Exception(\"Restart state specified but no reward is given\")\n",
        "            restart_state = row_col_to_seq(self.restart_states[i,:].reshape(1,-1), self.num_cols)\n",
        "            #print(\"restart_state\", restart_state)\n",
        "            self.R[restart_state, :] = self.r_restart\n",
        "\n",
        "        # probability model\n",
        "        if self.p_good_trans == None:\n",
        "            raise Exception(\"Must assign probability and bias terms via the add_transition_probability method.\")\n",
        "\n",
        "        self.P = np.zeros((self.num_states,self.num_states,self.num_actions))\n",
        "        for action in range(self.num_actions):\n",
        "            for state in range(self.num_states):\n",
        "\n",
        "\n",
        "                # check if the state is the goal state or an obstructed state - transition to end\n",
        "                row_col = seq_to_col_row(state, self.num_cols)\n",
        "                if self.obs_states is not None:\n",
        "                    end_states = np.vstack((self.obs_states, self.goal_states))\n",
        "                else:\n",
        "                    end_states = self.goal_states\n",
        "\n",
        "                if any(np.sum(np.abs(end_states-row_col), 1) == 0):\n",
        "                    self.P[state, state, action] = 1\n",
        "\n",
        "                # else consider stochastic effects of action\n",
        "                else:\n",
        "                    for dir in range(-1,2,1):\n",
        "\n",
        "                        direction = self._get_direction(action, dir)\n",
        "                        next_state = self._get_state(state, direction)\n",
        "                        if dir == 0:\n",
        "                            prob = self.p_good_trans\n",
        "                        elif dir == -1:\n",
        "                            prob = (1 - self.p_good_trans)*(self.bias)\n",
        "                        elif dir == 1:\n",
        "                            prob = (1 - self.p_good_trans)*(1-self.bias)\n",
        "\n",
        "                        self.P[state, next_state, action] += prob\n",
        "\n",
        "                # make restart states transition back to the start state with\n",
        "                # probability 1\n",
        "                if self.restart_states is not None:\n",
        "                    if any(np.sum(np.abs(self.restart_states-row_col),1)==0):\n",
        "                        next_state = row_col_to_seq(self.start_state, self.num_cols)\n",
        "                        self.P[state,:,:] = 0\n",
        "                        self.P[state,next_state,:] = 1\n",
        "        return self\n",
        "\n",
        "    def _get_direction(self, action, direction):\n",
        "\n",
        "        left = [2,3,1,0]\n",
        "        right = [3,2,0,1]\n",
        "        if direction == 0:\n",
        "            new_direction = action\n",
        "        elif direction == -1:\n",
        "            new_direction = left[action]\n",
        "        elif direction == 1:\n",
        "            new_direction = right[action]\n",
        "        else:\n",
        "            raise Exception(\"getDir received an unspecified case\")\n",
        "        return new_direction\n",
        "\n",
        "    def _get_state(self, state, direction):\n",
        "\n",
        "        row_change = [-1,1,0,0]\n",
        "        col_change = [0,0,-1,1]\n",
        "        row_col = seq_to_col_row(state, self.num_cols)\n",
        "        row_col[0,0] += row_change[direction]\n",
        "        row_col[0,1] += col_change[direction]\n",
        "\n",
        "        # check for invalid states\n",
        "        if self.obs_states is not None:\n",
        "            if (np.any(row_col < 0) or\n",
        "                np.any(row_col[:,0] > self.num_rows-1) or\n",
        "                np.any(row_col[:,1] > self.num_cols-1) or\n",
        "                np.any(np.sum(abs(self.obs_states - row_col), 1)==0)):\n",
        "                next_state = state\n",
        "            else:\n",
        "                next_state = row_col_to_seq(row_col, self.num_cols)[0]\n",
        "        else:\n",
        "            if (np.any(row_col < 0) or\n",
        "                np.any(row_col[:,0] > self.num_rows-1) or\n",
        "                np.any(row_col[:,1] > self.num_cols-1)):\n",
        "                next_state = state\n",
        "            else:\n",
        "                next_state = row_col_to_seq(row_col, self.num_cols)[0]\n",
        "\n",
        "        return next_state\n",
        "\n",
        "    def reset(self):\n",
        "      return int(self.start_state_seq)\n",
        "\n",
        "    def step(self, state, action):\n",
        "        p, r = 0, np.random.random()\n",
        "        for next_state in range(self.num_states):\n",
        "\n",
        "            p += self.P[state, next_state, action]\n",
        "\n",
        "            if r <= p:\n",
        "                break\n",
        "\n",
        "        if(self.wind and np.random.random() < 0.4):\n",
        "\n",
        "          arr = self.P[next_state, :, 3]\n",
        "          next_next = np.where(arr == np.amax(arr))\n",
        "          next_next = next_next[0][0]\n",
        "          if next_next in self.goal_states_seq:\n",
        "                done=True\n",
        "          else:\n",
        "                done=False\n",
        "          return next_next, self.R[next_next],done\n",
        "        else:\n",
        "          if next_state in self.goal_states_seq:\n",
        "                done=True\n",
        "          else:\n",
        "            done=False\n",
        "          return next_state, self.R[next_state],done\n",
        "\n",
        "    "
      ]
    },
    {
      "cell_type": "markdown",
      "metadata": {},
      "source": [
        "CHange start state, p values,wind"
      ]
    },
    {
      "cell_type": "code",
      "execution_count": 3,
      "metadata": {
        "id": "BqE09JUiL1B8"
      },
      "outputs": [],
      "source": [
        "# specify world parameters\n",
        "num_cols = 10\n",
        "num_rows = 10\n",
        "obstructions = np.array([[0,7],[1,1],[1,2],[1,3],[1,7],[2,1],[2,3],\n",
        "                         [2,7],[3,1],[3,3],[3,5],[4,3],[4,5],[4,7],\n",
        "                         [5,3],[5,7],[5,9],[6,3],[6,9],[7,1],[7,6],\n",
        "                         [7,7],[7,8],[7,9],[8,1],[8,5],[8,6],[9,1]])\n",
        "bad_states = np.array([[1,9],[4,2],[4,4],[7,5],[9,9]])\n",
        "restart_states = np.array([[3,7],[8,2]])\n",
        "start_state = np.array([[3,6]])\n",
        "#change\n",
        "goal_states = np.array([[0,9],[2,2],[8,7]])\n",
        "\n",
        "# create model\n",
        "gw = GridWorld(num_rows=num_rows,\n",
        "               num_cols=num_cols,\n",
        "               start_state=start_state,\n",
        "               goal_states=goal_states, wind = False)\n",
        "gw.add_obstructions(obstructed_states=obstructions,\n",
        "                    bad_states=bad_states,\n",
        "                    restart_states=restart_states)\n",
        "gw.add_rewards(step_reward=-1,\n",
        "               goal_reward=10,\n",
        "               bad_state_reward=-6,\n",
        "               restart_state_reward=-100)\n",
        "gw.add_transition_probability(p_good_transition=0.7,\n",
        "                              bias=0.5)\n",
        "env = gw.create_gridworld()"
      ]
    },
    {
      "cell_type": "code",
      "execution_count": 4,
      "metadata": {
        "colab": {
          "base_uri": "https://localhost:8080/"
        },
        "id": "0UdRce8oMZNb",
        "outputId": "04fda584-e58c-4aae-d5e2-691b1ffccbee"
      },
      "outputs": [
        {
          "name": "stdout",
          "output_type": "stream",
          "text": [
            "Number of actions 4\n",
            "Number of states 100\n",
            "start state [36]\n",
            "goal state(s) [ 9 22 87]\n"
          ]
        }
      ],
      "source": [
        "print(\"Number of actions\", env.num_actions) #0 -> UP, 1-> DOWN, 2 -> LEFT, 3-> RIGHT\n",
        "print(\"Number of states\", env.num_states)\n",
        "print(\"start state\", env.start_state_seq)\n",
        "print(\"goal state(s)\", env.goal_states_seq)"
      ]
    },
    {
      "cell_type": "code",
      "execution_count": 5,
      "metadata": {
        "id": "O4lZACBnWV0-"
      },
      "outputs": [],
      "source": [
        "UP = 0\n",
        "DOWN = 1\n",
        "LEFT = 2\n",
        "RIGHT = 3\n",
        "actions = [UP,DOWN,LEFT,RIGHT]"
      ]
    },
    {
      "cell_type": "markdown",
      "metadata": {
        "id": "6DxaIswui_0d"
      },
      "source": [
        "Function for plots\n"
      ]
    },
    {
      "cell_type": "code",
      "execution_count": 6,
      "metadata": {
        "id": "0NjSJx1RjB4S"
      },
      "outputs": [],
      "source": [
        "def plot_Q(Q, message = \"Q plot\",progress = \"\"):\n",
        "\n",
        "    k=len(message)\n",
        "    plt.figure(figsize=(10,10))\n",
        "    plt.suptitle(message)\n",
        "    print(message)\n",
        "    plt.title(progress)\n",
        "    plt.pcolor(Q.max(-1), edgecolors='k', linewidths=2)\n",
        "    plt.colorbar()\n",
        "    def x_direct(a):\n",
        "        if a in [UP, DOWN]:\n",
        "            return 0\n",
        "        return 1 if a == RIGHT else -1\n",
        "    def y_direct(a):\n",
        "        if a in [RIGHT, LEFT]:\n",
        "            return 0\n",
        "        return 1 if a == UP else -1\n",
        "    policy = Q.argmax(-1)\n",
        "    policyx = np.vectorize(x_direct)(policy)\n",
        "    policyy = np.vectorize(y_direct)(policy)\n",
        "    idx = np.indices(policy.shape)\n",
        "    plt.quiver(idx[1].ravel()+0.5, idx[0].ravel()+0.5, policyx.ravel(), policyy.ravel(), pivot=\"middle\", color='red')\n",
        "    #plt.savefig(f\"Q_{message}.jpg\")\n",
        "    plt.show()"
      ]
    },
    {
      "cell_type": "code",
      "execution_count": 7,
      "metadata": {
        "id": "U3MDinZvjCYk"
      },
      "outputs": [],
      "source": [
        "def plot_state_visits(state_visit_counts,message=\"State Visit Count Plot\",progress=\"\"):\n",
        "    k=len(message)\n",
        "    plt.figure(figsize=(10,10))\n",
        "\n",
        "    plt.suptitle(message)\n",
        "    plt.title(progress)\n",
        "    plt.pcolor(state_visit_counts, edgecolors='k', linewidths=2)\n",
        "    plt.colorbar()\n",
        "    #plt.savefig(f\"State_{message}.jpg\")"
      ]
    },
    {
      "cell_type": "markdown",
      "metadata": {
        "id": "upJuYsljnFKS"
      },
      "source": [
        "EPSILON GREEDY AND SOFTMAX ALGORITHMS"
      ]
    },
    {
      "cell_type": "code",
      "execution_count": 8,
      "metadata": {
        "id": "z6t4CozYlhw3"
      },
      "outputs": [],
      "source": [
        "from scipy.special import softmax\n",
        "\n",
        "import random\n",
        "\n",
        "# Epsilon greedy\n",
        "def choose_action_epsilon(Q, state, epsilon=0.1):\n",
        "    if not Q[state[0][0], state[0][1]].any() or random.random() < epsilon: # randomly choose based on epsilon\n",
        "        return random.randint(0, Q.shape[-1] - 1) # return random action\n",
        "    else:\n",
        "        return np.argmax(Q[state[0][0], state[0][1]]) # return best action\n",
        "\n",
        "# Softmax\n",
        "def choose_action_softmax(Q, state,tau=1):\n",
        "    Q = Q / tau\n",
        "    action_probs = softmax(Q[state[0][0], state[0][1]])\n",
        "    return random.choices(range(len(action_probs)), weights=action_probs)[0] # returns a random action with selection probability\n",
        "\n",
        "# Example usage:\n",
        "# action = choose_action_softmax(Q_values, state)\n"
      ]
    },
    {
      "cell_type": "markdown",
      "metadata": {
        "id": "sh5oaPOVnlr1"
      },
      "source": [
        "IMPLEMENT SARSA"
      ]
    },
    {
      "cell_type": "code",
      "execution_count": 9,
      "metadata": {
        "id": "a9uqansQqLJ_"
      },
      "outputs": [],
      "source": [
        "Q = np.zeros((env.num_rows, env.num_cols, env.num_actions))\n",
        "alpha0 = 0.4\n",
        "gamma = 0.9\n",
        "episodes = 5001\n",
        "epsilon0 = 0.1"
      ]
    },
    {
      "cell_type": "code",
      "execution_count": 10,
      "metadata": {},
      "outputs": [],
      "source": [
        "print_freq = 100\n",
        "\n",
        "def sarsa(env, Q,parameter,alpha = alpha0, gamma = 0.9, plot_heat = False, choose_action = choose_action_softmax):\n",
        "\n",
        "    episode_rewards = np.zeros(episodes)\n",
        "    steps_to_completion = np.zeros(episodes)\n",
        "    if plot_heat:\n",
        "        clear_output(wait=True)\n",
        "        plot_Q(Q)\n",
        "    epsilon = epsilon0\n",
        "    #alpha = alpha0\n",
        "    count_state_visit_throughout= np.zeros((env.num_rows, env.num_cols))\n",
        "    for ep in tqdm(range(episodes)):\n",
        "        tot_reward, steps = 0, 0\n",
        "\n",
        "        # Reset environment\n",
        "        count_state_visit= np.zeros((env.num_rows, env.num_cols))\n",
        "        state = env.reset()\n",
        "        state = seq_to_col_row(state,num_cols)\n",
        "        action = choose_action(Q, state,parameter)\n",
        "        done = False\n",
        "        while not done:\n",
        "            count_state_visit[state[0][0]][state[0][1]]+=1\n",
        "            state_next, reward,done = env.step(row_col_to_seq(state,num_cols),action)\n",
        "            state_next=(seq_to_col_row(state_next,num_cols))\n",
        "            action_next = choose_action(Q, state_next,parameter)\n",
        "\n",
        "            # TODO: update equation\n",
        "            Q[state[0][0],state[0][1],action] += alpha*(reward + gamma*(Q[state_next[0][0],state_next[0][1],action_next]) - Q[state[0][0],state[0][1],action])\n",
        "\n",
        "            tot_reward += reward\n",
        "            steps += 1\n",
        "\n",
        "            state, action = state_next, action_next\n",
        "            if steps > 300:\n",
        "                break\n",
        "\n",
        "        episode_rewards[ep] = tot_reward\n",
        "        steps_to_completion[ep] = steps\n",
        "\n",
        "        if (ep+1)%print_freq == 0 and plot_heat:\n",
        "            clear_output(wait=True)\n",
        "            plot_Q(Q, message = \"Episode %d: Reward: %f, Steps: %.2f, Qmax: %.2f, Qmin: %.2f\"%(ep+1, np.mean(episode_rewards[ep-print_freq+1:ep]),\n",
        "                                                                           np.mean(steps_to_completion[ep-print_freq+1:ep]),\n",
        "                                                                           Q.max(), Q.min()))\n",
        "            plot_state_visits(count_state_visit)\n",
        "        for i in range(len(count_state_visit_throughout)):\n",
        "            for j in range(len(count_state_visit_throughout[i])):\n",
        "                count_state_visit_throughout[i][j] += count_state_visit[i][j]\n",
        "\n",
        "\n",
        "    return Q, episode_rewards, steps_to_completion,  count_state_visit, count_state_visit_throughout"
      ]
    },
    {
      "cell_type": "code",
      "execution_count": 11,
      "metadata": {},
      "outputs": [],
      "source": [
        "print_freq = 100\n",
        "\n",
        "def qlearning(env, Q,parameter,alpha = alpha0, gamma = 0.9, plot_heat = False, choose_action = choose_action_softmax):\n",
        "\n",
        "    episode_rewards = np.zeros(episodes)\n",
        "    steps_to_completion = np.zeros(episodes)\n",
        "    if plot_heat:\n",
        "        clear_output(wait=True)\n",
        "        plot_Q(Q)\n",
        "    epsilon = epsilon0\n",
        "    #alpha = alpha0\n",
        "    count_state_visit_throughout= np.zeros((env.num_rows, env.num_cols))\n",
        "    for ep in tqdm(range(episodes)):\n",
        "        tot_reward, steps = 0, 0\n",
        "\n",
        "        # Reset environment\n",
        "        count_state_visit= np.zeros((env.num_rows, env.num_cols))\n",
        "        state = env.reset()\n",
        "        state = seq_to_col_row(state,num_cols)\n",
        "        action = choose_action(Q, state,parameter)\n",
        "        done = False\n",
        "        while not done:\n",
        "            count_state_visit[state[0][0]][state[0][1]]+=1\n",
        "            state_next, reward,done = env.step(row_col_to_seq(state,num_cols),action)\n",
        "            state_next=(seq_to_col_row(state_next,num_cols))\n",
        "            action_next = choose_action(Q, state_next,parameter)\n",
        "\n",
        "            # TODO: update equation\n",
        "            Q[state[0][0], state[0][1], action] += alpha*(reward + gamma*np.max([Q[state_next[0][0], state_next[0][1], action] for action in actions]) - Q[state[0][0], state[0][1], action])\n",
        "\n",
        "            tot_reward += reward\n",
        "            steps += 1\n",
        "\n",
        "            state, action = state_next, action_next\n",
        "            if steps > 300:\n",
        "                break\n",
        "\n",
        "        episode_rewards[ep] = tot_reward\n",
        "        steps_to_completion[ep] = steps\n",
        "\n",
        "        if (ep+1)%print_freq == 0 and plot_heat:\n",
        "            clear_output(wait=True)\n",
        "            plot_Q(Q, message = \"Episode %d: Reward: %f, Steps: %.2f, Qmax: %.2f, Qmin: %.2f\"%(ep+1, np.mean(episode_rewards[ep-print_freq+1:ep]),\n",
        "                                                                           np.mean(steps_to_completion[ep-print_freq+1:ep]),\n",
        "                                                                           Q.max(), Q.min()))\n",
        "            plot_state_visits(count_state_visit)\n",
        "        for i in range(len(count_state_visit_throughout)):\n",
        "            for j in range(len(count_state_visit_throughout[i])):\n",
        "                count_state_visit_throughout[i][j] += count_state_visit[i][j]\n",
        "\n",
        "\n",
        "    return Q, episode_rewards, steps_to_completion,  count_state_visit, count_state_visit_throughout"
      ]
    },
    {
      "cell_type": "code",
      "execution_count": 12,
      "metadata": {},
      "outputs": [],
      "source": [
        "def average_over_5_runs_sarsa_epsilon(env,parameter,alpha,gamma):\n",
        "  num_expts = 5\n",
        "  reward_avgs, steps_avgs = [0 for i in range(episodes)], [0 for i in range(episodes)]\n",
        "  rewards_,steps_ = [[] for i in range(episodes)],[[] for i in range(episodes)]\n",
        "  std_deviation_reward = [0 for i in range(episodes)]\n",
        "  std_deviation_steps = [0 for i in range(episodes)]\n",
        "  for i in range(num_expts):\n",
        "      print(\"Experiment: %d\"%(i+1))\n",
        "      Q = np.zeros((env.num_rows, env.num_cols, env.num_actions))\n",
        "      rg = np.random.RandomState(i)\n",
        "      Q_s, reward_s, step_s, state_visit_count,count_throughout= sarsa(env, Q,parameter = parameter, alpha = alpha,  gamma = gamma, plot_heat=False, choose_action= choose_action_epsilon)\n",
        "    \n",
        "      \n",
        "      for ep in range(episodes):\n",
        "        rewards_[ep].append(reward_s[ep])\n",
        "        steps_[ep].append(step_s[ep])\n",
        "\n",
        "  reward_avgs = [x/num_expts for x in reward_avgs]\n",
        "  steps_avgs = [x/num_expts for x in steps_avgs]\n",
        "  for i in range(len(std_deviation_reward)):\n",
        "     mean = sum(rewards_[i]) / len(rewards_[i])\n",
        "     variance = sum([((x - mean) ** 2) for x in rewards_[i]]) / len(rewards_[i])\n",
        "     reward_avgs[i] = mean\n",
        "     std_deviation_reward[i] = math.sqrt(variance)\n",
        "\n",
        "     mean = sum(steps_[i]) / len(steps_[i])\n",
        "     variance = sum([((x - mean) ** 2) for x in steps_[i]]) / len(steps_[i])\n",
        "     steps_avgs[i] = mean\n",
        "     std_deviation_steps[i] = math.sqrt(variance)\n",
        "\n",
        "\n",
        "     \n",
        "\n",
        "  return reward_avgs , steps_avgs, std_deviation_reward,std_deviation_steps\n"
      ]
    },
    {
      "cell_type": "code",
      "execution_count": 13,
      "metadata": {},
      "outputs": [],
      "source": [
        "def average_over_5_runs_qlearning_epsilon(env,parameter,alpha,gamma):\n",
        "  num_expts = 5\n",
        "  reward_avgs, steps_avgs = [0 for i in range(episodes)], [0 for i in range(episodes)]\n",
        "  rewards_,steps_ = [[] for i in range(episodes)],[[] for i in range(episodes)]\n",
        "  std_deviation_reward = [0 for i in range(episodes)]\n",
        "  std_deviation_steps = [0 for i in range(episodes)]\n",
        "  for i in range(num_expts):\n",
        "      print(\"Experiment: %d\"%(i+1))\n",
        "      Q = np.zeros((env.num_rows, env.num_cols, env.num_actions))\n",
        "      rg = np.random.RandomState(i)\n",
        "      Q_s, reward_s, step_s, state_visit_count,count_throughout= qlearning(env, Q,parameter = parameter, alpha = alpha,  gamma = gamma, plot_heat=False, choose_action= choose_action_epsilon)\n",
        "      '''reward_avgs =  [x + y for x, y in zip(reward_s, reward_avgs)]\n",
        "      steps_avgs =  [x + y for x, y in zip(step_s, steps_avgs)]'''\n",
        "      \n",
        "      for ep in range(episodes):\n",
        "        rewards_[ep].append(reward_s[ep])\n",
        "        steps_[ep].append(step_s[ep])\n",
        "\n",
        "  reward_avgs = [x/num_expts for x in reward_avgs]\n",
        "  steps_avgs = [x/num_expts for x in steps_avgs]\n",
        "  for i in range(len(std_deviation_reward)):\n",
        "     mean = sum(rewards_[i]) / len(rewards_[i])\n",
        "     variance = sum([((x - mean) ** 2) for x in rewards_[i]]) / len(rewards_[i])\n",
        "     reward_avgs[i] = mean\n",
        "     std_deviation_reward[i] = math.sqrt(variance)\n",
        "\n",
        "     mean = sum(steps_[i]) / len(steps_[i])\n",
        "     variance = sum([((x - mean) ** 2) for x in steps_[i]]) / len(steps_[i])\n",
        "     steps_avgs[i] = mean\n",
        "     std_deviation_steps[i] = math.sqrt(variance)\n",
        "\n",
        "\n",
        "     \n",
        "\n",
        "  return reward_avgs , steps_avgs, std_deviation_reward,std_deviation_steps\n"
      ]
    },
    {
      "cell_type": "code",
      "execution_count": 14,
      "metadata": {},
      "outputs": [],
      "source": [
        "def average_over_5_runs_sarsa_softmax(env,parameter,alpha,gamma):\n",
        "  num_expts = 5\n",
        "  reward_avgs, steps_avgs = [0 for i in range(episodes)], [0 for i in range(episodes)]\n",
        "  rewards_,steps_ = [[] for i in range(episodes)],[[] for i in range(episodes)]\n",
        "  std_deviation_reward = [0 for i in range(episodes)]\n",
        "  std_deviation_steps = [0 for i in range(episodes)]\n",
        "  for i in range(num_expts):\n",
        "      print(\"Experiment: %d\"%(i+1))\n",
        "      Q = np.zeros((env.num_rows, env.num_cols, env.num_actions))\n",
        "      rg = np.random.RandomState(i)\n",
        "      Q_s, reward_s, step_s, state_visit_count,count_throughout= sarsa(env, Q,parameter = parameter, alpha = alpha,  gamma = gamma, plot_heat=False, choose_action= choose_action_softmax)\n",
        "    \n",
        "      \n",
        "      for ep in range(episodes):\n",
        "        rewards_[ep].append(reward_s[ep])\n",
        "        steps_[ep].append(step_s[ep])\n",
        "\n",
        "  reward_avgs = [x/num_expts for x in reward_avgs]\n",
        "  steps_avgs = [x/num_expts for x in steps_avgs]\n",
        "  for i in range(len(std_deviation_reward)):\n",
        "     mean = sum(rewards_[i]) / len(rewards_[i])\n",
        "     variance = sum([((x - mean) ** 2) for x in rewards_[i]]) / len(rewards_[i])\n",
        "     reward_avgs[i] = mean\n",
        "     std_deviation_reward[i] = math.sqrt(variance)\n",
        "\n",
        "     mean = sum(steps_[i]) / len(steps_[i])\n",
        "     variance = sum([((x - mean) ** 2) for x in steps_[i]]) / len(steps_[i])\n",
        "     steps_avgs[i] = mean\n",
        "     std_deviation_steps[i] = math.sqrt(variance)\n",
        "\n",
        "\n",
        "     \n",
        "\n",
        "  return reward_avgs , steps_avgs, std_deviation_reward,std_deviation_steps\n"
      ]
    },
    {
      "cell_type": "code",
      "execution_count": 15,
      "metadata": {},
      "outputs": [],
      "source": [
        "def average_over_5_runs_qlearning_softmax(env,parameter,alpha,gamma):\n",
        "  num_expts = 5\n",
        "  reward_avgs, steps_avgs = [0 for i in range(episodes)], [0 for i in range(episodes)]\n",
        "  rewards_,steps_ = [[] for i in range(episodes)],[[] for i in range(episodes)]\n",
        "  std_deviation_reward = [0 for i in range(episodes)]\n",
        "  std_deviation_steps = [0 for i in range(episodes)]\n",
        "  for i in range(num_expts):\n",
        "      print(\"Experiment: %d\"%(i+1))\n",
        "      Q = np.zeros((env.num_rows, env.num_cols, env.num_actions))\n",
        "      rg = np.random.RandomState(i)\n",
        "      Q_s, reward_s, step_s, state_visit_count,count_throughout= qlearning(env, Q,parameter = parameter, alpha = alpha,  gamma = gamma, plot_heat=False, choose_action= choose_action_softmax)\n",
        "      '''reward_avgs =  [x + y for x, y in zip(reward_s, reward_avgs)]\n",
        "      steps_avgs =  [x + y for x, y in zip(step_s, steps_avgs)]'''\n",
        "      \n",
        "      for ep in range(episodes):\n",
        "        rewards_[ep].append(reward_s[ep])\n",
        "        steps_[ep].append(step_s[ep])\n",
        "\n",
        "  reward_avgs = [x/num_expts for x in reward_avgs]\n",
        "  steps_avgs = [x/num_expts for x in steps_avgs]\n",
        "  for i in range(len(std_deviation_reward)):\n",
        "     mean = sum(rewards_[i]) / len(rewards_[i])\n",
        "     variance = sum([((x - mean) ** 2) for x in rewards_[i]]) / len(rewards_[i])\n",
        "     reward_avgs[i] = mean\n",
        "     std_deviation_reward[i] = math.sqrt(variance)\n",
        "\n",
        "     mean = sum(steps_[i]) / len(steps_[i])\n",
        "     variance = sum([((x - mean) ** 2) for x in steps_[i]]) / len(steps_[i])\n",
        "     steps_avgs[i] = mean\n",
        "     std_deviation_steps[i] = math.sqrt(variance)\n",
        "\n",
        "\n",
        "     \n",
        "\n",
        "  return reward_avgs , steps_avgs, std_deviation_reward,std_deviation_steps\n"
      ]
    },
    {
      "cell_type": "code",
      "execution_count": 16,
      "metadata": {},
      "outputs": [],
      "source": [
        "store_dict = {}"
      ]
    },
    {
      "cell_type": "markdown",
      "metadata": {},
      "source": [
        "change start state, p value and wind"
      ]
    },
    {
      "cell_type": "code",
      "execution_count": 17,
      "metadata": {},
      "outputs": [],
      "source": [
        "import math"
      ]
    },
    {
      "cell_type": "code",
      "execution_count": 18,
      "metadata": {},
      "outputs": [],
      "source": [
        "def average_over_5_runs_sarsa_bayeian_epsilon(parameter,alpha,gamma):\n",
        "  num_expts = 5\n",
        "  reward_avgs, steps_avgs = [0 for i in range(episodes)], [0 for i in range(episodes)]\n",
        "  rewards_,steps_ = [[] for i in range(episodes)],[[] for i in range(episodes)]\n",
        "  std_deviation_reward = [0 for i in range(episodes)]\n",
        "  std_deviation_steps = [0 for i in range(episodes)]\n",
        "  for i in range(num_expts):\n",
        "      print(\"Experiment: %d\"%(i+1))\n",
        "      Q = np.zeros((env.num_rows, env.num_cols, env.num_actions))\n",
        "      rg = np.random.RandomState(i)\n",
        "      Q_s, reward_s, step_s, state_visit_count,count_throughtout= sarsa(env, Q,parameter = parameter, alpha = alpha,  gamma = gamma, plot_heat=False, choose_action= choose_action_epsilon)\n",
        "      '''reward_avgs =  [x + y for x, y in zip(reward_s, reward_avgs)]\n",
        "      steps_avgs =  [x + y for x, y in zip(step_s, steps_avgs)]'''\n",
        "      \n",
        "      for ep in range(episodes):\n",
        "        rewards_[ep].append(reward_s[ep])\n",
        "        steps_[ep].append(step_s[ep])\n",
        "\n",
        "  reward_avgs = [x/num_expts for x in reward_avgs]\n",
        "  steps_avgs = [x/num_expts for x in steps_avgs]\n",
        "  for i in range(len(std_deviation_reward)):\n",
        "     mean = sum(rewards_[i]) / len(rewards_[i])\n",
        "     variance = sum([((x - mean) ** 2) for x in rewards_[i]]) / len(rewards_[i])\n",
        "     reward_avgs[i] = mean\n",
        "     std_deviation_reward[i] = math.sqrt(variance)\n",
        "\n",
        "     mean = sum(steps_[i]) / len(steps_[i])\n",
        "     variance = sum([((x - mean) ** 2) for x in steps_[i]]) / len(steps_[i])\n",
        "     steps_avgs[i] = mean\n",
        "     std_deviation_steps[i] = math.sqrt(variance)\n",
        "\n",
        "\n",
        "     \n",
        "\n",
        "  return reward_avgs , steps_avgs, std_deviation_reward,std_deviation_steps\n"
      ]
    },
    {
      "cell_type": "code",
      "execution_count": 19,
      "metadata": {},
      "outputs": [],
      "source": [
        "def average_over_5_runs_sarsa_bayeian_softmax(parameter,alpha,gamma):\n",
        "  num_expts = 5\n",
        "  reward_avgs, steps_avgs = [0 for i in range(episodes)], [0 for i in range(episodes)]\n",
        "  rewards_,steps_ = [[] for i in range(episodes)],[[] for i in range(episodes)]\n",
        "  std_deviation_reward = [0 for i in range(episodes)]\n",
        "  std_deviation_steps = [0 for i in range(episodes)]\n",
        "  for i in range(num_expts):\n",
        "      print(\"Experiment: %d\"%(i+1))\n",
        "      Q = np.zeros((env.num_rows, env.num_cols, env.num_actions))\n",
        "      rg = np.random.RandomState(i)\n",
        "      Q_s, reward_s, step_s, state_visit_count,count_throughtout= sarsa(env, Q,parameter = parameter, alpha = alpha,  gamma = gamma, plot_heat=False, choose_action= choose_action_softmax)\n",
        "      '''reward_avgs =  [x + y for x, y in zip(reward_s, reward_avgs)]\n",
        "      steps_avgs =  [x + y for x, y in zip(step_s, steps_avgs)]'''\n",
        "      \n",
        "      for ep in range(episodes):\n",
        "        rewards_[ep].append(reward_s[ep])\n",
        "        steps_[ep].append(step_s[ep])\n",
        "\n",
        "  reward_avgs = [x/num_expts for x in reward_avgs]\n",
        "  steps_avgs = [x/num_expts for x in steps_avgs]\n",
        "  for i in range(len(std_deviation_reward)):\n",
        "     mean = sum(rewards_[i]) / len(rewards_[i])\n",
        "     variance = sum([((x - mean) ** 2) for x in rewards_[i]]) / len(rewards_[i])\n",
        "     reward_avgs[i] = mean\n",
        "     std_deviation_reward[i] = math.sqrt(variance)\n",
        "\n",
        "     mean = sum(steps_[i]) / len(steps_[i])\n",
        "     variance = sum([((x - mean) ** 2) for x in steps_[i]]) / len(steps_[i])\n",
        "     steps_avgs[i] = mean\n",
        "     std_deviation_steps[i] = math.sqrt(variance)\n",
        "\n",
        "\n",
        "     \n",
        "\n",
        "  return reward_avgs , steps_avgs, std_deviation_reward,std_deviation_steps\n"
      ]
    },
    {
      "cell_type": "code",
      "execution_count": 20,
      "metadata": {},
      "outputs": [],
      "source": [
        "def average_over_5_runs_qlearning_bayeian_epsilon(parameter,alpha,gamma):\n",
        "  num_expts = 5\n",
        "  reward_avgs, steps_avgs = [0 for i in range(episodes)], [0 for i in range(episodes)]\n",
        "  rewards_,steps_ = [[] for i in range(episodes)],[[] for i in range(episodes)]\n",
        "  std_deviation_reward = [0 for i in range(episodes)]\n",
        "  std_deviation_steps = [0 for i in range(episodes)]\n",
        "  for i in range(num_expts):\n",
        "      print(\"Experiment: %d\"%(i+1))\n",
        "      Q = np.zeros((env.num_rows, env.num_cols, env.num_actions))\n",
        "      rg = np.random.RandomState(i)\n",
        "      Q_s, reward_s, step_s, state_visit_count,count_throughout= qlearning(env, Q,parameter = parameter, alpha = alpha,  gamma = gamma, plot_heat=False, choose_action= choose_action_epsilon)\n",
        "      '''reward_avgs =  [x + y for x, y in zip(reward_s, reward_avgs)]\n",
        "      steps_avgs =  [x + y for x, y in zip(step_s, steps_avgs)]'''\n",
        "      \n",
        "      for ep in range(episodes):\n",
        "        rewards_[ep].append(reward_s[ep])\n",
        "        steps_[ep].append(step_s[ep])\n",
        "\n",
        "  reward_avgs = [x/num_expts for x in reward_avgs]\n",
        "  steps_avgs = [x/num_expts for x in steps_avgs]\n",
        "  for i in range(len(std_deviation_reward)):\n",
        "     mean = sum(rewards_[i]) / len(rewards_[i])\n",
        "     variance = sum([((x - mean) ** 2) for x in rewards_[i]]) / len(rewards_[i])\n",
        "     reward_avgs[i] = mean\n",
        "     std_deviation_reward[i] = math.sqrt(variance)\n",
        "\n",
        "     mean = sum(steps_[i]) / len(steps_[i])\n",
        "     variance = sum([((x - mean) ** 2) for x in steps_[i]]) / len(steps_[i])\n",
        "     steps_avgs[i] = mean\n",
        "     std_deviation_steps[i] = math.sqrt(variance)\n",
        "\n",
        "\n",
        "     \n",
        "\n",
        "  return reward_avgs , steps_avgs, std_deviation_reward,std_deviation_steps\n"
      ]
    },
    {
      "cell_type": "code",
      "execution_count": 21,
      "metadata": {},
      "outputs": [],
      "source": [
        "def average_over_5_runs_qlearning_bayeian_softmax(parameter,alpha,gamma):\n",
        "  num_expts = 5\n",
        "  reward_avgs, steps_avgs = [0 for i in range(episodes)], [0 for i in range(episodes)]\n",
        "  rewards_,steps_ = [[] for i in range(episodes)],[[] for i in range(episodes)]\n",
        "  std_deviation_reward = [0 for i in range(episodes)]\n",
        "  std_deviation_steps = [0 for i in range(episodes)]\n",
        "  for i in range(num_expts):\n",
        "      print(\"Experiment: %d\"%(i+1))\n",
        "      Q = np.zeros((env.num_rows, env.num_cols, env.num_actions))\n",
        "      rg = np.random.RandomState(i)\n",
        "      Q_s, reward_s, step_s, state_visit_count,count_throughout= qlearning(env, Q,parameter = parameter, alpha = alpha,  gamma = gamma, plot_heat=False, choose_action= choose_action_softmax)\n",
        "      '''reward_avgs =  [x + y for x, y in zip(reward_s, reward_avgs)]\n",
        "      steps_avgs =  [x + y for x, y in zip(step_s, steps_avgs)]'''\n",
        "      \n",
        "      for ep in range(episodes):\n",
        "        rewards_[ep].append(reward_s[ep])\n",
        "        steps_[ep].append(step_s[ep])\n",
        "\n",
        "  reward_avgs = [x/num_expts for x in reward_avgs]\n",
        "  steps_avgs = [x/num_expts for x in steps_avgs]\n",
        "  for i in range(len(std_deviation_reward)):\n",
        "     mean = sum(rewards_[i]) / len(rewards_[i])\n",
        "     variance = sum([((x - mean) ** 2) for x in rewards_[i]]) / len(rewards_[i])\n",
        "     reward_avgs[i] = mean\n",
        "     std_deviation_reward[i] = math.sqrt(variance)\n",
        "\n",
        "     mean = sum(steps_[i]) / len(steps_[i])\n",
        "     variance = sum([((x - mean) ** 2) for x in steps_[i]]) / len(steps_[i])\n",
        "     steps_avgs[i] = mean\n",
        "     std_deviation_steps[i] = math.sqrt(variance)\n",
        "\n",
        "\n",
        "     \n",
        "\n",
        "  return reward_avgs , steps_avgs, std_deviation_reward,std_deviation_steps\n"
      ]
    },
    {
      "cell_type": "code",
      "execution_count": 22,
      "metadata": {},
      "outputs": [],
      "source": [
        "def average_over_5_runs_sarsa_softmax(env,parameter,alpha,gamma):\n",
        "  num_expts = 5\n",
        "  reward_avgs, steps_avgs = [0 for i in range(episodes)], [0 for i in range(episodes)]\n",
        "  rewards_,steps_ = [[] for i in range(episodes)],[[] for i in range(episodes)]\n",
        "  std_deviation_reward = [0 for i in range(episodes)]\n",
        "  std_deviation_steps = [0 for i in range(episodes)]\n",
        "  for i in range(num_expts):\n",
        "      print(\"Experiment: %d\"%(i+1))\n",
        "      Q = np.zeros((env.num_rows, env.num_cols, env.num_actions))\n",
        "      rg = np.random.RandomState(i)\n",
        "      Q_s, reward_s, step_s, state_visit_count,count_throughout= sarsa(env, Q,parameter = parameter, alpha = alpha,  gamma = gamma, plot_heat=False, choose_action= choose_action_softmax)\n",
        "    \n",
        "      \n",
        "      for ep in range(episodes):\n",
        "        rewards_[ep].append(reward_s[ep])\n",
        "        steps_[ep].append(step_s[ep])\n",
        "\n",
        "  reward_avgs = [x/num_expts for x in reward_avgs]\n",
        "  steps_avgs = [x/num_expts for x in steps_avgs]\n",
        "  for i in range(len(std_deviation_reward)):\n",
        "     mean = sum(rewards_[i]) / len(rewards_[i])\n",
        "     variance = sum([((x - mean) ** 2) for x in rewards_[i]]) / len(rewards_[i])\n",
        "     reward_avgs[i] = mean\n",
        "     std_deviation_reward[i] = math.sqrt(variance)\n",
        "\n",
        "     mean = sum(steps_[i]) / len(steps_[i])\n",
        "     variance = sum([((x - mean) ** 2) for x in steps_[i]]) / len(steps_[i])\n",
        "     steps_avgs[i] = mean\n",
        "     std_deviation_steps[i] = math.sqrt(variance)\n",
        "\n",
        "\n",
        "     \n",
        "\n",
        "  return reward_avgs , steps_avgs, std_deviation_reward,std_deviation_steps\n"
      ]
    },
    {
      "cell_type": "code",
      "execution_count": 23,
      "metadata": {},
      "outputs": [],
      "source": [
        "def average_over_5_runs_qlearning_epsilon(env,parameter,alpha,gamma):\n",
        "  num_expts = 5\n",
        "  reward_avgs, steps_avgs = [0 for i in range(episodes)], [0 for i in range(episodes)]\n",
        "  rewards_,steps_ = [[] for i in range(episodes)],[[] for i in range(episodes)]\n",
        "  std_deviation_reward = [0 for i in range(episodes)]\n",
        "  std_deviation_steps = [0 for i in range(episodes)]\n",
        "  for i in range(num_expts):\n",
        "      print(\"Experiment: %d\"%(i+1))\n",
        "      Q = np.zeros((env.num_rows, env.num_cols, env.num_actions))\n",
        "      rg = np.random.RandomState(i)\n",
        "      Q_s, reward_s, step_s, state_visit_count,count_throughout= qlearning(env, Q,parameter = parameter, alpha = alpha,  gamma = gamma, plot_heat=False, choose_action= choose_action_epsilon)\n",
        "    \n",
        "      \n",
        "      for ep in range(episodes):\n",
        "        rewards_[ep].append(reward_s[ep])\n",
        "        steps_[ep].append(step_s[ep])\n",
        "\n",
        "  reward_avgs = [x/num_expts for x in reward_avgs]\n",
        "  steps_avgs = [x/num_expts for x in steps_avgs]\n",
        "  for i in range(len(std_deviation_reward)):\n",
        "     mean = sum(rewards_[i]) / len(rewards_[i])\n",
        "     variance = sum([((x - mean) ** 2) for x in rewards_[i]]) / len(rewards_[i])\n",
        "     reward_avgs[i] = mean\n",
        "     std_deviation_reward[i] = math.sqrt(variance)\n",
        "\n",
        "     mean = sum(steps_[i]) / len(steps_[i])\n",
        "     variance = sum([((x - mean) ** 2) for x in steps_[i]]) / len(steps_[i])\n",
        "     steps_avgs[i] = mean\n",
        "     std_deviation_steps[i] = math.sqrt(variance)\n",
        "\n",
        "\n",
        "     \n",
        "\n",
        "  return reward_avgs , steps_avgs, std_deviation_reward,std_deviation_steps\n"
      ]
    },
    {
      "cell_type": "code",
      "execution_count": 24,
      "metadata": {},
      "outputs": [],
      "source": [
        "def average_over_5_runs_qlearning_softmax(env,parameter,alpha,gamma):\n",
        "  num_expts = 5\n",
        "  reward_avgs, steps_avgs = [0 for i in range(episodes)], [0 for i in range(episodes)]\n",
        "  rewards_,steps_ = [[] for i in range(episodes)],[[] for i in range(episodes)]\n",
        "  std_deviation_reward = [0 for i in range(episodes)]\n",
        "  std_deviation_steps = [0 for i in range(episodes)]\n",
        "  for i in range(num_expts):\n",
        "      print(\"Experiment: %d\"%(i+1))\n",
        "      Q = np.zeros((env.num_rows, env.num_cols, env.num_actions))\n",
        "      rg = np.random.RandomState(i)\n",
        "      Q_s, reward_s, step_s, state_visit_count,count_throughout= qlearning(env, Q,parameter = parameter, alpha = alpha,  gamma = gamma, plot_heat=False, choose_action= choose_action_softmax)\n",
        "    \n",
        "      \n",
        "      for ep in range(episodes):\n",
        "        rewards_[ep].append(reward_s[ep])\n",
        "        steps_[ep].append(step_s[ep])\n",
        "\n",
        "  reward_avgs = [x/num_expts for x in reward_avgs]\n",
        "  steps_avgs = [x/num_expts for x in steps_avgs]\n",
        "  for i in range(len(std_deviation_reward)):\n",
        "     mean = sum(rewards_[i]) / len(rewards_[i])\n",
        "     variance = sum([((x - mean) ** 2) for x in rewards_[i]]) / len(rewards_[i])\n",
        "     reward_avgs[i] = mean\n",
        "     std_deviation_reward[i] = math.sqrt(variance)\n",
        "\n",
        "     mean = sum(steps_[i]) / len(steps_[i])\n",
        "     variance = sum([((x - mean) ** 2) for x in steps_[i]]) / len(steps_[i])\n",
        "     steps_avgs[i] = mean\n",
        "     std_deviation_steps[i] = math.sqrt(variance)\n",
        "\n",
        "\n",
        "     \n",
        "\n",
        "  return reward_avgs , steps_avgs, std_deviation_reward,std_deviation_steps\n"
      ]
    },
    {
      "cell_type": "code",
      "execution_count": 25,
      "metadata": {},
      "outputs": [],
      "source": [
        "param_space = {\n",
        "    'parameter': (0.1,1000),\n",
        "    'alpha': (0.1, 0.999),\n",
        "    'gamma': (0.6, 0.999),\n",
        "}"
      ]
    },
    {
      "cell_type": "markdown",
      "metadata": {},
      "source": [
        "change the max function to what u want to "
      ]
    },
    {
      "cell_type": "code",
      "execution_count": 26,
      "metadata": {},
      "outputs": [],
      "source": [
        "def function_to_maximize(parameter,alpha,gamma):\n",
        "    res = average_over_5_runs_sarsa_bayeian_softmax(parameter,alpha,gamma)\n",
        "    #change \n",
        "    return np.mean(res[0])"
      ]
    },
    {
      "cell_type": "code",
      "execution_count": 27,
      "metadata": {},
      "outputs": [],
      "source": [
        "from bayes_opt import BayesianOptimization"
      ]
    },
    {
      "cell_type": "code",
      "execution_count": 28,
      "metadata": {},
      "outputs": [],
      "source": [
        "optimizer = BayesianOptimization(\n",
        "    f=function_to_maximize,\n",
        "    pbounds=param_space,\n",
        "    random_state=1,\n",
        ")"
      ]
    },
    {
      "cell_type": "code",
      "execution_count": 29,
      "metadata": {},
      "outputs": [
        {
          "name": "stdout",
          "output_type": "stream",
          "text": [
            "|   iter    |  target   |   alpha   |   gamma   | parameter |\n",
            "-------------------------------------------------------------\n",
            "Experiment: 1\n"
          ]
        },
        {
          "name": "stderr",
          "output_type": "stream",
          "text": [
            "  1%|          | 41/5001 [00:00<01:03, 77.87it/s]"
          ]
        },
        {
          "name": "stderr",
          "output_type": "stream",
          "text": [
            "100%|██████████| 5001/5001 [00:27<00:00, 178.91it/s]\n"
          ]
        },
        {
          "name": "stdout",
          "output_type": "stream",
          "text": [
            "Experiment: 2\n"
          ]
        },
        {
          "name": "stderr",
          "output_type": "stream",
          "text": [
            "100%|██████████| 5001/5001 [00:42<00:00, 118.28it/s]\n"
          ]
        },
        {
          "name": "stdout",
          "output_type": "stream",
          "text": [
            "Experiment: 3\n"
          ]
        },
        {
          "name": "stderr",
          "output_type": "stream",
          "text": [
            "100%|██████████| 5001/5001 [00:46<00:00, 108.35it/s]\n"
          ]
        },
        {
          "name": "stdout",
          "output_type": "stream",
          "text": [
            "Experiment: 4\n"
          ]
        },
        {
          "name": "stderr",
          "output_type": "stream",
          "text": [
            "100%|██████████| 5001/5001 [00:58<00:00, 86.07it/s] \n"
          ]
        },
        {
          "name": "stdout",
          "output_type": "stream",
          "text": [
            "Experiment: 5\n"
          ]
        },
        {
          "name": "stderr",
          "output_type": "stream",
          "text": [
            "100%|██████████| 5001/5001 [00:57<00:00, 87.42it/s] \n"
          ]
        },
        {
          "name": "stdout",
          "output_type": "stream",
          "text": [
            "| \u001b[0m1        \u001b[0m | \u001b[0m-30.21   \u001b[0m | \u001b[0m0.4749   \u001b[0m | \u001b[0m0.8874   \u001b[0m | \u001b[0m0.2144   \u001b[0m |\n",
            "Experiment: 1\n"
          ]
        },
        {
          "name": "stderr",
          "output_type": "stream",
          "text": [
            "100%|██████████| 5001/5001 [05:42<00:00, 14.59it/s]\n"
          ]
        },
        {
          "name": "stdout",
          "output_type": "stream",
          "text": [
            "Experiment: 2\n"
          ]
        },
        {
          "name": "stderr",
          "output_type": "stream",
          "text": [
            "100%|██████████| 5001/5001 [05:33<00:00, 15.00it/s]\n"
          ]
        },
        {
          "name": "stdout",
          "output_type": "stream",
          "text": [
            "Experiment: 3\n"
          ]
        },
        {
          "name": "stderr",
          "output_type": "stream",
          "text": [
            "100%|██████████| 5001/5001 [05:23<00:00, 15.45it/s]\n"
          ]
        },
        {
          "name": "stdout",
          "output_type": "stream",
          "text": [
            "Experiment: 4\n"
          ]
        },
        {
          "name": "stderr",
          "output_type": "stream",
          "text": [
            "100%|██████████| 5001/5001 [05:19<00:00, 15.63it/s]\n"
          ]
        },
        {
          "name": "stdout",
          "output_type": "stream",
          "text": [
            "Experiment: 5\n"
          ]
        },
        {
          "name": "stderr",
          "output_type": "stream",
          "text": [
            "100%|██████████| 5001/5001 [05:24<00:00, 15.42it/s]\n"
          ]
        },
        {
          "name": "stdout",
          "output_type": "stream",
          "text": [
            "| \u001b[0m2        \u001b[0m | \u001b[0m-615.8   \u001b[0m | \u001b[0m0.3718   \u001b[0m | \u001b[0m0.6586   \u001b[0m | \u001b[0m92.43    \u001b[0m |\n",
            "Experiment: 1\n"
          ]
        },
        {
          "name": "stderr",
          "output_type": "stream",
          "text": [
            "100%|██████████| 5001/5001 [05:26<00:00, 15.32it/s]\n"
          ]
        },
        {
          "name": "stdout",
          "output_type": "stream",
          "text": [
            "Experiment: 2\n"
          ]
        },
        {
          "name": "stderr",
          "output_type": "stream",
          "text": [
            "100%|██████████| 5001/5001 [05:23<00:00, 15.44it/s]\n"
          ]
        },
        {
          "name": "stdout",
          "output_type": "stream",
          "text": [
            "Experiment: 3\n"
          ]
        },
        {
          "name": "stderr",
          "output_type": "stream",
          "text": [
            "100%|██████████| 5001/5001 [05:33<00:00, 15.02it/s]\n"
          ]
        },
        {
          "name": "stdout",
          "output_type": "stream",
          "text": [
            "Experiment: 4\n"
          ]
        },
        {
          "name": "stderr",
          "output_type": "stream",
          "text": [
            "100%|██████████| 5001/5001 [05:21<00:00, 15.54it/s]\n"
          ]
        },
        {
          "name": "stdout",
          "output_type": "stream",
          "text": [
            "Experiment: 5\n"
          ]
        },
        {
          "name": "stderr",
          "output_type": "stream",
          "text": [
            "100%|██████████| 5001/5001 [05:22<00:00, 15.52it/s]\n"
          ]
        },
        {
          "name": "stdout",
          "output_type": "stream",
          "text": [
            "| \u001b[0m3        \u001b[0m | \u001b[0m-734.9   \u001b[0m | \u001b[0m0.2674   \u001b[0m | \u001b[0m0.7379   \u001b[0m | \u001b[0m396.8    \u001b[0m |\n",
            "Experiment: 1\n"
          ]
        },
        {
          "name": "stderr",
          "output_type": "stream",
          "text": [
            "100%|██████████| 5001/5001 [05:33<00:00, 14.98it/s]\n"
          ]
        },
        {
          "name": "stdout",
          "output_type": "stream",
          "text": [
            "Experiment: 2\n"
          ]
        },
        {
          "name": "stderr",
          "output_type": "stream",
          "text": [
            "100%|██████████| 5001/5001 [05:31<00:00, 15.07it/s]\n"
          ]
        },
        {
          "name": "stdout",
          "output_type": "stream",
          "text": [
            "Experiment: 3\n"
          ]
        },
        {
          "name": "stderr",
          "output_type": "stream",
          "text": [
            "100%|██████████| 5001/5001 [05:30<00:00, 15.13it/s]\n"
          ]
        },
        {
          "name": "stdout",
          "output_type": "stream",
          "text": [
            "Experiment: 4\n"
          ]
        },
        {
          "name": "stderr",
          "output_type": "stream",
          "text": [
            "100%|██████████| 5001/5001 [05:28<00:00, 15.24it/s]\n"
          ]
        },
        {
          "name": "stdout",
          "output_type": "stream",
          "text": [
            "Experiment: 5\n"
          ]
        },
        {
          "name": "stderr",
          "output_type": "stream",
          "text": [
            "100%|██████████| 5001/5001 [05:34<00:00, 14.95it/s]\n"
          ]
        },
        {
          "name": "stdout",
          "output_type": "stream",
          "text": [
            "| \u001b[0m4        \u001b[0m | \u001b[0m-759.3   \u001b[0m | \u001b[0m0.5844   \u001b[0m | \u001b[0m0.7673   \u001b[0m | \u001b[0m685.3    \u001b[0m |\n",
            "Experiment: 1\n"
          ]
        },
        {
          "name": "stderr",
          "output_type": "stream",
          "text": [
            "100%|██████████| 5001/5001 [04:37<00:00, 18.01it/s]\n"
          ]
        },
        {
          "name": "stdout",
          "output_type": "stream",
          "text": [
            "Experiment: 2\n"
          ]
        },
        {
          "name": "stderr",
          "output_type": "stream",
          "text": [
            "100%|██████████| 5001/5001 [04:39<00:00, 17.90it/s]\n"
          ]
        },
        {
          "name": "stdout",
          "output_type": "stream",
          "text": [
            "Experiment: 3\n"
          ]
        },
        {
          "name": "stderr",
          "output_type": "stream",
          "text": [
            "100%|██████████| 5001/5001 [04:30<00:00, 18.49it/s]\n"
          ]
        },
        {
          "name": "stdout",
          "output_type": "stream",
          "text": [
            "Experiment: 4\n"
          ]
        },
        {
          "name": "stderr",
          "output_type": "stream",
          "text": [
            "100%|██████████| 5001/5001 [04:29<00:00, 18.59it/s]\n"
          ]
        },
        {
          "name": "stdout",
          "output_type": "stream",
          "text": [
            "Experiment: 5\n"
          ]
        },
        {
          "name": "stderr",
          "output_type": "stream",
          "text": [
            "100%|██████████| 5001/5001 [04:33<00:00, 18.29it/s]\n"
          ]
        },
        {
          "name": "stdout",
          "output_type": "stream",
          "text": [
            "| \u001b[0m5        \u001b[0m | \u001b[0m-359.7   \u001b[0m | \u001b[0m0.2838   \u001b[0m | \u001b[0m0.9504   \u001b[0m | \u001b[0m27.48    \u001b[0m |\n",
            "Experiment: 1\n"
          ]
        },
        {
          "name": "stderr",
          "output_type": "stream",
          "text": [
            "100%|██████████| 5001/5001 [05:30<00:00, 15.15it/s]\n"
          ]
        },
        {
          "name": "stdout",
          "output_type": "stream",
          "text": [
            "Experiment: 2\n"
          ]
        },
        {
          "name": "stderr",
          "output_type": "stream",
          "text": [
            "100%|██████████| 5001/5001 [05:34<00:00, 14.94it/s]\n"
          ]
        },
        {
          "name": "stdout",
          "output_type": "stream",
          "text": [
            "Experiment: 3\n"
          ]
        },
        {
          "name": "stderr",
          "output_type": "stream",
          "text": [
            "100%|██████████| 5001/5001 [05:25<00:00, 15.38it/s]\n"
          ]
        },
        {
          "name": "stdout",
          "output_type": "stream",
          "text": [
            "Experiment: 4\n"
          ]
        },
        {
          "name": "stderr",
          "output_type": "stream",
          "text": [
            "100%|██████████| 5001/5001 [05:33<00:00, 15.01it/s]\n"
          ]
        },
        {
          "name": "stdout",
          "output_type": "stream",
          "text": [
            "Experiment: 5\n"
          ]
        },
        {
          "name": "stderr",
          "output_type": "stream",
          "text": [
            "100%|██████████| 5001/5001 [05:31<00:00, 15.08it/s]\n"
          ]
        },
        {
          "name": "stdout",
          "output_type": "stream",
          "text": [
            "| \u001b[0m6        \u001b[0m | \u001b[0m-748.5   \u001b[0m | \u001b[0m0.7028   \u001b[0m | \u001b[0m0.7665   \u001b[0m | \u001b[0m558.7    \u001b[0m |\n",
            "Experiment: 1\n"
          ]
        },
        {
          "name": "stderr",
          "output_type": "stream",
          "text": [
            "100%|██████████| 5001/5001 [05:28<00:00, 15.23it/s]\n"
          ]
        },
        {
          "name": "stdout",
          "output_type": "stream",
          "text": [
            "Experiment: 2\n"
          ]
        },
        {
          "name": "stderr",
          "output_type": "stream",
          "text": [
            "100%|██████████| 5001/5001 [05:06<00:00, 16.31it/s]\n"
          ]
        },
        {
          "name": "stdout",
          "output_type": "stream",
          "text": [
            "Experiment: 3\n"
          ]
        },
        {
          "name": "stderr",
          "output_type": "stream",
          "text": [
            "100%|██████████| 5001/5001 [05:05<00:00, 16.37it/s]\n"
          ]
        },
        {
          "name": "stdout",
          "output_type": "stream",
          "text": [
            "Experiment: 4\n"
          ]
        },
        {
          "name": "stderr",
          "output_type": "stream",
          "text": [
            "100%|██████████| 5001/5001 [04:20<00:00, 19.23it/s]\n"
          ]
        },
        {
          "name": "stdout",
          "output_type": "stream",
          "text": [
            "Experiment: 5\n"
          ]
        },
        {
          "name": "stderr",
          "output_type": "stream",
          "text": [
            "100%|██████████| 5001/5001 [04:03<00:00, 20.57it/s]\n"
          ]
        },
        {
          "name": "stdout",
          "output_type": "stream",
          "text": [
            "| \u001b[0m7        \u001b[0m | \u001b[0m-763.6   \u001b[0m | \u001b[0m0.2262   \u001b[0m | \u001b[0m0.679    \u001b[0m | \u001b[0m800.8    \u001b[0m |\n",
            "Experiment: 1\n"
          ]
        },
        {
          "name": "stderr",
          "output_type": "stream",
          "text": [
            "100%|██████████| 5001/5001 [04:00<00:00, 20.75it/s]\n"
          ]
        },
        {
          "name": "stdout",
          "output_type": "stream",
          "text": [
            "Experiment: 2\n"
          ]
        },
        {
          "name": "stderr",
          "output_type": "stream",
          "text": [
            "100%|██████████| 5001/5001 [03:59<00:00, 20.84it/s]\n"
          ]
        },
        {
          "name": "stdout",
          "output_type": "stream",
          "text": [
            "Experiment: 3\n"
          ]
        },
        {
          "name": "stderr",
          "output_type": "stream",
          "text": [
            "100%|██████████| 5001/5001 [04:03<00:00, 20.57it/s]\n"
          ]
        },
        {
          "name": "stdout",
          "output_type": "stream",
          "text": [
            "Experiment: 4\n"
          ]
        },
        {
          "name": "stderr",
          "output_type": "stream",
          "text": [
            "100%|██████████| 5001/5001 [04:03<00:00, 20.56it/s]\n"
          ]
        },
        {
          "name": "stdout",
          "output_type": "stream",
          "text": [
            "Experiment: 5\n"
          ]
        },
        {
          "name": "stderr",
          "output_type": "stream",
          "text": [
            "100%|██████████| 5001/5001 [04:04<00:00, 20.42it/s]\n"
          ]
        },
        {
          "name": "stdout",
          "output_type": "stream",
          "text": [
            "| \u001b[0m8        \u001b[0m | \u001b[0m-755.0   \u001b[0m | \u001b[0m0.9705   \u001b[0m | \u001b[0m0.7251   \u001b[0m | \u001b[0m692.4    \u001b[0m |\n",
            "Experiment: 1\n"
          ]
        },
        {
          "name": "stderr",
          "output_type": "stream",
          "text": [
            "100%|██████████| 5001/5001 [03:28<00:00, 23.93it/s]\n"
          ]
        },
        {
          "name": "stdout",
          "output_type": "stream",
          "text": [
            "Experiment: 2\n"
          ]
        },
        {
          "name": "stderr",
          "output_type": "stream",
          "text": [
            "100%|██████████| 5001/5001 [03:05<00:00, 26.99it/s]\n"
          ]
        },
        {
          "name": "stdout",
          "output_type": "stream",
          "text": [
            "Experiment: 3\n"
          ]
        },
        {
          "name": "stderr",
          "output_type": "stream",
          "text": [
            "100%|██████████| 5001/5001 [02:53<00:00, 28.87it/s]\n"
          ]
        },
        {
          "name": "stdout",
          "output_type": "stream",
          "text": [
            "Experiment: 4\n"
          ]
        },
        {
          "name": "stderr",
          "output_type": "stream",
          "text": [
            "100%|██████████| 5001/5001 [02:54<00:00, 28.68it/s]\n"
          ]
        },
        {
          "name": "stdout",
          "output_type": "stream",
          "text": [
            "Experiment: 5\n"
          ]
        },
        {
          "name": "stderr",
          "output_type": "stream",
          "text": [
            "100%|██████████| 5001/5001 [02:53<00:00, 28.74it/s]\n"
          ]
        },
        {
          "name": "stdout",
          "output_type": "stream",
          "text": [
            "| \u001b[0m9        \u001b[0m | \u001b[0m-477.9   \u001b[0m | \u001b[0m0.8879   \u001b[0m | \u001b[0m0.9569   \u001b[0m | \u001b[0m85.14    \u001b[0m |\n",
            "Experiment: 1\n"
          ]
        },
        {
          "name": "stderr",
          "output_type": "stream",
          "text": [
            "100%|██████████| 5001/5001 [01:15<00:00, 66.60it/s] \n"
          ]
        },
        {
          "name": "stdout",
          "output_type": "stream",
          "text": [
            "Experiment: 2\n"
          ]
        },
        {
          "name": "stderr",
          "output_type": "stream",
          "text": [
            "100%|██████████| 5001/5001 [01:21<00:00, 61.33it/s]\n"
          ]
        },
        {
          "name": "stdout",
          "output_type": "stream",
          "text": [
            "Experiment: 3\n"
          ]
        },
        {
          "name": "stderr",
          "output_type": "stream",
          "text": [
            "100%|██████████| 5001/5001 [01:20<00:00, 62.25it/s] \n"
          ]
        },
        {
          "name": "stdout",
          "output_type": "stream",
          "text": [
            "Experiment: 4\n"
          ]
        },
        {
          "name": "stderr",
          "output_type": "stream",
          "text": [
            "100%|██████████| 5001/5001 [01:24<00:00, 59.24it/s]\n"
          ]
        },
        {
          "name": "stdout",
          "output_type": "stream",
          "text": [
            "Experiment: 5\n"
          ]
        },
        {
          "name": "stderr",
          "output_type": "stream",
          "text": [
            "100%|██████████| 5001/5001 [01:16<00:00, 65.27it/s] \n"
          ]
        },
        {
          "name": "stdout",
          "output_type": "stream",
          "text": [
            "| \u001b[0m10       \u001b[0m | \u001b[0m-111.4   \u001b[0m | \u001b[0m0.7224   \u001b[0m | \u001b[0m0.8823   \u001b[0m | \u001b[0m0.9159   \u001b[0m |\n",
            "Experiment: 1\n"
          ]
        },
        {
          "name": "stderr",
          "output_type": "stream",
          "text": [
            "100%|██████████| 5001/5001 [02:53<00:00, 28.76it/s]\n"
          ]
        },
        {
          "name": "stdout",
          "output_type": "stream",
          "text": [
            "Experiment: 2\n"
          ]
        },
        {
          "name": "stderr",
          "output_type": "stream",
          "text": [
            "100%|██████████| 5001/5001 [02:54<00:00, 28.60it/s]\n"
          ]
        },
        {
          "name": "stdout",
          "output_type": "stream",
          "text": [
            "Experiment: 3\n"
          ]
        },
        {
          "name": "stderr",
          "output_type": "stream",
          "text": [
            "100%|██████████| 5001/5001 [02:58<00:00, 28.09it/s]\n"
          ]
        },
        {
          "name": "stdout",
          "output_type": "stream",
          "text": [
            "Experiment: 4\n"
          ]
        },
        {
          "name": "stderr",
          "output_type": "stream",
          "text": [
            "100%|██████████| 5001/5001 [02:55<00:00, 28.47it/s]\n"
          ]
        },
        {
          "name": "stdout",
          "output_type": "stream",
          "text": [
            "Experiment: 5\n"
          ]
        },
        {
          "name": "stderr",
          "output_type": "stream",
          "text": [
            "100%|██████████| 5001/5001 [02:54<00:00, 28.64it/s]\n"
          ]
        },
        {
          "name": "stdout",
          "output_type": "stream",
          "text": [
            "| \u001b[0m11       \u001b[0m | \u001b[0m-352.8   \u001b[0m | \u001b[0m0.6909   \u001b[0m | \u001b[0m0.6756   \u001b[0m | \u001b[0m21.73    \u001b[0m |\n",
            "Experiment: 1\n"
          ]
        },
        {
          "name": "stderr",
          "output_type": "stream",
          "text": [
            "100%|██████████| 5001/5001 [01:45<00:00, 47.46it/s]\n"
          ]
        },
        {
          "name": "stdout",
          "output_type": "stream",
          "text": [
            "Experiment: 2\n"
          ]
        },
        {
          "name": "stderr",
          "output_type": "stream",
          "text": [
            "100%|██████████| 5001/5001 [01:46<00:00, 47.18it/s]\n"
          ]
        },
        {
          "name": "stdout",
          "output_type": "stream",
          "text": [
            "Experiment: 3\n"
          ]
        },
        {
          "name": "stderr",
          "output_type": "stream",
          "text": [
            "100%|██████████| 5001/5001 [01:45<00:00, 47.25it/s]\n"
          ]
        },
        {
          "name": "stdout",
          "output_type": "stream",
          "text": [
            "Experiment: 4\n"
          ]
        },
        {
          "name": "stderr",
          "output_type": "stream",
          "text": [
            "100%|██████████| 5001/5001 [01:46<00:00, 46.80it/s]\n"
          ]
        },
        {
          "name": "stdout",
          "output_type": "stream",
          "text": [
            "Experiment: 5\n"
          ]
        },
        {
          "name": "stderr",
          "output_type": "stream",
          "text": [
            "100%|██████████| 5001/5001 [01:44<00:00, 47.83it/s]\n"
          ]
        },
        {
          "name": "stdout",
          "output_type": "stream",
          "text": [
            "| \u001b[0m12       \u001b[0m | \u001b[0m-195.4   \u001b[0m | \u001b[0m0.1854   \u001b[0m | \u001b[0m0.9828   \u001b[0m | \u001b[0m14.69    \u001b[0m |\n",
            "Experiment: 1\n"
          ]
        },
        {
          "name": "stderr",
          "output_type": "stream",
          "text": [
            "100%|██████████| 5001/5001 [02:44<00:00, 30.41it/s]\n"
          ]
        },
        {
          "name": "stdout",
          "output_type": "stream",
          "text": [
            "Experiment: 2\n"
          ]
        },
        {
          "name": "stderr",
          "output_type": "stream",
          "text": [
            "100%|██████████| 5001/5001 [02:43<00:00, 30.59it/s]\n"
          ]
        },
        {
          "name": "stdout",
          "output_type": "stream",
          "text": [
            "Experiment: 3\n"
          ]
        },
        {
          "name": "stderr",
          "output_type": "stream",
          "text": [
            "100%|██████████| 5001/5001 [02:46<00:00, 29.95it/s]\n"
          ]
        },
        {
          "name": "stdout",
          "output_type": "stream",
          "text": [
            "Experiment: 4\n"
          ]
        },
        {
          "name": "stderr",
          "output_type": "stream",
          "text": [
            "100%|██████████| 5001/5001 [02:44<00:00, 30.38it/s]\n"
          ]
        },
        {
          "name": "stdout",
          "output_type": "stream",
          "text": [
            "Experiment: 5\n"
          ]
        },
        {
          "name": "stderr",
          "output_type": "stream",
          "text": [
            "100%|██████████| 5001/5001 [02:45<00:00, 30.29it/s]\n"
          ]
        },
        {
          "name": "stdout",
          "output_type": "stream",
          "text": [
            "| \u001b[0m13       \u001b[0m | \u001b[0m-301.5   \u001b[0m | \u001b[0m0.1439   \u001b[0m | \u001b[0m0.7499   \u001b[0m | \u001b[0m9.693    \u001b[0m |\n",
            "Experiment: 1\n"
          ]
        },
        {
          "name": "stderr",
          "output_type": "stream",
          "text": [
            "100%|██████████| 5001/5001 [02:56<00:00, 28.27it/s]\n"
          ]
        },
        {
          "name": "stdout",
          "output_type": "stream",
          "text": [
            "Experiment: 2\n"
          ]
        },
        {
          "name": "stderr",
          "output_type": "stream",
          "text": [
            "100%|██████████| 5001/5001 [02:56<00:00, 28.40it/s]\n"
          ]
        },
        {
          "name": "stdout",
          "output_type": "stream",
          "text": [
            "Experiment: 3\n"
          ]
        },
        {
          "name": "stderr",
          "output_type": "stream",
          "text": [
            "100%|██████████| 5001/5001 [02:55<00:00, 28.48it/s]\n"
          ]
        },
        {
          "name": "stdout",
          "output_type": "stream",
          "text": [
            "Experiment: 4\n"
          ]
        },
        {
          "name": "stderr",
          "output_type": "stream",
          "text": [
            "100%|██████████| 5001/5001 [02:52<00:00, 28.99it/s]\n"
          ]
        },
        {
          "name": "stdout",
          "output_type": "stream",
          "text": [
            "Experiment: 5\n"
          ]
        },
        {
          "name": "stderr",
          "output_type": "stream",
          "text": [
            "100%|██████████| 5001/5001 [02:52<00:00, 29.00it/s]\n"
          ]
        },
        {
          "name": "stdout",
          "output_type": "stream",
          "text": [
            "| \u001b[0m14       \u001b[0m | \u001b[0m-430.2   \u001b[0m | \u001b[0m0.6289   \u001b[0m | \u001b[0m0.8516   \u001b[0m | \u001b[0m38.05    \u001b[0m |\n",
            "Experiment: 1\n"
          ]
        },
        {
          "name": "stderr",
          "output_type": "stream",
          "text": [
            "100%|██████████| 5001/5001 [01:59<00:00, 41.87it/s]\n"
          ]
        },
        {
          "name": "stdout",
          "output_type": "stream",
          "text": [
            "Experiment: 2\n"
          ]
        },
        {
          "name": "stderr",
          "output_type": "stream",
          "text": [
            "100%|██████████| 5001/5001 [02:00<00:00, 41.65it/s]\n"
          ]
        },
        {
          "name": "stdout",
          "output_type": "stream",
          "text": [
            "Experiment: 3\n"
          ]
        },
        {
          "name": "stderr",
          "output_type": "stream",
          "text": [
            "100%|██████████| 5001/5001 [02:01<00:00, 41.09it/s]\n"
          ]
        },
        {
          "name": "stdout",
          "output_type": "stream",
          "text": [
            "Experiment: 4\n"
          ]
        },
        {
          "name": "stderr",
          "output_type": "stream",
          "text": [
            "100%|██████████| 5001/5001 [02:01<00:00, 41.26it/s]\n"
          ]
        },
        {
          "name": "stdout",
          "output_type": "stream",
          "text": [
            "Experiment: 5\n"
          ]
        },
        {
          "name": "stderr",
          "output_type": "stream",
          "text": [
            "100%|██████████| 5001/5001 [02:01<00:00, 41.29it/s]\n"
          ]
        },
        {
          "name": "stdout",
          "output_type": "stream",
          "text": [
            "| \u001b[0m15       \u001b[0m | \u001b[0m-302.8   \u001b[0m | \u001b[0m0.1      \u001b[0m | \u001b[0m0.999    \u001b[0m | \u001b[0m51.68    \u001b[0m |\n",
            "Experiment: 1\n"
          ]
        },
        {
          "name": "stderr",
          "output_type": "stream",
          "text": [
            "100%|██████████| 5001/5001 [02:48<00:00, 29.77it/s]\n"
          ]
        },
        {
          "name": "stdout",
          "output_type": "stream",
          "text": [
            "Experiment: 2\n"
          ]
        },
        {
          "name": "stderr",
          "output_type": "stream",
          "text": [
            "100%|██████████| 5001/5001 [02:51<00:00, 29.10it/s]\n"
          ]
        },
        {
          "name": "stdout",
          "output_type": "stream",
          "text": [
            "Experiment: 3\n"
          ]
        },
        {
          "name": "stderr",
          "output_type": "stream",
          "text": [
            "100%|██████████| 5001/5001 [02:51<00:00, 29.09it/s]\n"
          ]
        },
        {
          "name": "stdout",
          "output_type": "stream",
          "text": [
            "Experiment: 4\n"
          ]
        },
        {
          "name": "stderr",
          "output_type": "stream",
          "text": [
            "100%|██████████| 5001/5001 [02:48<00:00, 29.64it/s]\n"
          ]
        },
        {
          "name": "stdout",
          "output_type": "stream",
          "text": [
            "Experiment: 5\n"
          ]
        },
        {
          "name": "stderr",
          "output_type": "stream",
          "text": [
            "100%|██████████| 5001/5001 [02:51<00:00, 29.17it/s]\n"
          ]
        },
        {
          "name": "stdout",
          "output_type": "stream",
          "text": [
            "| \u001b[0m16       \u001b[0m | \u001b[0m-509.8   \u001b[0m | \u001b[0m0.5508   \u001b[0m | \u001b[0m0.8475   \u001b[0m | \u001b[0m59.81    \u001b[0m |\n",
            "Experiment: 1\n"
          ]
        },
        {
          "name": "stderr",
          "output_type": "stream",
          "text": [
            "100%|██████████| 5001/5001 [02:44<00:00, 30.39it/s]\n"
          ]
        },
        {
          "name": "stdout",
          "output_type": "stream",
          "text": [
            "Experiment: 2\n"
          ]
        },
        {
          "name": "stderr",
          "output_type": "stream",
          "text": [
            "100%|██████████| 5001/5001 [02:47<00:00, 29.83it/s]\n"
          ]
        },
        {
          "name": "stdout",
          "output_type": "stream",
          "text": [
            "Experiment: 3\n"
          ]
        },
        {
          "name": "stderr",
          "output_type": "stream",
          "text": [
            "100%|██████████| 5001/5001 [02:41<00:00, 30.99it/s]\n"
          ]
        },
        {
          "name": "stdout",
          "output_type": "stream",
          "text": [
            "Experiment: 4\n"
          ]
        },
        {
          "name": "stderr",
          "output_type": "stream",
          "text": [
            "100%|██████████| 5001/5001 [02:46<00:00, 30.06it/s]\n"
          ]
        },
        {
          "name": "stdout",
          "output_type": "stream",
          "text": [
            "Experiment: 5\n"
          ]
        },
        {
          "name": "stderr",
          "output_type": "stream",
          "text": [
            "100%|██████████| 5001/5001 [02:42<00:00, 30.84it/s]\n"
          ]
        },
        {
          "name": "stdout",
          "output_type": "stream",
          "text": [
            "| \u001b[0m17       \u001b[0m | \u001b[0m-389.6   \u001b[0m | \u001b[0m0.9072   \u001b[0m | \u001b[0m0.8673   \u001b[0m | \u001b[0m45.6     \u001b[0m |\n",
            "Experiment: 1\n"
          ]
        },
        {
          "name": "stderr",
          "output_type": "stream",
          "text": [
            "100%|██████████| 5001/5001 [02:58<00:00, 28.03it/s]\n"
          ]
        },
        {
          "name": "stdout",
          "output_type": "stream",
          "text": [
            "Experiment: 2\n"
          ]
        },
        {
          "name": "stderr",
          "output_type": "stream",
          "text": [
            "100%|██████████| 5001/5001 [03:00<00:00, 27.64it/s]\n"
          ]
        },
        {
          "name": "stdout",
          "output_type": "stream",
          "text": [
            "Experiment: 3\n"
          ]
        },
        {
          "name": "stderr",
          "output_type": "stream",
          "text": [
            "100%|██████████| 5001/5001 [02:57<00:00, 28.15it/s]\n"
          ]
        },
        {
          "name": "stdout",
          "output_type": "stream",
          "text": [
            "Experiment: 4\n"
          ]
        },
        {
          "name": "stderr",
          "output_type": "stream",
          "text": [
            "100%|██████████| 5001/5001 [03:00<00:00, 27.71it/s]\n"
          ]
        },
        {
          "name": "stdout",
          "output_type": "stream",
          "text": [
            "Experiment: 5\n"
          ]
        },
        {
          "name": "stderr",
          "output_type": "stream",
          "text": [
            "100%|██████████| 5001/5001 [02:55<00:00, 28.43it/s]\n"
          ]
        },
        {
          "name": "stdout",
          "output_type": "stream",
          "text": [
            "| \u001b[0m18       \u001b[0m | \u001b[0m-766.3   \u001b[0m | \u001b[0m0.1898   \u001b[0m | \u001b[0m0.6271   \u001b[0m | \u001b[0m942.1    \u001b[0m |\n",
            "Experiment: 1\n"
          ]
        },
        {
          "name": "stderr",
          "output_type": "stream",
          "text": [
            "100%|██████████| 5001/5001 [02:47<00:00, 29.88it/s]\n"
          ]
        },
        {
          "name": "stdout",
          "output_type": "stream",
          "text": [
            "Experiment: 2\n"
          ]
        },
        {
          "name": "stderr",
          "output_type": "stream",
          "text": [
            "100%|██████████| 5001/5001 [02:43<00:00, 30.63it/s]\n"
          ]
        },
        {
          "name": "stdout",
          "output_type": "stream",
          "text": [
            "Experiment: 3\n"
          ]
        },
        {
          "name": "stderr",
          "output_type": "stream",
          "text": [
            "100%|██████████| 5001/5001 [02:42<00:00, 30.72it/s]\n"
          ]
        },
        {
          "name": "stdout",
          "output_type": "stream",
          "text": [
            "Experiment: 4\n"
          ]
        },
        {
          "name": "stderr",
          "output_type": "stream",
          "text": [
            "100%|██████████| 5001/5001 [02:43<00:00, 30.61it/s]\n"
          ]
        },
        {
          "name": "stdout",
          "output_type": "stream",
          "text": [
            "Experiment: 5\n"
          ]
        },
        {
          "name": "stderr",
          "output_type": "stream",
          "text": [
            "100%|██████████| 5001/5001 [02:43<00:00, 30.63it/s]\n"
          ]
        },
        {
          "name": "stdout",
          "output_type": "stream",
          "text": [
            "| \u001b[0m19       \u001b[0m | \u001b[0m-668.3   \u001b[0m | \u001b[0m0.898    \u001b[0m | \u001b[0m0.872    \u001b[0m | \u001b[0m211.8    \u001b[0m |\n",
            "Experiment: 1\n"
          ]
        },
        {
          "name": "stderr",
          "output_type": "stream",
          "text": [
            "100%|██████████| 5001/5001 [02:36<00:00, 31.89it/s]\n"
          ]
        },
        {
          "name": "stdout",
          "output_type": "stream",
          "text": [
            "Experiment: 2\n"
          ]
        },
        {
          "name": "stderr",
          "output_type": "stream",
          "text": [
            "100%|██████████| 5001/5001 [02:37<00:00, 31.75it/s]\n"
          ]
        },
        {
          "name": "stdout",
          "output_type": "stream",
          "text": [
            "Experiment: 3\n"
          ]
        },
        {
          "name": "stderr",
          "output_type": "stream",
          "text": [
            "100%|██████████| 5001/5001 [02:37<00:00, 31.74it/s]\n"
          ]
        },
        {
          "name": "stdout",
          "output_type": "stream",
          "text": [
            "Experiment: 4\n"
          ]
        },
        {
          "name": "stderr",
          "output_type": "stream",
          "text": [
            "100%|██████████| 5001/5001 [02:35<00:00, 32.08it/s]\n"
          ]
        },
        {
          "name": "stdout",
          "output_type": "stream",
          "text": [
            "Experiment: 5\n"
          ]
        },
        {
          "name": "stderr",
          "output_type": "stream",
          "text": [
            "100%|██████████| 5001/5001 [02:32<00:00, 32.79it/s]\n"
          ]
        },
        {
          "name": "stdout",
          "output_type": "stream",
          "text": [
            "| \u001b[0m20       \u001b[0m | \u001b[0m-658.4   \u001b[0m | \u001b[0m0.4046   \u001b[0m | \u001b[0m0.9854   \u001b[0m | \u001b[0m304.2    \u001b[0m |\n",
            "Experiment: 1\n"
          ]
        },
        {
          "name": "stderr",
          "output_type": "stream",
          "text": [
            "100%|██████████| 5001/5001 [02:34<00:00, 32.29it/s]\n"
          ]
        },
        {
          "name": "stdout",
          "output_type": "stream",
          "text": [
            "Experiment: 2\n"
          ]
        },
        {
          "name": "stderr",
          "output_type": "stream",
          "text": [
            "100%|██████████| 5001/5001 [02:36<00:00, 32.05it/s]\n"
          ]
        },
        {
          "name": "stdout",
          "output_type": "stream",
          "text": [
            "Experiment: 3\n"
          ]
        },
        {
          "name": "stderr",
          "output_type": "stream",
          "text": [
            "100%|██████████| 5001/5001 [02:32<00:00, 32.69it/s]\n"
          ]
        },
        {
          "name": "stdout",
          "output_type": "stream",
          "text": [
            "Experiment: 4\n"
          ]
        },
        {
          "name": "stderr",
          "output_type": "stream",
          "text": [
            "100%|██████████| 5001/5001 [02:32<00:00, 32.84it/s]\n"
          ]
        },
        {
          "name": "stdout",
          "output_type": "stream",
          "text": [
            "Experiment: 5\n"
          ]
        },
        {
          "name": "stderr",
          "output_type": "stream",
          "text": [
            "100%|██████████| 5001/5001 [02:32<00:00, 32.79it/s]\n"
          ]
        },
        {
          "name": "stdout",
          "output_type": "stream",
          "text": [
            "| \u001b[0m21       \u001b[0m | \u001b[0m-698.0   \u001b[0m | \u001b[0m0.22     \u001b[0m | \u001b[0m0.9865   \u001b[0m | \u001b[0m477.8    \u001b[0m |\n",
            "Experiment: 1\n"
          ]
        },
        {
          "name": "stderr",
          "output_type": "stream",
          "text": [
            "100%|██████████| 5001/5001 [02:37<00:00, 31.83it/s]\n"
          ]
        },
        {
          "name": "stdout",
          "output_type": "stream",
          "text": [
            "Experiment: 2\n"
          ]
        },
        {
          "name": "stderr",
          "output_type": "stream",
          "text": [
            "100%|██████████| 5001/5001 [02:37<00:00, 31.74it/s]\n"
          ]
        },
        {
          "name": "stdout",
          "output_type": "stream",
          "text": [
            "Experiment: 3\n"
          ]
        },
        {
          "name": "stderr",
          "output_type": "stream",
          "text": [
            "100%|██████████| 5001/5001 [02:36<00:00, 31.97it/s]\n"
          ]
        },
        {
          "name": "stdout",
          "output_type": "stream",
          "text": [
            "Experiment: 4\n"
          ]
        },
        {
          "name": "stderr",
          "output_type": "stream",
          "text": [
            "100%|██████████| 5001/5001 [02:36<00:00, 31.93it/s]\n"
          ]
        },
        {
          "name": "stdout",
          "output_type": "stream",
          "text": [
            "Experiment: 5\n"
          ]
        },
        {
          "name": "stderr",
          "output_type": "stream",
          "text": [
            "100%|██████████| 5001/5001 [02:37<00:00, 31.73it/s]\n"
          ]
        },
        {
          "name": "stdout",
          "output_type": "stream",
          "text": [
            "| \u001b[0m22       \u001b[0m | \u001b[0m-765.4   \u001b[0m | \u001b[0m0.1544   \u001b[0m | \u001b[0m0.8181   \u001b[0m | \u001b[0m871.2    \u001b[0m |\n",
            "Experiment: 1\n"
          ]
        },
        {
          "name": "stderr",
          "output_type": "stream",
          "text": [
            "100%|██████████| 5001/5001 [02:33<00:00, 32.57it/s]\n"
          ]
        },
        {
          "name": "stdout",
          "output_type": "stream",
          "text": [
            "Experiment: 2\n"
          ]
        },
        {
          "name": "stderr",
          "output_type": "stream",
          "text": [
            "100%|██████████| 5001/5001 [02:32<00:00, 32.76it/s]\n"
          ]
        },
        {
          "name": "stdout",
          "output_type": "stream",
          "text": [
            "Experiment: 3\n"
          ]
        },
        {
          "name": "stderr",
          "output_type": "stream",
          "text": [
            "100%|██████████| 5001/5001 [02:34<00:00, 32.47it/s]\n"
          ]
        },
        {
          "name": "stdout",
          "output_type": "stream",
          "text": [
            "Experiment: 4\n"
          ]
        },
        {
          "name": "stderr",
          "output_type": "stream",
          "text": [
            "100%|██████████| 5001/5001 [02:33<00:00, 32.59it/s]\n"
          ]
        },
        {
          "name": "stdout",
          "output_type": "stream",
          "text": [
            "Experiment: 5\n"
          ]
        },
        {
          "name": "stderr",
          "output_type": "stream",
          "text": [
            "100%|██████████| 5001/5001 [02:33<00:00, 32.58it/s]\n"
          ]
        },
        {
          "name": "stdout",
          "output_type": "stream",
          "text": [
            "| \u001b[0m23       \u001b[0m | \u001b[0m-578.6   \u001b[0m | \u001b[0m0.9409   \u001b[0m | \u001b[0m0.6051   \u001b[0m | \u001b[0m74.28    \u001b[0m |\n",
            "Experiment: 1\n"
          ]
        },
        {
          "name": "stderr",
          "output_type": "stream",
          "text": [
            "100%|██████████| 5001/5001 [02:35<00:00, 32.11it/s]\n"
          ]
        },
        {
          "name": "stdout",
          "output_type": "stream",
          "text": [
            "Experiment: 2\n"
          ]
        },
        {
          "name": "stderr",
          "output_type": "stream",
          "text": [
            "100%|██████████| 5001/5001 [02:37<00:00, 31.74it/s]\n"
          ]
        },
        {
          "name": "stdout",
          "output_type": "stream",
          "text": [
            "Experiment: 3\n"
          ]
        },
        {
          "name": "stderr",
          "output_type": "stream",
          "text": [
            "100%|██████████| 5001/5001 [02:35<00:00, 32.13it/s]\n"
          ]
        },
        {
          "name": "stdout",
          "output_type": "stream",
          "text": [
            "Experiment: 4\n"
          ]
        },
        {
          "name": "stderr",
          "output_type": "stream",
          "text": [
            "100%|██████████| 5001/5001 [02:36<00:00, 31.89it/s]\n"
          ]
        },
        {
          "name": "stdout",
          "output_type": "stream",
          "text": [
            "Experiment: 5\n"
          ]
        },
        {
          "name": "stderr",
          "output_type": "stream",
          "text": [
            "100%|██████████| 5001/5001 [02:36<00:00, 32.04it/s]\n"
          ]
        },
        {
          "name": "stdout",
          "output_type": "stream",
          "text": [
            "| \u001b[0m24       \u001b[0m | \u001b[0m-742.9   \u001b[0m | \u001b[0m0.1574   \u001b[0m | \u001b[0m0.8507   \u001b[0m | \u001b[0m622.2    \u001b[0m |\n",
            "Experiment: 1\n"
          ]
        },
        {
          "name": "stderr",
          "output_type": "stream",
          "text": [
            "100%|██████████| 5001/5001 [02:33<00:00, 32.55it/s]\n"
          ]
        },
        {
          "name": "stdout",
          "output_type": "stream",
          "text": [
            "Experiment: 2\n"
          ]
        },
        {
          "name": "stderr",
          "output_type": "stream",
          "text": [
            "100%|██████████| 5001/5001 [02:34<00:00, 32.37it/s]\n"
          ]
        },
        {
          "name": "stdout",
          "output_type": "stream",
          "text": [
            "Experiment: 3\n"
          ]
        },
        {
          "name": "stderr",
          "output_type": "stream",
          "text": [
            "100%|██████████| 5001/5001 [02:34<00:00, 32.32it/s]\n"
          ]
        },
        {
          "name": "stdout",
          "output_type": "stream",
          "text": [
            "Experiment: 4\n"
          ]
        },
        {
          "name": "stderr",
          "output_type": "stream",
          "text": [
            "100%|██████████| 5001/5001 [02:34<00:00, 32.30it/s]\n"
          ]
        },
        {
          "name": "stdout",
          "output_type": "stream",
          "text": [
            "Experiment: 5\n"
          ]
        },
        {
          "name": "stderr",
          "output_type": "stream",
          "text": [
            "100%|██████████| 5001/5001 [02:35<00:00, 32.20it/s]\n"
          ]
        },
        {
          "name": "stdout",
          "output_type": "stream",
          "text": [
            "| \u001b[0m25       \u001b[0m | \u001b[0m-659.2   \u001b[0m | \u001b[0m0.669    \u001b[0m | \u001b[0m0.7477   \u001b[0m | \u001b[0m151.9    \u001b[0m |\n",
            "Experiment: 1\n"
          ]
        },
        {
          "name": "stderr",
          "output_type": "stream",
          "text": [
            "100%|██████████| 5001/5001 [02:23<00:00, 34.84it/s]\n"
          ]
        },
        {
          "name": "stdout",
          "output_type": "stream",
          "text": [
            "Experiment: 2\n"
          ]
        },
        {
          "name": "stderr",
          "output_type": "stream",
          "text": [
            "100%|██████████| 5001/5001 [02:24<00:00, 34.67it/s]\n"
          ]
        },
        {
          "name": "stdout",
          "output_type": "stream",
          "text": [
            "Experiment: 3\n"
          ]
        },
        {
          "name": "stderr",
          "output_type": "stream",
          "text": [
            "100%|██████████| 5001/5001 [02:24<00:00, 34.57it/s]\n"
          ]
        },
        {
          "name": "stdout",
          "output_type": "stream",
          "text": [
            "Experiment: 4\n"
          ]
        },
        {
          "name": "stderr",
          "output_type": "stream",
          "text": [
            "100%|██████████| 5001/5001 [02:22<00:00, 35.19it/s]\n"
          ]
        },
        {
          "name": "stdout",
          "output_type": "stream",
          "text": [
            "Experiment: 5\n"
          ]
        },
        {
          "name": "stderr",
          "output_type": "stream",
          "text": [
            "100%|██████████| 5001/5001 [02:22<00:00, 35.18it/s]\n"
          ]
        },
        {
          "name": "stdout",
          "output_type": "stream",
          "text": [
            "| \u001b[0m26       \u001b[0m | \u001b[0m-232.3   \u001b[0m | \u001b[0m0.999    \u001b[0m | \u001b[0m0.6      \u001b[0m | \u001b[0m0.1      \u001b[0m |\n",
            "Experiment: 1\n"
          ]
        },
        {
          "name": "stderr",
          "output_type": "stream",
          "text": [
            "100%|██████████| 5001/5001 [01:47<00:00, 46.60it/s]\n"
          ]
        },
        {
          "name": "stdout",
          "output_type": "stream",
          "text": [
            "Experiment: 2\n"
          ]
        },
        {
          "name": "stderr",
          "output_type": "stream",
          "text": [
            "100%|██████████| 5001/5001 [01:45<00:00, 47.56it/s]\n"
          ]
        },
        {
          "name": "stdout",
          "output_type": "stream",
          "text": [
            "Experiment: 3\n"
          ]
        },
        {
          "name": "stderr",
          "output_type": "stream",
          "text": [
            "100%|██████████| 5001/5001 [01:47<00:00, 46.58it/s]\n"
          ]
        },
        {
          "name": "stdout",
          "output_type": "stream",
          "text": [
            "Experiment: 4\n"
          ]
        },
        {
          "name": "stderr",
          "output_type": "stream",
          "text": [
            "100%|██████████| 5001/5001 [01:46<00:00, 47.07it/s]\n"
          ]
        },
        {
          "name": "stdout",
          "output_type": "stream",
          "text": [
            "Experiment: 5\n"
          ]
        },
        {
          "name": "stderr",
          "output_type": "stream",
          "text": [
            "100%|██████████| 5001/5001 [01:46<00:00, 46.84it/s]\n"
          ]
        },
        {
          "name": "stdout",
          "output_type": "stream",
          "text": [
            "| \u001b[0m27       \u001b[0m | \u001b[0m-189.1   \u001b[0m | \u001b[0m0.1139   \u001b[0m | \u001b[0m0.6776   \u001b[0m | \u001b[0m1.069    \u001b[0m |\n",
            "Experiment: 1\n"
          ]
        },
        {
          "name": "stderr",
          "output_type": "stream",
          "text": [
            "100%|██████████| 5001/5001 [02:17<00:00, 36.45it/s]\n"
          ]
        },
        {
          "name": "stdout",
          "output_type": "stream",
          "text": [
            "Experiment: 2\n"
          ]
        },
        {
          "name": "stderr",
          "output_type": "stream",
          "text": [
            "100%|██████████| 5001/5001 [02:17<00:00, 36.25it/s]\n"
          ]
        },
        {
          "name": "stdout",
          "output_type": "stream",
          "text": [
            "Experiment: 3\n"
          ]
        },
        {
          "name": "stderr",
          "output_type": "stream",
          "text": [
            "100%|██████████| 5001/5001 [02:12<00:00, 37.65it/s]\n"
          ]
        },
        {
          "name": "stdout",
          "output_type": "stream",
          "text": [
            "Experiment: 4\n"
          ]
        },
        {
          "name": "stderr",
          "output_type": "stream",
          "text": [
            "100%|██████████| 5001/5001 [02:15<00:00, 37.03it/s]\n"
          ]
        },
        {
          "name": "stdout",
          "output_type": "stream",
          "text": [
            "Experiment: 5\n"
          ]
        },
        {
          "name": "stderr",
          "output_type": "stream",
          "text": [
            "100%|██████████| 5001/5001 [02:13<00:00, 37.46it/s]\n"
          ]
        },
        {
          "name": "stdout",
          "output_type": "stream",
          "text": [
            "| \u001b[0m28       \u001b[0m | \u001b[0m-261.8   \u001b[0m | \u001b[0m0.6798   \u001b[0m | \u001b[0m0.7935   \u001b[0m | \u001b[0m13.38    \u001b[0m |\n",
            "Experiment: 1\n"
          ]
        },
        {
          "name": "stderr",
          "output_type": "stream",
          "text": [
            "100%|██████████| 5001/5001 [02:05<00:00, 39.88it/s]\n"
          ]
        },
        {
          "name": "stdout",
          "output_type": "stream",
          "text": [
            "Experiment: 2\n"
          ]
        },
        {
          "name": "stderr",
          "output_type": "stream",
          "text": [
            "100%|██████████| 5001/5001 [02:09<00:00, 38.54it/s]\n"
          ]
        },
        {
          "name": "stdout",
          "output_type": "stream",
          "text": [
            "Experiment: 3\n"
          ]
        },
        {
          "name": "stderr",
          "output_type": "stream",
          "text": [
            "100%|██████████| 5001/5001 [02:06<00:00, 39.53it/s]\n"
          ]
        },
        {
          "name": "stdout",
          "output_type": "stream",
          "text": [
            "Experiment: 4\n"
          ]
        },
        {
          "name": "stderr",
          "output_type": "stream",
          "text": [
            "100%|██████████| 5001/5001 [02:06<00:00, 39.65it/s]\n"
          ]
        },
        {
          "name": "stdout",
          "output_type": "stream",
          "text": [
            "Experiment: 5\n"
          ]
        },
        {
          "name": "stderr",
          "output_type": "stream",
          "text": [
            "100%|██████████| 5001/5001 [02:04<00:00, 40.20it/s]"
          ]
        },
        {
          "name": "stdout",
          "output_type": "stream",
          "text": [
            "| \u001b[0m29       \u001b[0m | \u001b[0m-248.5   \u001b[0m | \u001b[0m0.8811   \u001b[0m | \u001b[0m0.9098   \u001b[0m | \u001b[0m15.96    \u001b[0m |\n",
            "=============================================================\n"
          ]
        },
        {
          "name": "stderr",
          "output_type": "stream",
          "text": [
            "\n"
          ]
        }
      ],
      "source": [
        "optimizer.maximize(\n",
        "    init_points=9,\n",
        "    n_iter=20,\n",
        ")"
      ]
    },
    {
      "cell_type": "code",
      "execution_count": 30,
      "metadata": {},
      "outputs": [
        {
          "name": "stdout",
          "output_type": "stream",
          "text": [
            "Iteration 0: \n",
            "\t{'target': -30.208638272345528, 'params': {'alpha': 0.47490278222761406, 'gamma': 0.8874094728834211, 'parameter': 0.21436337986315215}}\n",
            "Iteration 1: \n",
            "\t{'target': -615.7604879024195, 'params': {'alpha': 0.3717969827960239, 'gamma': 0.6585556004360281, 'parameter': 92.4293609093209}}\n",
            "Iteration 2: \n",
            "\t{'target': -734.8847830433913, 'params': {'alpha': 0.2674479300285262, 'gamma': 0.737878730090176, 'parameter': 396.8277974832469}}\n",
            "Iteration 3: \n",
            "\t{'target': -759.3364527094581, 'params': {'alpha': 0.5843962438690179, 'gamma': 0.7672586112469146, 'parameter': 685.2509784467198}}\n",
            "Iteration 4: \n",
            "\t{'target': -359.66890621875626, 'params': {'alpha': 0.28380257250863417, 'gamma': 0.9503688571199872, 'parameter': 27.484854438606373}}\n",
            "Iteration 5: \n",
            "\t{'target': -748.5108178364327, 'params': {'alpha': 0.7027502916503836, 'gamma': 0.7665046161444836, 'parameter': 558.7339594629071}}\n",
            "Iteration 6: \n",
            "\t{'target': -763.6010397920415, 'params': {'alpha': 0.22620785779711516, 'gamma': 0.6790424941448666, 'parameter': 800.7644942186691}}\n",
            "Iteration 7: \n",
            "\t{'target': -754.990201959608, 'params': {'alpha': 0.9704671565717383, 'gamma': 0.7250562470855378, 'parameter': 692.3533834077472}}\n",
            "Iteration 8: \n",
            "\t{'target': -477.8733053389322, 'params': {'alpha': 0.8878738479141385, 'gamma': 0.956948058738035, 'parameter': 85.13570694864093}}\n",
            "Iteration 9: \n",
            "\t{'target': -111.44595080983802, 'params': {'alpha': 0.7223659615445914, 'gamma': 0.8823276043631201, 'parameter': 0.9159019558561089}}\n",
            "Iteration 10: \n",
            "\t{'target': -352.75852829434115, 'params': {'alpha': 0.6909293266206025, 'gamma': 0.6756468936795498, 'parameter': 21.72662964387746}}\n",
            "Iteration 11: \n",
            "\t{'target': -195.44063187362528, 'params': {'alpha': 0.1854307924372448, 'gamma': 0.982801013934717, 'parameter': 14.69171230922443}}\n",
            "Iteration 12: \n",
            "\t{'target': -301.5242951409718, 'params': {'alpha': 0.14385884559435552, 'gamma': 0.7499324021363076, 'parameter': 9.693494044290755}}\n",
            "Iteration 13: \n",
            "\t{'target': -430.1876424715057, 'params': {'alpha': 0.6289047069958542, 'gamma': 0.8515865180893407, 'parameter': 38.04637333779947}}\n",
            "Iteration 14: \n",
            "\t{'target': -302.84815036992603, 'params': {'alpha': 0.1, 'gamma': 0.999, 'parameter': 51.67523706729158}}\n",
            "Iteration 15: \n",
            "\t{'target': -509.8076784643072, 'params': {'alpha': 0.5507898558365146, 'gamma': 0.847481794564657, 'parameter': 59.81316364032803}}\n",
            "Iteration 16: \n",
            "\t{'target': -389.626274745051, 'params': {'alpha': 0.9071521825935716, 'gamma': 0.8672586187709272, 'parameter': 45.60182892442367}}\n",
            "Iteration 17: \n",
            "\t{'target': -766.2803839232154, 'params': {'alpha': 0.18982698649899557, 'gamma': 0.627134689918745, 'parameter': 942.148275350522}}\n",
            "Iteration 18: \n",
            "\t{'target': -668.2522295540891, 'params': {'alpha': 0.8980352396027954, 'gamma': 0.8719977210634391, 'parameter': 211.81527810339384}}\n",
            "Iteration 19: \n",
            "\t{'target': -658.4382723455309, 'params': {'alpha': 0.4046098280104682, 'gamma': 0.9853529632181837, 'parameter': 304.2372228447052}}\n",
            "Iteration 20: \n",
            "\t{'target': -697.9505298940212, 'params': {'alpha': 0.21998179852312244, 'gamma': 0.9864554836426075, 'parameter': 477.75056283300285}}\n",
            "Iteration 21: \n",
            "\t{'target': -765.4470705858828, 'params': {'alpha': 0.15444905487303506, 'gamma': 0.8181248497599335, 'parameter': 871.243492323895}}\n",
            "Iteration 22: \n",
            "\t{'target': -578.5848430313937, 'params': {'alpha': 0.9409360762367062, 'gamma': 0.6051209326267465, 'parameter': 74.2756491880033}}\n",
            "Iteration 23: \n",
            "\t{'target': -742.8535892821435, 'params': {'alpha': 0.15736242328434744, 'gamma': 0.8506852455870441, 'parameter': 622.1732348893152}}\n",
            "Iteration 24: \n",
            "\t{'target': -659.2320735852828, 'params': {'alpha': 0.669009095588686, 'gamma': 0.747665556050137, 'parameter': 151.85243523953676}}\n",
            "Iteration 25: \n",
            "\t{'target': -232.30633873225355, 'params': {'alpha': 0.999, 'gamma': 0.6, 'parameter': 0.1}}\n",
            "Iteration 26: \n",
            "\t{'target': -189.1238952209558, 'params': {'alpha': 0.11393720842819495, 'gamma': 0.677581982647512, 'parameter': 1.0692670011843137}}\n",
            "Iteration 27: \n",
            "\t{'target': -261.7710457908418, 'params': {'alpha': 0.6798356643203269, 'gamma': 0.7934895943731228, 'parameter': 13.377742926170866}}\n",
            "Iteration 28: \n",
            "\t{'target': -248.48646270745851, 'params': {'alpha': 0.8810981764881034, 'gamma': 0.9097978801479513, 'parameter': 15.96078567910828}}\n"
          ]
        }
      ],
      "source": [
        "for i, res in enumerate(optimizer.res):\n",
        "    print(\"Iteration {}: \\n\\t{}\".format(i, res))"
      ]
    },
    {
      "cell_type": "code",
      "execution_count": 31,
      "metadata": {},
      "outputs": [
        {
          "name": "stdout",
          "output_type": "stream",
          "text": [
            "{'target': -30.208638272345528, 'params': {'alpha': 0.47490278222761406, 'gamma': 0.8874094728834211, 'parameter': 0.21436337986315215}}\n"
          ]
        }
      ],
      "source": [
        "print(optimizer.max)"
      ]
    },
    {
      "cell_type": "markdown",
      "metadata": {},
      "source": [
        "change here"
      ]
    },
    {
      "cell_type": "code",
      "execution_count": 32,
      "metadata": {},
      "outputs": [
        {
          "name": "stdout",
          "output_type": "stream",
          "text": [
            "Experiment: 1\n"
          ]
        },
        {
          "name": "stderr",
          "output_type": "stream",
          "text": [
            "100%|██████████| 5001/5001 [00:26<00:00, 185.30it/s]\n"
          ]
        },
        {
          "name": "stdout",
          "output_type": "stream",
          "text": [
            "Experiment: 2\n"
          ]
        },
        {
          "name": "stderr",
          "output_type": "stream",
          "text": [
            "100%|██████████| 5001/5001 [00:27<00:00, 179.47it/s]\n"
          ]
        },
        {
          "name": "stdout",
          "output_type": "stream",
          "text": [
            "Experiment: 3\n"
          ]
        },
        {
          "name": "stderr",
          "output_type": "stream",
          "text": [
            "100%|██████████| 5001/5001 [00:25<00:00, 194.89it/s]\n"
          ]
        },
        {
          "name": "stdout",
          "output_type": "stream",
          "text": [
            "Experiment: 4\n"
          ]
        },
        {
          "name": "stderr",
          "output_type": "stream",
          "text": [
            "100%|██████████| 5001/5001 [00:21<00:00, 230.90it/s]\n"
          ]
        },
        {
          "name": "stdout",
          "output_type": "stream",
          "text": [
            "Experiment: 5\n"
          ]
        },
        {
          "name": "stderr",
          "output_type": "stream",
          "text": [
            "100%|██████████| 5001/5001 [00:31<00:00, 160.23it/s]"
          ]
        },
        {
          "name": "stdout",
          "output_type": "stream",
          "text": [
            "-31.577644471105778\n"
          ]
        },
        {
          "name": "stderr",
          "output_type": "stream",
          "text": [
            "\n"
          ]
        }
      ],
      "source": [
        "res = average_over_5_runs_sarsa_bayeian_softmax(optimizer.max[\"params\"][\"parameter\"], optimizer.max[\"params\"][\"alpha\"],optimizer.max[\"params\"][\"gamma\"])\n",
        "#change\n",
        "print(np.mean(res[0]))"
      ]
    },
    {
      "cell_type": "markdown",
      "metadata": {},
      "source": [
        "change"
      ]
    },
    {
      "cell_type": "code",
      "execution_count": 33,
      "metadata": {},
      "outputs": [
        {
          "name": "stdout",
          "output_type": "stream",
          "text": [
            "Experiment: 1\n"
          ]
        },
        {
          "name": "stderr",
          "output_type": "stream",
          "text": [
            "100%|██████████| 5001/5001 [00:25<00:00, 196.17it/s]\n"
          ]
        },
        {
          "name": "stdout",
          "output_type": "stream",
          "text": [
            "Experiment: 2\n"
          ]
        },
        {
          "name": "stderr",
          "output_type": "stream",
          "text": [
            "100%|██████████| 5001/5001 [00:21<00:00, 232.02it/s]\n"
          ]
        },
        {
          "name": "stdout",
          "output_type": "stream",
          "text": [
            "Experiment: 3\n"
          ]
        },
        {
          "name": "stderr",
          "output_type": "stream",
          "text": [
            "100%|██████████| 5001/5001 [00:20<00:00, 248.89it/s]\n"
          ]
        },
        {
          "name": "stdout",
          "output_type": "stream",
          "text": [
            "Experiment: 4\n"
          ]
        },
        {
          "name": "stderr",
          "output_type": "stream",
          "text": [
            "100%|██████████| 5001/5001 [00:22<00:00, 218.17it/s]\n"
          ]
        },
        {
          "name": "stdout",
          "output_type": "stream",
          "text": [
            "Experiment: 5\n"
          ]
        },
        {
          "name": "stderr",
          "output_type": "stream",
          "text": [
            "100%|██████████| 5001/5001 [00:22<00:00, 222.00it/s]\n"
          ]
        }
      ],
      "source": [
        "reward_avgs , steps_avgs,reward_std,steps_std =average_over_5_runs_sarsa_softmax(env,optimizer.max[\"params\"][\"parameter\"], optimizer.max[\"params\"][\"alpha\"],optimizer.max[\"params\"][\"gamma\"])\n",
        "#change"
      ]
    },
    {
      "cell_type": "code",
      "execution_count": 34,
      "metadata": {},
      "outputs": [
        {
          "data": {
            "image/png": "[encoded data removed]",
            "text/plain": [
              "<Figure size 640x480 with 1 Axes>"
            ]
          },
          "metadata": {},
          "output_type": "display_data"
        },
        {
          "data": {
            "text/plain": [
              "<Figure size 15000x1500 with 0 Axes>"
            ]
          },
          "metadata": {},
          "output_type": "display_data"
        },
        {
          "data": {
            "image/png": "[encoded data removed]",
            "text/plain": [
              "<Figure size 640x480 with 1 Axes>"
            ]
          },
          "metadata": {},
          "output_type": "display_data"
        },
        {
          "data": {
            "text/plain": [
              "<Figure size 1500x1500 with 0 Axes>"
            ]
          },
          "metadata": {},
          "output_type": "display_data"
        }
      ],
      "source": [
        "plt.figure()\n",
        "plt.xlabel('Episode')\n",
        "plt.ylabel('Number of steps to Goal')\n",
        "episode_count = np.arange(0, 5001)\n",
        "plt.plot(episode_count, steps_avgs,color=\"blue\")\n",
        "lower_steps = [steps_avgs[i] - steps_std[i] for i in range(len(episode_count))]\n",
        "upper_steps = [steps_avgs[i] + steps_std[i] for i in range(len(episode_count))]\n",
        "plt.fill_between(episode_count, lower_steps, upper_steps,color='yellow', alpha=0.5, label='± 1 Std Dev')\n",
        "plt.figure(figsize=(150, 15))\n",
        "plt.show()\n",
        "\n",
        "plt.figure()\n",
        "plt.xlabel('Episode')\n",
        "plt.ylabel('Total Reward')\n",
        "plt.plot(episode_count, reward_avgs)\n",
        "lower_steps = [reward_avgs[i] - reward_std[i] for i in range(len(episode_count))]\n",
        "upper_steps = [reward_avgs[i] + reward_std[i] for i in range(len(episode_count))]\n",
        "\n",
        "plt.plot(episode_count, reward_avgs,color = \"blue\")\n",
        "plt.fill_between(episode_count, lower_steps, upper_steps,color='yellow', alpha=0.5, label='± 1 Std Dev')\n",
        "plt.figure(figsize=(15, 15))\n",
        "plt.show()"
      ]
    },
    {
      "cell_type": "code",
      "execution_count": 35,
      "metadata": {},
      "outputs": [],
      "source": [
        "Q = np.zeros((env.num_rows, env.num_cols, env.num_actions))"
      ]
    },
    {
      "cell_type": "markdown",
      "metadata": {},
      "source": [
        "change"
      ]
    },
    {
      "cell_type": "code",
      "execution_count": 36,
      "metadata": {},
      "outputs": [
        {
          "name": "stdout",
          "output_type": "stream",
          "text": [
            "Episode 5000: Reward: -25.171717, Steps: 34.25, Qmax: 10.00, Qmin: -52.36\n"
          ]
        },
        {
          "data": {
            "image/png": "[encoded data removed]",
            "text/plain": [
              "<Figure size 1000x1000 with 2 Axes>"
            ]
          },
          "metadata": {},
          "output_type": "display_data"
        },
        {
          "data": {
            "image/png": "[encoded data removed]",
            "text/plain": [
              "<Figure size 1000x1000 with 2 Axes>"
            ]
          },
          "metadata": {},
          "output_type": "display_data"
        },
        {
          "name": "stderr",
          "output_type": "stream",
          "text": [
            "100%|██████████| 5001/5001 [00:35<00:00, 140.17it/s]\n"
          ]
        },
        {
          "data": {
            "image/png": "[encoded data removed]",
            "text/plain": [
              "<Figure size 1000x1000 with 2 Axes>"
            ]
          },
          "metadata": {},
          "output_type": "display_data"
        }
      ],
      "source": [
        "Q, rewards, step,state_visit_count,count_throughout = sarsa(env, Q,alpha = optimizer.max[\"params\"][\"alpha\"], parameter = optimizer.max[\"params\"][\"parameter\"], gamma = optimizer.max[\"params\"][\"gamma\"], plot_heat=True, choose_action= choose_action_softmax)\n",
        "#change"
      ]
    },
    {
      "cell_type": "code",
      "execution_count": 37,
      "metadata": {},
      "outputs": [
        {
          "data": {
            "image/png": "[encoded data removed]",
            "text/plain": [
              "<Figure size 1000x1000 with 2 Axes>"
            ]
          },
          "metadata": {},
          "output_type": "display_data"
        }
      ],
      "source": [
        "plot_state_visits(count_throughout)"
      ]
    }
  ],
  "metadata": {
    "colab": {
      "provenance": []
    },
    "kernelspec": {
      "display_name": "Python 3",
      "name": "python3"
    },
    "language_info": {
      "codemirror_mode": {
        "name": "ipython",
        "version": 3
      },
      "file_extension": ".py",
      "mimetype": "text/x-python",
      "name": "python",
      "nbconvert_exporter": "python",
      "pygments_lexer": "ipython3",
      "version": "3.10.13"
    }
  },
  "nbformat": 4,
  "nbformat_minor": 0
}
